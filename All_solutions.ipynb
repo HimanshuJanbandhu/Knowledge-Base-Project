{
 "cells": [
  {
   "cell_type": "code",
   "execution_count": 55,
   "id": "50c00fbd",
   "metadata": {},
   "outputs": [],
   "source": [
    "#tf-idf\n"
   ]
  },
  {
   "cell_type": "code",
   "execution_count": 80,
   "id": "e2656f8c",
   "metadata": {},
   "outputs": [
    {
     "name": "stderr",
     "output_type": "stream",
     "text": [
      "[nltk_data] Downloading package stopwords to\n",
      "[nltk_data]     /Users/himanshujanbandhu/nltk_data...\n",
      "[nltk_data]   Package stopwords is already up-to-date!\n",
      "[nltk_data] Downloading package punkt to\n",
      "[nltk_data]     /Users/himanshujanbandhu/nltk_data...\n",
      "[nltk_data]   Package punkt is already up-to-date!\n",
      "[nltk_data] Downloading package wordnet to\n",
      "[nltk_data]     /Users/himanshujanbandhu/nltk_data...\n",
      "[nltk_data]   Package wordnet is already up-to-date!\n"
     ]
    }
   ],
   "source": [
    "import pandas as pd\n",
    "import numpy as np\n",
    "import glob\n",
    "import string\n",
    "import nltk\n",
    "from nltk.corpus import stopwords\n",
    "from nltk.stem import PorterStemmer\n",
    "from nltk.stem import WordNetLemmatizer\n",
    "nltk.download('stopwords')\n",
    "nltk.download('punkt')\n",
    "nltk.download('wordnet')\n",
    "from nltk.tokenize import word_tokenize\n",
    "from sklearn.feature_extraction.text import TfidfVectorizer\n",
    "\n"
   ]
  },
  {
   "cell_type": "code",
   "execution_count": 81,
   "id": "efeaa514",
   "metadata": {},
   "outputs": [],
   "source": [
    "#Preprocessing\n",
    "\n",
    "#lowecase\n",
    "def lowerCase(dataset):\n",
    "    vec_lowerCase = np.vectorize(lambda x:x.lower())\n",
    "    dataset = vec_lowerCase(dataset)\n",
    "    return dataset\n",
    "    \n",
    "#remove stopwords\n",
    "stop_words = set(stopwords.words('english'))\n",
    "def remove_sw(dataset):\n",
    "    for i in range(len(dataset)):\n",
    "        word_tokens = word_tokenize(dataset[i])\n",
    "        new_text = ''\n",
    "        for word in word_tokens:\n",
    "            if word not in stop_words:\n",
    "                new_text = new_text + ' ' + word\n",
    "        \n",
    "        dataset[i] = new_text\n",
    "    return dataset\n",
    "        \n",
    "#remove punctuation\n",
    "def remove_punc(dataset):\n",
    "    stripPunct = str.maketrans('', '', string.punctuation)\n",
    "    vecTrans=np.vectorize(lambda x:x.translate(stripPunct))\n",
    "    dataset = vecTrans(dataset)\n",
    "    return dataset\n",
    "\n",
    "#stemming\n",
    "def stem(dataset):\n",
    "    ps = PorterStemmer()\n",
    "    for i in range(len(dataset)):\n",
    "        word_tokens = word_tokenize(dataset[i])\n",
    "        new_text = ''\n",
    "        for word in word_tokens:\n",
    "            new_text = new_text + ' ' + ps.stem(word)\n",
    "        dataset[i] = new_text\n",
    "    return dataset\n",
    "\n",
    "#lemmetization\n",
    "def lemmetization(dataset):\n",
    "    lemmatizer = WordNetLemmatizer()\n",
    "    for i in range(len(dataset)):\n",
    "        word_tokens = word_tokenize(dataset[i])\n",
    "        new_text = ''\n",
    "        for word in word_tokens:\n",
    "            new_text = new_text + ' ' + lemmatizer.lemmatize(word)\n",
    "        dataset[i] = new_text\n",
    "    return dataset\n"
   ]
  },
  {
   "cell_type": "code",
   "execution_count": 82,
   "id": "56f251ad",
   "metadata": {},
   "outputs": [
    {
     "name": "stdout",
     "output_type": "stream",
     "text": [
      "Owning a car is no longer a luxury, but it has become a necessity. Whether you drive to work or enjoy weekend drives with the family, having a car can simplify your travels and not to forget the ease and comfort it brings. Purchasing their dream vehicle is easier than ever before for millions of Indians – thanks to the widespread availability of car loans in India.\n"
     ]
    }
   ],
   "source": [
    "dataset = [\n",
    "    \"Owning a car is no longer a luxury, but it has become a necessity. Whether you drive to work or enjoy weekend drives with the family, having a car can simplify your travels and not to forget the ease and comfort it brings. Purchasing their dream vehicle is easier than ever before for millions of Indians – thanks to the widespread availability of car loans in India.\",\n",
    "    \"Car loans offer you the money for the vehicle upfront. You can then comfortably repay the borrowed amount via affordable monthly EMIs. An auto loan is a secured loan, as the car acts as the guarantee. There is no need to provide any additional asset or mortgage while procuring the loan.\",\n",
    "    \"Before you apply for an auto loan, you need to compare the interest rates charged by lenders. Even slight variations in the interest rates can play a huge role in increasing or reducing your overall burden.\",\n",
    "    \"To make it easy for you, here in this guide, we list out the interest rates charged by leading lenders for auto loans in India. You can use this handy table to quickly compare the interest rates before you make a decision.\"\n",
    "]\n",
    "\n",
    "database = dataset\n",
    "dataset = np.array(dataset, dtype=object)\n",
    "print(dataset[0])"
   ]
  },
  {
   "cell_type": "code",
   "execution_count": 75,
   "id": "c95baf31",
   "metadata": {},
   "outputs": [
    {
     "name": "stdout",
     "output_type": "stream",
     "text": [
      " car longer luxuri becom necess whether drive work enjoy weekend drive famili car simplifi travel forget ea comfort bring purcha dream vehicl easier ever million indian – thank widespread avail car loan india\n",
      "208\n"
     ]
    }
   ],
   "source": [
    "def preprocessing(dataset):\n",
    "    dataset = lowerCase(dataset)\n",
    "    dataset = remove_sw(dataset)\n",
    "    dataset = remove_punc(dataset)\n",
    "    #dataset = stem(dataset)\n",
    "    #dataset = lemmetization(dataset)\n",
    "    return dataset\n",
    "\n",
    "dataset = preprocessing(dataset)\n",
    "print(dataset[0])\n",
    "print(len(dataset[0]))"
   ]
  },
  {
   "cell_type": "code",
   "execution_count": 79,
   "id": "314779a0",
   "metadata": {},
   "outputs": [
    {
     "name": "stdout",
     "output_type": "stream",
     "text": [
      "['act', 'addit', 'afford', 'amount', 'appli', 'asset', 'auto', 'avail', 'becom', 'borrow', 'bring', 'burden', 'car', 'charg', 'comfort', 'compar', 'deci', 'dream', 'drive', 'ea', 'easi', 'easier', 'emi', 'enjoy', 'even', 'ever', 'famili', 'forget', 'guarant', 'guid', 'handi', 'huge', 'increa', 'india', 'indian', 'interest', 'lead', 'lender', 'list', 'loan', 'longer', 'luxuri', 'make', 'million', 'money', 'monthli', 'mortgag', 'necess', 'need', 'offer', 'play', 'procur', 'provid', 'purcha', 'quickli', 'rate', 'reduc', 'repay', 'role', 'secur', 'simplifi', 'slight', 'tabl', 'thank', 'travel', 'upfront', 'use', 'variat', 'vehicl', 'via', 'weekend', 'whether', 'widespread', 'work']\n",
      "           TF-IDF\n",
      "act      0.000000\n",
      "addit    0.000000\n",
      "afford   0.000000\n",
      "amount   0.000000\n",
      "appli    0.000000\n",
      "asset    0.000000\n",
      "auto     0.000000\n",
      "avail    0.169683\n",
      "becom    0.169683\n",
      "borrow   0.000000\n",
      "bring    0.169683\n",
      "burden   0.000000\n",
      "car      0.401340\n",
      "charg    0.000000\n",
      "comfort  0.133780\n",
      "compar   0.000000\n",
      "deci     0.000000\n",
      "dream    0.169683\n",
      "drive    0.339366\n",
      "ea       0.169683\n",
      "easi     0.000000\n",
      "easier   0.169683\n",
      "emi      0.000000\n",
      "enjoy    0.169683\n",
      "even     0.000000\n",
      "74\n"
     ]
    }
   ],
   "source": [
    "tfIdfVectorizer = TfidfVectorizer()\n",
    "tfIdf = tfIdfVectorizer.fit_transform(dataset)\n",
    "df = pd.DataFrame(tfIdf[0].T.todense(),index=tfIdfVectorizer.get_feature_names(), columns=[\"TF-IDF\"])\n",
    "#df = df.sort_values('TF-IDF', ascending=False)\n",
    "print(tfIdfVectorizer.get_feature_names())\n",
    "print (df.head(25))\n",
    "print(len(tfIdfVectorizer.get_feature_names()))"
   ]
  },
  {
   "cell_type": "code",
   "execution_count": 127,
   "id": "1c96bb4f",
   "metadata": {},
   "outputs": [
    {
     "name": "stdout",
     "output_type": "stream",
     "text": [
      "\n",
      "result  1 =============================\n",
      "To make it easy for you, here in this guide, we list out the interest rates charged by leading lenders for auto loans in India. You can use this handy table to quickly compare the interest rates before you make a decision.\n",
      "=============================\n",
      "result  2 =============================\n",
      "Before you apply for an auto loan, you need to compare the interest rates charged by lenders. Even slight variations in the interest rates can play a huge role in increasing or reducing your overall burden.\n",
      "=============================\n",
      "result  3 =============================\n",
      "Car loans offer you the money for the vehicle upfront. You can then comfortably repay the borrowed amount via affordable monthly EMIs. An auto loan is a secured loan, as the car acts as the guarantee. There is no need to provide any additional asset or mortgage while procuring the loan.\n",
      "=============================\n",
      "result  4 =============================\n",
      "Owning a car is no longer a luxury, but it has become a necessity. Whether you drive to work or enjoy weekend drives with the family, having a car can simplify your travels and not to forget the ease and comfort it brings. Purchasing their dream vehicle is easier than ever before for millions of Indians – thanks to the widespread availability of car loans in India.\n",
      "=============================\n"
     ]
    }
   ],
   "source": [
    "from sklearn.metrics.pairwise import cosine_similarity\n",
    "\n",
    "def search(query):\n",
    "    query = preprocessing(query)\n",
    "    query_vec = tfIdfVectorizer.transform(query)\n",
    "    print(query_vec)\n",
    "    results = cosine_similarity(tfIdf, query_vec)\n",
    "    #print(results)\n",
    "    out = np.argsort(results, axis=0)\n",
    "    #print(out)\n",
    "    k=1\n",
    "    for i in out[-4:][::-1]:\n",
    "        print(\"result \", k, \"=============================\")\n",
    "        print(database[i[0]])\n",
    "        print(\"=============================\")\n",
    "        k+=1\n",
    "    \n",
    "search([\"what does car loan offer\"])"
   ]
  },
  {
   "cell_type": "code",
   "execution_count": 62,
   "id": "ecc98ba6",
   "metadata": {},
   "outputs": [
    {
     "name": "stdout",
     "output_type": "stream",
     "text": [
      "result  1 =============================\n",
      "To make it easy for you, here in this guide, we list out the interest rates charged by leading lenders for auto loans in India. You can use this handy table to quickly compare the interest rates before you make a decision.\n",
      "=============================\n",
      "result  2 =============================\n",
      "Car loans offer you the money for the vehicle upfront. You can then comfortably repay the borrowed amount via affordable monthly EMIs. An auto loan is a secured loan, as the car acts as the guarantee. There is no need to provide any additional asset or mortgage while procuring the loan.\n",
      "=============================\n",
      "result  3 =============================\n",
      "Before you apply for an auto loan, you need to compare the interest rates charged by lenders. Even slight variations in the interest rates can play a huge role in increasing or reducing your overall burden.\n",
      "=============================\n",
      "result  4 =============================\n",
      "Owning a car is no longer a luxury, but it has become a necessity. Whether you drive to work or enjoy weekend drives with the family, having a car can simplify your travels and not to forget the ease and comfort it brings. Purchasing their dream vehicle is easier than ever before for millions of Indians – thanks to the widespread availability of car loans in India.\n",
      "=============================\n"
     ]
    }
   ],
   "source": [
    "search([\"guide me about loans\"])"
   ]
  },
  {
   "cell_type": "code",
   "execution_count": 63,
   "id": "3d4a4053",
   "metadata": {},
   "outputs": [],
   "source": [
    "#bagOfWords"
   ]
  },
  {
   "cell_type": "code",
   "execution_count": 64,
   "id": "59e5fe83",
   "metadata": {},
   "outputs": [
    {
     "name": "stdout",
     "output_type": "stream",
     "text": [
      "['act', 'addit', 'afford', 'amount', 'appli', 'asset', 'auto', 'avail', 'becom', 'borrow', 'bring', 'burden', 'car', 'charg', 'comfort', 'compar', 'decis', 'dream', 'drive', 'eas', 'easi', 'easier', 'emi', 'enjoy', 'even', 'ever', 'famili', 'forget', 'guarante', 'guid', 'handi', 'huge', 'increas', 'india', 'indian', 'interest', 'lead', 'lender', 'list', 'loan', 'longer', 'luxuri', 'make', 'million', 'money', 'monthli', 'mortgag', 'necess', 'need', 'offer', 'overal', 'own', 'play', 'procur', 'provid', 'purchas', 'quickli', 'rate', 'reduc', 'repay', 'role', 'secur', 'simplifi', 'slight', 'tabl', 'thank', 'travel', 'upfront', 'use', 'variat', 'vehicl', 'via', 'weekend', 'whether', 'widespread', 'work']\n",
      "[[0 0 0 0 0 0 0 1 1 0 1 0 3 0 1 0 0 1 2 1 0 1 0 1 0 1 1 1 0 0 0 0 0 1 1 0\n",
      "  0 0 0 1 1 1 0 1 0 0 0 1 0 0 0 1 0 0 0 1 0 0 0 0 0 0 1 0 0 1 1 0 0 0 1 0\n",
      "  1 1 1 1]\n",
      " [1 1 1 1 0 1 1 0 0 1 0 0 2 0 1 0 0 0 0 0 0 0 1 0 0 0 0 0 1 0 0 0 0 0 0 0\n",
      "  0 0 0 4 0 0 0 0 1 1 1 0 1 1 0 0 0 1 1 0 0 0 0 1 0 1 0 0 0 0 0 1 0 0 1 1\n",
      "  0 0 0 0]\n",
      " [0 0 0 0 1 0 1 0 0 0 0 1 0 1 0 1 0 0 0 0 0 0 0 0 1 0 0 0 0 0 0 1 1 0 0 2\n",
      "  0 1 0 1 0 0 0 0 0 0 0 0 1 0 1 0 1 0 0 0 0 2 1 0 1 0 0 1 0 0 0 0 0 1 0 0\n",
      "  0 0 0 0]\n",
      " [0 0 0 0 0 0 1 0 0 0 0 0 0 1 0 1 1 0 0 0 1 0 0 0 0 0 0 0 0 1 1 0 0 1 0 2\n",
      "  1 1 1 1 0 0 2 0 0 0 0 0 0 0 0 0 0 0 0 0 1 2 0 0 0 0 0 0 1 0 0 0 1 0 0 0\n",
      "  0 0 0 0]]\n"
     ]
    }
   ],
   "source": [
    "from sklearn.feature_extraction.text import CountVectorizer\n",
    "countVectorizer = CountVectorizer()\n",
    "BoW = countVectorizer.fit_transform(dataset)\n",
    "print(countVectorizer.get_feature_names())\n",
    "print(X.toarray())"
   ]
  },
  {
   "cell_type": "code",
   "execution_count": 65,
   "id": "5995b5d5",
   "metadata": {},
   "outputs": [],
   "source": [
    "def searchBoW(query):\n",
    "    query = preprocessing(query)\n",
    "    query_vec = countVectorizer.transform(query)\n",
    "    results = cosine_similarity(BoW, query_vec)\n",
    "    #print(results)\n",
    "    out = np.argsort(results, axis=0)\n",
    "    #print(out)\n",
    "    k=1\n",
    "    for i in out[-4:][::-1]:\n",
    "        print(\"result \", k, \"=============================\")\n",
    "        print(database[i[0]])\n",
    "        print(\"=============================\")\n",
    "        k+=1\n",
    "        \n",
    "        "
   ]
  },
  {
   "cell_type": "code",
   "execution_count": 52,
   "id": "cab11ed5",
   "metadata": {},
   "outputs": [
    {
     "name": "stdout",
     "output_type": "stream",
     "text": [
      "result  1 =============================\n",
      "Car loans offer you the money for the vehicle upfront. You can then comfortably repay the borrowed amount via affordable monthly EMIs. An auto loan is a secured loan, as the car acts as the guarantee. There is no need to provide any additional asset or mortgage while procuring the loan.\n",
      "=============================\n",
      "result  2 =============================\n",
      "Owning a car is no longer a luxury, but it has become a necessity. Whether you drive to work or enjoy weekend drives with the family, having a car can simplify your travels and not to forget the ease and comfort it brings. Purchasing their dream vehicle is easier than ever before for millions of Indians – thanks to the widespread availability of car loans in India.\n",
      "=============================\n",
      "result  3 =============================\n",
      "Before you apply for an auto loan, you need to compare the interest rates charged by lenders. Even slight variations in the interest rates can play a huge role in increasing or reducing your overall burden.\n",
      "=============================\n",
      "result  4 =============================\n",
      "To make it easy for you, here in this guide, we list out the interest rates charged by leading lenders for auto loans in India. You can use this handy table to quickly compare the interest rates before you make a decision.\n",
      "=============================\n"
     ]
    }
   ],
   "source": [
    "searchBoW([\"what does car loan offer\"])\n"
   ]
  },
  {
   "cell_type": "code",
   "execution_count": 54,
   "id": "b6cde30f",
   "metadata": {},
   "outputs": [
    {
     "name": "stdout",
     "output_type": "stream",
     "text": [
      "result  1 =============================\n",
      "Car loans offer you the money for the vehicle upfront. You can then comfortably repay the borrowed amount via affordable monthly EMIs. An auto loan is a secured loan, as the car acts as the guarantee. There is no need to provide any additional asset or mortgage while procuring the loan.\n",
      "=============================\n",
      "result  2 =============================\n",
      "To make it easy for you, here in this guide, we list out the interest rates charged by leading lenders for auto loans in India. You can use this handy table to quickly compare the interest rates before you make a decision.\n",
      "=============================\n",
      "result  3 =============================\n",
      "Before you apply for an auto loan, you need to compare the interest rates charged by lenders. Even slight variations in the interest rates can play a huge role in increasing or reducing your overall burden.\n",
      "=============================\n",
      "result  4 =============================\n",
      "Owning a car is no longer a luxury, but it has become a necessity. Whether you drive to work or enjoy weekend drives with the family, having a car can simplify your travels and not to forget the ease and comfort it brings. Purchasing their dream vehicle is easier than ever before for millions of Indians – thanks to the widespread availability of car loans in India.\n",
      "=============================\n"
     ]
    }
   ],
   "source": [
    "searchBoW([\"guide me about loans\"])"
   ]
  },
  {
   "cell_type": "code",
   "execution_count": 67,
   "id": "ded5be99",
   "metadata": {},
   "outputs": [
    {
     "data": {
      "text/html": [
       "<div>\n",
       "<style scoped>\n",
       "    .dataframe tbody tr th:only-of-type {\n",
       "        vertical-align: middle;\n",
       "    }\n",
       "\n",
       "    .dataframe tbody tr th {\n",
       "        vertical-align: top;\n",
       "    }\n",
       "\n",
       "    .dataframe thead th {\n",
       "        text-align: right;\n",
       "    }\n",
       "</style>\n",
       "<table border=\"1\" class=\"dataframe\">\n",
       "  <thead>\n",
       "    <tr style=\"text-align: right;\">\n",
       "      <th></th>\n",
       "      <th>TF-IDF</th>\n",
       "    </tr>\n",
       "  </thead>\n",
       "  <tbody>\n",
       "    <tr>\n",
       "      <th>car</th>\n",
       "      <td>0.395684</td>\n",
       "    </tr>\n",
       "    <tr>\n",
       "      <th>drive</th>\n",
       "      <td>0.334584</td>\n",
       "    </tr>\n",
       "    <tr>\n",
       "      <th>work</th>\n",
       "      <td>0.167292</td>\n",
       "    </tr>\n",
       "    <tr>\n",
       "      <th>dream</th>\n",
       "      <td>0.167292</td>\n",
       "    </tr>\n",
       "    <tr>\n",
       "      <th>own</th>\n",
       "      <td>0.167292</td>\n",
       "    </tr>\n",
       "  </tbody>\n",
       "</table>\n",
       "</div>"
      ],
      "text/plain": [
       "         TF-IDF\n",
       "car    0.395684\n",
       "drive  0.334584\n",
       "work   0.167292\n",
       "dream  0.167292\n",
       "own    0.167292"
      ]
     },
     "execution_count": 67,
     "metadata": {},
     "output_type": "execute_result"
    }
   ],
   "source": [
    "df.head()"
   ]
  },
  {
   "cell_type": "code",
   "execution_count": 159,
   "id": "a8ec1b60",
   "metadata": {},
   "outputs": [],
   "source": [
    "dataset = [\n",
    "    \"I play basketball\",\n",
    "    \"I play football\",\n",
    "    \"I play cricket\",\n",
    "    \"I play badminton\"\n",
    "]\n",
    "\n",
    "\n",
    "tfIdfVectorizer = TfidfVectorizer()\n",
    "tfIdf = tfIdfVectorizer.fit_transform(dataset)\n",
    "df = pd.DataFrame(tfIdf[0].T.todense(),index=tfIdfVectorizer.get_feature_names(), columns=[\"TF-IDF\"])\n",
    "#print(tfIdf)\n",
    "#print(df)\n",
    "\n"
   ]
  },
  {
   "cell_type": "code",
   "execution_count": 164,
   "id": "2d366eea",
   "metadata": {},
   "outputs": [
    {
     "name": "stdout",
     "output_type": "stream",
     "text": [
      "              TF-IDF\n",
      "badminton   0.000000\n",
      "basketball  0.886548\n",
      "cricket     0.000000\n",
      "football    0.000000\n",
      "play        0.462637\n"
     ]
    }
   ],
   "source": [
    "#print(tfIdf[0])\n",
    "#print(tfIdf[0].todense())\n",
    "print(df)"
   ]
  },
  {
   "cell_type": "code",
   "execution_count": 145,
   "id": "2870ccb1",
   "metadata": {},
   "outputs": [
    {
     "data": {
      "text/html": [
       "<div>\n",
       "<style scoped>\n",
       "    .dataframe tbody tr th:only-of-type {\n",
       "        vertical-align: middle;\n",
       "    }\n",
       "\n",
       "    .dataframe tbody tr th {\n",
       "        vertical-align: top;\n",
       "    }\n",
       "\n",
       "    .dataframe thead th {\n",
       "        text-align: right;\n",
       "    }\n",
       "</style>\n",
       "<table border=\"1\" class=\"dataframe\">\n",
       "  <thead>\n",
       "    <tr style=\"text-align: right;\">\n",
       "      <th></th>\n",
       "      <th>badminton</th>\n",
       "      <th>basketball</th>\n",
       "      <th>cricket</th>\n",
       "      <th>football</th>\n",
       "      <th>play</th>\n",
       "    </tr>\n",
       "  </thead>\n",
       "  <tbody>\n",
       "    <tr>\n",
       "      <th>Doc1</th>\n",
       "      <td>0.000000</td>\n",
       "      <td>0.886548</td>\n",
       "      <td>0.000000</td>\n",
       "      <td>0.000000</td>\n",
       "      <td>0.462637</td>\n",
       "    </tr>\n",
       "    <tr>\n",
       "      <th>Doc2</th>\n",
       "      <td>0.000000</td>\n",
       "      <td>0.000000</td>\n",
       "      <td>0.000000</td>\n",
       "      <td>0.886548</td>\n",
       "      <td>0.462637</td>\n",
       "    </tr>\n",
       "    <tr>\n",
       "      <th>Doc3</th>\n",
       "      <td>0.000000</td>\n",
       "      <td>0.000000</td>\n",
       "      <td>0.886548</td>\n",
       "      <td>0.000000</td>\n",
       "      <td>0.462637</td>\n",
       "    </tr>\n",
       "    <tr>\n",
       "      <th>Doc4</th>\n",
       "      <td>0.886548</td>\n",
       "      <td>0.000000</td>\n",
       "      <td>0.000000</td>\n",
       "      <td>0.000000</td>\n",
       "      <td>0.462637</td>\n",
       "    </tr>\n",
       "  </tbody>\n",
       "</table>\n",
       "</div>"
      ],
      "text/plain": [
       "      badminton  basketball   cricket  football      play\n",
       "Doc1   0.000000    0.886548  0.000000  0.000000  0.462637\n",
       "Doc2   0.000000    0.000000  0.000000  0.886548  0.462637\n",
       "Doc3   0.000000    0.000000  0.886548  0.000000  0.462637\n",
       "Doc4   0.886548    0.000000  0.000000  0.000000  0.462637"
      ]
     },
     "execution_count": 145,
     "metadata": {},
     "output_type": "execute_result"
    }
   ],
   "source": [
    "df_tfidfvect = pd.DataFrame(data = tfIdf.toarray(),index = ['Doc1','Doc2','Doc3','Doc4'],columns = tfIdfVectorizer.get_feature_names())\n",
    "df_tfidfvect"
   ]
  },
  {
   "cell_type": "code",
   "execution_count": 146,
   "id": "05de6c7b",
   "metadata": {},
   "outputs": [
    {
     "name": "stdout",
     "output_type": "stream",
     "text": [
      "['badminton', 'basketball', 'cricket', 'football', 'play']\n"
     ]
    }
   ],
   "source": [
    "print(tfIdfVectorizer.get_feature_names())"
   ]
  },
  {
   "cell_type": "code",
   "execution_count": 203,
   "id": "b5e2814b",
   "metadata": {},
   "outputs": [],
   "source": [
    "def searchNew(query):\n",
    "    #query = preprocessing(query)\n",
    "    #print(query)\n",
    "    query_vec = tfIdfVectorizer.transform(query)\n",
    "    #print(query_vec.todense())\n",
    "    results = cosine_similarity(tfIdf, query_vec)\n",
    "    #print(results)\n",
    "    out = np.argsort(results, axis=0)\n",
    "    #print(out[:-5:-1])\n",
    "    k=1\n",
    "    for i in out[:-5:-1]:\n",
    "        print(\"result \", k, \"=============================\")\n",
    "        print(dataset[i[0]])\n",
    "        print(\"=============================\")\n",
    "        k+=1\n",
    "        \n",
    "        \n",
    "        \n",
    "    "
   ]
  },
  {
   "cell_type": "code",
   "execution_count": 204,
   "id": "32c2b4c5",
   "metadata": {},
   "outputs": [
    {
     "name": "stdout",
     "output_type": "stream",
     "text": [
      "[[0.88654763]\n",
      " [0.        ]\n",
      " [0.        ]\n",
      " [0.        ]]\n",
      "[[0]\n",
      " [3]\n",
      " [2]\n",
      " [1]]\n",
      "result  1 =============================\n",
      "I play basketball\n",
      "=============================\n",
      "result  2 =============================\n",
      "I play badminton\n",
      "=============================\n",
      "result  3 =============================\n",
      "I play cricket\n",
      "=============================\n",
      "result  4 =============================\n",
      "I play football\n",
      "=============================\n"
     ]
    }
   ],
   "source": [
    "searchNew([\"get basketball\"])"
   ]
  },
  {
   "cell_type": "code",
   "execution_count": null,
   "id": "33811087",
   "metadata": {},
   "outputs": [],
   "source": []
  },
  {
   "cell_type": "code",
   "execution_count": null,
   "id": "914fd389",
   "metadata": {},
   "outputs": [],
   "source": []
  }
 ],
 "metadata": {
  "kernelspec": {
   "display_name": "Python 3 (ipykernel)",
   "language": "python",
   "name": "python3"
  },
  "language_info": {
   "codemirror_mode": {
    "name": "ipython",
    "version": 3
   },
   "file_extension": ".py",
   "mimetype": "text/x-python",
   "name": "python",
   "nbconvert_exporter": "python",
   "pygments_lexer": "ipython3",
   "version": "3.9.7"
  }
 },
 "nbformat": 4,
 "nbformat_minor": 5
}
