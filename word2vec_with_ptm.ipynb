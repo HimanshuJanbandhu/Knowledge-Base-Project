{
 "cells": [
  {
   "cell_type": "markdown",
   "metadata": {
    "id": "bNYdtDZmus5m"
   },
   "source": [
    "Word2Vec"
   ]
  },
  {
   "cell_type": "code",
   "execution_count": 6,
   "metadata": {
    "id": "ipVqNherbg5D"
   },
   "outputs": [],
   "source": [
    "import re\n",
    "import pandas as pd\n",
    "import numpy as np\n",
    "from sklearn.metrics.pairwise import cosine_similarity\n",
    "\n",
    "# Sample corpus\n",
    "documents = [\n",
    "'Owning a car is no longer a luxury, but it has become a necessity. Whether you drive to work or enjoy weekend drives with the family,\\\n",
    " having a car can simplify your travels and not to forget the ease and comfort it brings',\n",
    "'Purchasing their dream vehicle is easier than ever before for millions of Indians – thanks to the widespread availability of car loans in India.',\n",
    "'Car loans offer you the money for the vehicle upfront. You can then comfortably repay the borrowed amount via affordable monthly EMIs.',\n",
    "'An auto loan is a secured loan, as the car acts as the guarantee. There is no need to provide any additional asset or mortgage while procuring the loan.',\n",
    "'Before you apply for an auto loan, you need to compare the interest rates charged by lenders. Even slight variations in the interest rates can play a huge role in increasing or reducing your overall burden.',\n",
    "'To make it easy for you, here in this guide, we list out the interest rates charged by leading lenders for auto loans in India. You can use this handy table to quickly compare the interest rates before you make a decision.'\n",
    "]\n",
    "\n",
    "# Sample queries\n",
    "\n",
    "queries = [\n",
    "'what does car loan offer',\n",
    "'guide me about loans'\n",
    "]\n",
    "\n",
    "documents_df=pd.DataFrame(documents,columns=['documents'])\n",
    "queries_df = pd.DataFrame(queries,columns=['queries'])"
   ]
  },
  {
   "cell_type": "code",
   "execution_count": 7,
   "metadata": {
    "colab": {
     "base_uri": "https://localhost:8080/",
     "height": 237
    },
    "id": "DvdauKrWb1Xg",
    "outputId": "743e1cf6-f0aa-4b1d-89d8-6c4a35446c53"
   },
   "outputs": [
    {
     "data": {
      "text/html": [
       "<div>\n",
       "<style scoped>\n",
       "    .dataframe tbody tr th:only-of-type {\n",
       "        vertical-align: middle;\n",
       "    }\n",
       "\n",
       "    .dataframe tbody tr th {\n",
       "        vertical-align: top;\n",
       "    }\n",
       "\n",
       "    .dataframe thead th {\n",
       "        text-align: right;\n",
       "    }\n",
       "</style>\n",
       "<table border=\"1\" class=\"dataframe\">\n",
       "  <thead>\n",
       "    <tr style=\"text-align: right;\">\n",
       "      <th></th>\n",
       "      <th>documents</th>\n",
       "    </tr>\n",
       "  </thead>\n",
       "  <tbody>\n",
       "    <tr>\n",
       "      <th>0</th>\n",
       "      <td>Owning a car is no longer a luxury, but it has...</td>\n",
       "    </tr>\n",
       "    <tr>\n",
       "      <th>1</th>\n",
       "      <td>Purchasing their dream vehicle is easier than ...</td>\n",
       "    </tr>\n",
       "    <tr>\n",
       "      <th>2</th>\n",
       "      <td>Car loans offer you the money for the vehicle ...</td>\n",
       "    </tr>\n",
       "    <tr>\n",
       "      <th>3</th>\n",
       "      <td>An auto loan is a secured loan, as the car act...</td>\n",
       "    </tr>\n",
       "    <tr>\n",
       "      <th>4</th>\n",
       "      <td>Before you apply for an auto loan, you need to...</td>\n",
       "    </tr>\n",
       "    <tr>\n",
       "      <th>5</th>\n",
       "      <td>To make it easy for you, here in this guide, w...</td>\n",
       "    </tr>\n",
       "  </tbody>\n",
       "</table>\n",
       "</div>"
      ],
      "text/plain": [
       "                                           documents\n",
       "0  Owning a car is no longer a luxury, but it has...\n",
       "1  Purchasing their dream vehicle is easier than ...\n",
       "2  Car loans offer you the money for the vehicle ...\n",
       "3  An auto loan is a secured loan, as the car act...\n",
       "4  Before you apply for an auto loan, you need to...\n",
       "5  To make it easy for you, here in this guide, w..."
      ]
     },
     "execution_count": 7,
     "metadata": {},
     "output_type": "execute_result"
    }
   ],
   "source": [
    "documents_df"
   ]
  },
  {
   "cell_type": "code",
   "execution_count": 8,
   "metadata": {
    "colab": {
     "base_uri": "https://localhost:8080/",
     "height": 112
    },
    "id": "pEydwWk5b_JT",
    "outputId": "73c53a59-3b13-4dd9-c551-fe6aecc32a4a"
   },
   "outputs": [
    {
     "data": {
      "text/html": [
       "<div>\n",
       "<style scoped>\n",
       "    .dataframe tbody tr th:only-of-type {\n",
       "        vertical-align: middle;\n",
       "    }\n",
       "\n",
       "    .dataframe tbody tr th {\n",
       "        vertical-align: top;\n",
       "    }\n",
       "\n",
       "    .dataframe thead th {\n",
       "        text-align: right;\n",
       "    }\n",
       "</style>\n",
       "<table border=\"1\" class=\"dataframe\">\n",
       "  <thead>\n",
       "    <tr style=\"text-align: right;\">\n",
       "      <th></th>\n",
       "      <th>queries</th>\n",
       "    </tr>\n",
       "  </thead>\n",
       "  <tbody>\n",
       "    <tr>\n",
       "      <th>0</th>\n",
       "      <td>what does car loan offer</td>\n",
       "    </tr>\n",
       "    <tr>\n",
       "      <th>1</th>\n",
       "      <td>guide me about loans</td>\n",
       "    </tr>\n",
       "  </tbody>\n",
       "</table>\n",
       "</div>"
      ],
      "text/plain": [
       "                    queries\n",
       "0  what does car loan offer\n",
       "1      guide me about loans"
      ]
     },
     "execution_count": 8,
     "metadata": {},
     "output_type": "execute_result"
    }
   ],
   "source": [
    "queries_df"
   ]
  },
  {
   "cell_type": "code",
   "execution_count": 9,
   "metadata": {
    "colab": {
     "base_uri": "https://localhost:8080/"
    },
    "id": "cuLAATeseixy",
    "outputId": "8fc43dfa-62e8-4b10-fa35-81ffc028a1e2"
   },
   "outputs": [
    {
     "name": "stderr",
     "output_type": "stream",
     "text": [
      "[nltk_data] Downloading package stopwords to\n",
      "[nltk_data]     /Users/himanshujanbandhu/nltk_data...\n",
      "[nltk_data]   Package stopwords is already up-to-date!\n"
     ]
    }
   ],
   "source": [
    "import nltk\n",
    "nltk.download('stopwords')\n",
    "from nltk.corpus import stopwords"
   ]
  },
  {
   "cell_type": "code",
   "execution_count": 10,
   "metadata": {
    "id": "eCXnjgySe00D"
   },
   "outputs": [],
   "source": [
    "stop_words_l=stopwords.words('english')\n",
    "documents_df['documents_cleaned']=documents_df.documents.apply(lambda x: \" \".join(re.sub(r'[^a-zA-Z]',' ',w).lower() for w in x.split() if re.sub(r'[^a-zA-Z]',' ',w).lower() not in stop_words_l) )\n"
   ]
  },
  {
   "cell_type": "code",
   "execution_count": 11,
   "metadata": {
    "colab": {
     "base_uri": "https://localhost:8080/",
     "height": 237
    },
    "id": "39iFnQE6fIOj",
    "outputId": "f59192dd-c2a5-4d4b-852d-2c2ac0ac7889"
   },
   "outputs": [
    {
     "data": {
      "text/html": [
       "<div>\n",
       "<style scoped>\n",
       "    .dataframe tbody tr th:only-of-type {\n",
       "        vertical-align: middle;\n",
       "    }\n",
       "\n",
       "    .dataframe tbody tr th {\n",
       "        vertical-align: top;\n",
       "    }\n",
       "\n",
       "    .dataframe thead th {\n",
       "        text-align: right;\n",
       "    }\n",
       "</style>\n",
       "<table border=\"1\" class=\"dataframe\">\n",
       "  <thead>\n",
       "    <tr style=\"text-align: right;\">\n",
       "      <th></th>\n",
       "      <th>documents</th>\n",
       "      <th>documents_cleaned</th>\n",
       "    </tr>\n",
       "  </thead>\n",
       "  <tbody>\n",
       "    <tr>\n",
       "      <th>0</th>\n",
       "      <td>Owning a car is no longer a luxury, but it has...</td>\n",
       "      <td>owning car longer luxury  become necessity  wh...</td>\n",
       "    </tr>\n",
       "    <tr>\n",
       "      <th>1</th>\n",
       "      <td>Purchasing their dream vehicle is easier than ...</td>\n",
       "      <td>purchasing dream vehicle easier ever millions ...</td>\n",
       "    </tr>\n",
       "    <tr>\n",
       "      <th>2</th>\n",
       "      <td>Car loans offer you the money for the vehicle ...</td>\n",
       "      <td>car loans offer money vehicle upfront  comfort...</td>\n",
       "    </tr>\n",
       "    <tr>\n",
       "      <th>3</th>\n",
       "      <td>An auto loan is a secured loan, as the car act...</td>\n",
       "      <td>auto loan secured loan  car acts guarantee  ne...</td>\n",
       "    </tr>\n",
       "    <tr>\n",
       "      <th>4</th>\n",
       "      <td>Before you apply for an auto loan, you need to...</td>\n",
       "      <td>apply auto loan  need compare interest rates c...</td>\n",
       "    </tr>\n",
       "    <tr>\n",
       "      <th>5</th>\n",
       "      <td>To make it easy for you, here in this guide, w...</td>\n",
       "      <td>make easy you  guide  list interest rates char...</td>\n",
       "    </tr>\n",
       "  </tbody>\n",
       "</table>\n",
       "</div>"
      ],
      "text/plain": [
       "                                           documents  \\\n",
       "0  Owning a car is no longer a luxury, but it has...   \n",
       "1  Purchasing their dream vehicle is easier than ...   \n",
       "2  Car loans offer you the money for the vehicle ...   \n",
       "3  An auto loan is a secured loan, as the car act...   \n",
       "4  Before you apply for an auto loan, you need to...   \n",
       "5  To make it easy for you, here in this guide, w...   \n",
       "\n",
       "                                   documents_cleaned  \n",
       "0  owning car longer luxury  become necessity  wh...  \n",
       "1  purchasing dream vehicle easier ever millions ...  \n",
       "2  car loans offer money vehicle upfront  comfort...  \n",
       "3  auto loan secured loan  car acts guarantee  ne...  \n",
       "4  apply auto loan  need compare interest rates c...  \n",
       "5  make easy you  guide  list interest rates char...  "
      ]
     },
     "execution_count": 11,
     "metadata": {},
     "output_type": "execute_result"
    }
   ],
   "source": [
    "documents_df"
   ]
  },
  {
   "cell_type": "code",
   "execution_count": 12,
   "metadata": {
    "id": "movbDLVVfK2L"
   },
   "outputs": [],
   "source": [
    "queries_df['queries_cleaned']=queries_df.queries.apply(lambda x: \" \".join(re.sub(r'[^a-zA-Z]',' ',w).lower() for w in x.split() if re.sub(r'[^a-zA-Z]',' ',w).lower() not in stop_words_l) )\n"
   ]
  },
  {
   "cell_type": "code",
   "execution_count": 13,
   "metadata": {
    "colab": {
     "base_uri": "https://localhost:8080/",
     "height": 112
    },
    "id": "X6SM1stifer1",
    "outputId": "e9dbcd5c-bd93-491e-e334-f0ccb3d59680"
   },
   "outputs": [
    {
     "data": {
      "text/html": [
       "<div>\n",
       "<style scoped>\n",
       "    .dataframe tbody tr th:only-of-type {\n",
       "        vertical-align: middle;\n",
       "    }\n",
       "\n",
       "    .dataframe tbody tr th {\n",
       "        vertical-align: top;\n",
       "    }\n",
       "\n",
       "    .dataframe thead th {\n",
       "        text-align: right;\n",
       "    }\n",
       "</style>\n",
       "<table border=\"1\" class=\"dataframe\">\n",
       "  <thead>\n",
       "    <tr style=\"text-align: right;\">\n",
       "      <th></th>\n",
       "      <th>queries</th>\n",
       "      <th>queries_cleaned</th>\n",
       "    </tr>\n",
       "  </thead>\n",
       "  <tbody>\n",
       "    <tr>\n",
       "      <th>0</th>\n",
       "      <td>what does car loan offer</td>\n",
       "      <td>car loan offer</td>\n",
       "    </tr>\n",
       "    <tr>\n",
       "      <th>1</th>\n",
       "      <td>guide me about loans</td>\n",
       "      <td>guide loans</td>\n",
       "    </tr>\n",
       "  </tbody>\n",
       "</table>\n",
       "</div>"
      ],
      "text/plain": [
       "                    queries queries_cleaned\n",
       "0  what does car loan offer  car loan offer\n",
       "1      guide me about loans     guide loans"
      ]
     },
     "execution_count": 13,
     "metadata": {},
     "output_type": "execute_result"
    }
   ],
   "source": [
    "queries_df"
   ]
  },
  {
   "cell_type": "code",
   "execution_count": 14,
   "metadata": {
    "id": "bk2IfOYOiPA_"
   },
   "outputs": [],
   "source": [
    "# tokenize and pad every document to make them of the same size\n",
    "# from keras.preprocessing.text import Tokenizer\n",
    "# from keras.preprocessing.sequence import pad_sequences\n",
    "# tokenizer=Tokenizer()\n",
    "# tokenizer.fit_on_texts(documents_df.documents_cleaned)\n",
    "# tokenized_documents=tokenizer.texts_to_sequences(documents_df.documents_cleaned)\n",
    "# tokenized_paded_documents=pad_sequences(tokenized_documents,maxlen=64,padding='post')\n",
    "# vocab_size=len(tokenizer.word_index)+1\n",
    "# print (tokenized_documents[0])"
   ]
  },
  {
   "cell_type": "code",
   "execution_count": 15,
   "metadata": {
    "id": "Ud2bR_rGK3Bn"
   },
   "outputs": [],
   "source": [
    "# tokenizer.fit_on_texts(queries_df.queries_cleaned)\n",
    "# tokenized_queries = tokenizer.texts_to_sequences(queries_df.queries_cleaned)\n",
    "# tokenized_paded_queries=pad_sequences(tokenized_queries,maxlen=64,padding='post')\n",
    "# print (tokenized_queries[0])"
   ]
  },
  {
   "cell_type": "code",
   "execution_count": 16,
   "metadata": {
    "id": "u3AtxC1YMswg"
   },
   "outputs": [],
   "source": [
    "# from sklearn.metrics.pairwise import cosine_similarity"
   ]
  },
  {
   "cell_type": "code",
   "execution_count": 17,
   "metadata": {
    "id": "wRGf9Q_JkaEE"
   },
   "outputs": [],
   "source": [
    "# loading pre-trained embeddings, each word is represented as a 300 dimensional vector\n",
    "from gensim.models.word2vec import Word2Vec"
   ]
  },
  {
   "cell_type": "code",
   "execution_count": 18,
   "metadata": {
    "colab": {
     "base_uri": "https://localhost:8080/"
    },
    "id": "1E2L0wISuMqC",
    "outputId": "3d73e215-21af-4e1b-bc5b-dd04e74f09ad"
   },
   "outputs": [
    {
     "data": {
      "text/plain": [
       "[['owning',\n",
       "  'car',\n",
       "  'longer',\n",
       "  'luxury',\n",
       "  'become',\n",
       "  'necessity',\n",
       "  'whether',\n",
       "  'drive',\n",
       "  'work',\n",
       "  'enjoy',\n",
       "  'weekend',\n",
       "  'drives',\n",
       "  'family',\n",
       "  'car',\n",
       "  'simplify',\n",
       "  'travels',\n",
       "  'forget',\n",
       "  'ease',\n",
       "  'comfort',\n",
       "  'brings'],\n",
       " ['purchasing',\n",
       "  'dream',\n",
       "  'vehicle',\n",
       "  'easier',\n",
       "  'ever',\n",
       "  'millions',\n",
       "  'indians',\n",
       "  'thanks',\n",
       "  'widespread',\n",
       "  'availability',\n",
       "  'car',\n",
       "  'loans',\n",
       "  'india'],\n",
       " ['car',\n",
       "  'loans',\n",
       "  'offer',\n",
       "  'money',\n",
       "  'vehicle',\n",
       "  'upfront',\n",
       "  'comfortably',\n",
       "  'repay',\n",
       "  'borrowed',\n",
       "  'amount',\n",
       "  'via',\n",
       "  'affordable',\n",
       "  'monthly',\n",
       "  'emis'],\n",
       " ['auto',\n",
       "  'loan',\n",
       "  'secured',\n",
       "  'loan',\n",
       "  'car',\n",
       "  'acts',\n",
       "  'guarantee',\n",
       "  'need',\n",
       "  'provide',\n",
       "  'additional',\n",
       "  'asset',\n",
       "  'mortgage',\n",
       "  'procuring',\n",
       "  'loan'],\n",
       " ['apply',\n",
       "  'auto',\n",
       "  'loan',\n",
       "  'need',\n",
       "  'compare',\n",
       "  'interest',\n",
       "  'rates',\n",
       "  'charged',\n",
       "  'lenders',\n",
       "  'even',\n",
       "  'slight',\n",
       "  'variations',\n",
       "  'interest',\n",
       "  'rates',\n",
       "  'play',\n",
       "  'huge',\n",
       "  'role',\n",
       "  'increasing',\n",
       "  'reducing',\n",
       "  'overall',\n",
       "  'burden'],\n",
       " ['make',\n",
       "  'easy',\n",
       "  'you',\n",
       "  'guide',\n",
       "  'list',\n",
       "  'interest',\n",
       "  'rates',\n",
       "  'charged',\n",
       "  'leading',\n",
       "  'lenders',\n",
       "  'auto',\n",
       "  'loans',\n",
       "  'india',\n",
       "  'use',\n",
       "  'handy',\n",
       "  'table',\n",
       "  'quickly',\n",
       "  'compare',\n",
       "  'interest',\n",
       "  'rates',\n",
       "  'make',\n",
       "  'decision']]"
      ]
     },
     "execution_count": 18,
     "metadata": {},
     "output_type": "execute_result"
    }
   ],
   "source": [
    "lst = documents_df.documents_cleaned.tolist()\n",
    "corpus = [x.split() for x in lst]\n",
    "corpus"
   ]
  },
  {
   "cell_type": "code",
   "execution_count": 19,
   "metadata": {
    "id": "YOrrw0e1k7ls"
   },
   "outputs": [],
   "source": [
    "model = Word2Vec(corpus,min_count=1,size= 50,window =5, sg = 1)"
   ]
  },
  {
   "cell_type": "code",
   "execution_count": 20,
   "metadata": {
    "colab": {
     "base_uri": "https://localhost:8080/"
    },
    "id": "EnLEnOmxVyje",
    "outputId": "0f60b737-ca19-4fe1-8ce6-15d4d34b6ed8"
   },
   "outputs": [
    {
     "name": "stdout",
     "output_type": "stream",
     "text": [
      "Vocabulary size: 80\n"
     ]
    }
   ],
   "source": [
    "print('Vocabulary size:', len(model.wv.vocab))"
   ]
  },
  {
   "cell_type": "code",
   "execution_count": 21,
   "metadata": {
    "colab": {
     "base_uri": "https://localhost:8080/"
    },
    "id": "2tS1iVne8Se7",
    "outputId": "c12371e5-50cf-4401-dc61-26908f6cb094"
   },
   "outputs": [
    {
     "data": {
      "text/plain": [
       "50"
      ]
     },
     "execution_count": 21,
     "metadata": {},
     "output_type": "execute_result"
    }
   ],
   "source": [
    "model.vector_size"
   ]
  },
  {
   "cell_type": "code",
   "execution_count": 22,
   "metadata": {
    "id": "gB7WFuhe8mkP"
   },
   "outputs": [],
   "source": [
    "my_dict = dict({})\n",
    "for idx, key in enumerate(model.wv.vocab):\n",
    "    my_dict[key] = model.wv[key]"
   ]
  },
  {
   "cell_type": "code",
   "execution_count": 23,
   "metadata": {
    "colab": {
     "base_uri": "https://localhost:8080/"
    },
    "id": "T3WPgiQW9i1n",
    "outputId": "7dfcf42a-d388-4e83-f9af-e5bde458372e"
   },
   "outputs": [
    {
     "data": {
      "text/plain": [
       "{'owning': array([ 0.00136722,  0.00073302, -0.00312678, -0.00843529, -0.00012492,\n",
       "         0.00358586,  0.00995158,  0.00784087, -0.00539048,  0.00616643,\n",
       "        -0.00563996,  0.00810973,  0.00928352, -0.00347594,  0.00532333,\n",
       "         0.00586007,  0.00423579,  0.00237673, -0.0093098 ,  0.00609129,\n",
       "        -0.00837261, -0.00056596, -0.00981516, -0.00349451, -0.00253408,\n",
       "         0.00594895,  0.00265248, -0.00679193,  0.00739154,  0.00383918,\n",
       "        -0.00739351,  0.00939363, -0.00628943, -0.0023068 , -0.00632067,\n",
       "         0.00488165,  0.00902812, -0.0073284 , -0.00842327,  0.00097731,\n",
       "        -0.00383816,  0.00144603, -0.00429299,  0.00019618,  0.00794138,\n",
       "        -0.00628094, -0.00216637,  0.0013938 , -0.00870527, -0.00493647],\n",
       "       dtype=float32),\n",
       " 'car': array([-0.00384832,  0.00579113, -0.00235709, -0.00637885, -0.0036277 ,\n",
       "         0.00776676,  0.00751472, -0.00672752,  0.00175185, -0.00259413,\n",
       "        -0.00324512,  0.00325516, -0.00257964, -0.00025642, -0.0008734 ,\n",
       "         0.00874694, -0.00686345, -0.00159106, -0.00159338, -0.00437157,\n",
       "        -0.001232  , -0.00069994,  0.00828842, -0.00888317,  0.00551165,\n",
       "        -0.0085811 ,  0.00753989,  0.00980162,  0.00704989, -0.00139966,\n",
       "        -0.01004045, -0.00071577,  0.00857181, -0.00513392,  0.00334655,\n",
       "         0.00856241,  0.00605729, -0.00041553, -0.00145505,  0.0027545 ,\n",
       "        -0.0071741 ,  0.00551501,  0.00156636,  0.00353527,  0.00485236,\n",
       "         0.00454369, -0.00716588,  0.00407123, -0.00234449, -0.00805455],\n",
       "       dtype=float32),\n",
       " 'longer': array([-8.9692408e-03, -7.7249990e-03, -7.2538955e-03, -1.8877831e-03,\n",
       "        -5.7245716e-03, -7.8036902e-03, -9.1883307e-03,  5.4848599e-03,\n",
       "         2.6099621e-03,  8.1352089e-03,  5.0404971e-03,  9.0840757e-03,\n",
       "        -2.8715059e-03, -9.9072419e-04, -9.7627826e-03, -7.4401554e-03,\n",
       "         7.0202216e-03, -4.5233681e-03, -2.3804437e-03,  1.8721638e-04,\n",
       "        -7.2253225e-03,  9.7321142e-03, -2.2173983e-03, -4.6194205e-04,\n",
       "         5.4004635e-03, -1.2967910e-03, -6.4875130e-03,  1.2738652e-03,\n",
       "        -6.1099869e-03,  9.0764165e-03, -1.5349573e-03, -3.2930365e-03,\n",
       "        -8.6604683e-05, -7.5418679e-03, -5.2509014e-03, -3.0408616e-03,\n",
       "         1.2984826e-03, -2.3387885e-03,  6.1199779e-04,  6.5844520e-03,\n",
       "        -2.2175261e-03, -7.4226223e-04,  1.5904060e-04, -9.5809326e-03,\n",
       "        -2.7941400e-03,  2.6787182e-03,  6.6101579e-03, -5.1007960e-03,\n",
       "        -1.6543437e-03, -5.1251319e-03], dtype=float32),\n",
       " 'luxury': array([-0.0082435 , -0.00835127, -0.00442166,  0.00161615,  0.00293404,\n",
       "         0.00960221, -0.00454841, -0.00865545, -0.00181402, -0.00387096,\n",
       "         0.0091179 ,  0.00356236,  0.00613027,  0.00691696,  0.00628837,\n",
       "        -0.00156923, -0.0067372 ,  0.00666685,  0.00045694,  0.00386867,\n",
       "        -0.00250162, -0.0046697 , -0.00058611,  0.00220694,  0.00999428,\n",
       "         0.00898103, -0.00078545, -0.00036574, -0.00970591,  0.00963138,\n",
       "         0.00898972, -0.00214625, -0.00962185,  0.00824424, -0.00270596,\n",
       "         0.00798847, -0.00388408, -0.00739436,  0.00810866, -0.0032023 ,\n",
       "         0.00213729, -0.00745252,  0.00642073,  0.00861137,  0.00756797,\n",
       "         0.00899898,  0.00060694, -0.00059818,  0.0024211 ,  0.00579041],\n",
       "       dtype=float32),\n",
       " 'become': array([ 4.6085389e-03, -7.4031493e-03, -9.0725729e-03, -1.1668162e-03,\n",
       "        -3.4210524e-03, -2.9637397e-03,  5.9198821e-03, -4.8832912e-03,\n",
       "        -3.7053712e-03,  2.4873286e-03, -1.1288760e-03, -2.1179370e-03,\n",
       "         4.4940342e-03, -7.1205185e-03, -2.2925509e-03, -9.9287294e-03,\n",
       "        -3.8788049e-04,  6.4769352e-04, -9.2841061e-03,  2.0138910e-05,\n",
       "        -7.0127109e-03, -4.7130766e-03,  8.1019994e-04,  7.1140450e-05,\n",
       "        -1.4243440e-03, -1.1596107e-03, -7.1666129e-03, -9.8653054e-03,\n",
       "        -4.3196540e-04, -5.4640719e-03,  2.5309294e-03,  7.2407010e-03,\n",
       "        -7.9810070e-03, -4.6373717e-03, -5.5510723e-03, -7.3970053e-03,\n",
       "        -6.7809257e-03, -9.8208776e-03, -2.8764606e-03, -8.7939939e-03,\n",
       "         4.7271913e-03, -6.8906858e-03, -5.6705158e-03,  8.7114805e-03,\n",
       "         8.6785369e-03,  7.0512583e-03, -3.2485644e-03,  7.1078134e-03,\n",
       "         8.5283042e-04, -4.9304025e-04], dtype=float32),\n",
       " 'necessity': array([ 4.7133211e-03,  7.9554990e-03, -1.6695368e-03,  3.5919962e-03,\n",
       "        -8.1327055e-03,  2.3341072e-03,  4.3366160e-03, -9.2521980e-03,\n",
       "         5.3560841e-03,  8.8431034e-03,  5.7758723e-04, -2.8624644e-03,\n",
       "         7.9150507e-03,  8.2854331e-03,  9.2234584e-03,  2.0963815e-04,\n",
       "         8.8685853e-03,  3.6130501e-03, -7.8234967e-05,  5.8424622e-03,\n",
       "        -2.3229579e-03, -7.9066176e-03, -7.0838183e-03,  2.9401316e-03,\n",
       "         4.8428695e-03,  5.6688986e-03, -2.6099186e-04, -6.6753724e-03,\n",
       "         7.6578446e-03,  5.2012787e-03, -7.1434416e-03,  8.3852308e-03,\n",
       "        -9.7156763e-03, -9.8257717e-03,  9.6246731e-03,  2.4819891e-03,\n",
       "        -2.2376715e-03,  6.2737511e-03,  9.8897610e-03, -4.4074156e-03,\n",
       "        -9.8195951e-03,  7.1805241e-03, -9.2509957e-03, -1.5287115e-03,\n",
       "        -5.4967185e-03, -9.9629480e-03,  5.4036239e-03, -1.3132424e-03,\n",
       "        -3.3658528e-04, -6.7191706e-03], dtype=float32),\n",
       " 'whether': array([ 3.3864554e-03,  6.9766836e-03, -1.1612051e-03, -1.9712986e-03,\n",
       "        -5.1943213e-03, -3.2165642e-03, -6.7742448e-03,  4.6453526e-04,\n",
       "        -8.3250701e-03, -2.8932076e-03, -8.1136301e-03, -8.1466045e-03,\n",
       "        -4.6961466e-03,  6.6149412e-03,  7.2116102e-03, -6.5070521e-03,\n",
       "         8.4399479e-03, -4.6521095e-03, -4.6790442e-03,  3.3603357e-03,\n",
       "         1.1460766e-03, -2.9520825e-03,  3.9651785e-03, -2.0415906e-03,\n",
       "         5.5063148e-03, -8.3536236e-03,  2.6816798e-03, -5.9488872e-03,\n",
       "        -3.2487370e-03,  2.1473891e-03,  2.8302444e-03,  4.7905529e-03,\n",
       "         1.6092106e-03,  8.4466655e-03, -7.0433519e-03, -2.7762891e-03,\n",
       "         6.7662116e-04, -9.4460212e-03,  2.0713699e-03,  3.2006553e-03,\n",
       "        -2.9044710e-03, -3.8510137e-03, -9.9673774e-03,  6.3374555e-03,\n",
       "        -8.4466644e-04, -7.9531426e-05, -2.6382194e-03,  5.0689657e-03,\n",
       "        -9.0660593e-03, -1.0695487e-03], dtype=float32),\n",
       " 'drive': array([ 4.4226408e-04,  1.0551962e-03, -8.1386287e-03, -7.2937692e-03,\n",
       "         4.4981265e-03, -5.3598476e-03, -1.1942236e-03,  5.0801737e-03,\n",
       "        -3.5980539e-03, -4.4044191e-03, -9.4810138e-03, -8.3695566e-03,\n",
       "        -8.9612221e-03,  2.5920859e-03, -3.6907458e-04,  9.2124594e-03,\n",
       "        -5.9053926e-03,  1.1238862e-03,  2.3677957e-04, -2.6090275e-03,\n",
       "        -8.7338239e-03, -4.0474501e-03, -2.3638138e-03,  6.3127740e-03,\n",
       "        -9.3106823e-03,  8.2234101e-04, -6.8120258e-03,  9.7749886e-05,\n",
       "        -9.0859709e-03, -5.3936569e-04, -3.2843344e-03,  4.1761976e-03,\n",
       "        -1.7108324e-03, -4.4511589e-03,  5.6960406e-03, -5.2197319e-03,\n",
       "         4.6779294e-03,  4.6993485e-03,  4.6151839e-03,  9.9821659e-03,\n",
       "        -9.6703554e-03, -4.2669945e-03,  2.6585590e-03, -8.3168494e-03,\n",
       "         3.3339583e-03, -2.4611696e-03, -7.8706928e-03, -7.0631742e-03,\n",
       "        -5.8555556e-04,  6.8710749e-03], dtype=float32),\n",
       " 'work': array([-0.00565585, -0.00737306,  0.00773329,  0.00175783,  0.00255107,\n",
       "         0.00597949, -0.00091472,  0.00378267,  0.00851164,  0.00347476,\n",
       "         0.00496425,  0.00155709, -0.007829  ,  0.00875158, -0.00436025,\n",
       "         0.0085057 ,  0.00637441,  0.00982962,  0.00763147,  0.00392413,\n",
       "        -0.00555172,  0.00665774,  0.00180979, -0.00568008, -0.00758875,\n",
       "         0.0027886 ,  0.00596734, -0.00266603,  0.00144824,  0.0053635 ,\n",
       "        -0.00091451, -0.00521311, -0.00996651, -0.00695456,  0.00415189,\n",
       "         0.00990802,  0.00324815,  0.00973808, -0.00957977, -0.00397458,\n",
       "         0.00919551,  0.00761433, -0.00669783,  0.00845041,  0.00185082,\n",
       "         0.00890888,  0.00868063,  0.00507602, -0.00826867,  0.00921111],\n",
       "       dtype=float32),\n",
       " 'enjoy': array([-0.00224508,  0.0077166 ,  0.00502739, -0.00493929,  0.00954016,\n",
       "        -0.00405184,  0.00313925, -0.00761115,  0.00120671, -0.00810497,\n",
       "        -0.00363886, -0.00585299,  0.00758707,  0.00371804, -0.00722504,\n",
       "         0.00421562, -0.00231861, -0.0019023 ,  0.00146372,  0.00749483,\n",
       "         0.00145635,  0.00427107, -0.00856707,  0.00885479, -0.00837834,\n",
       "        -0.00120841, -0.00915501, -0.01000361,  0.00909079, -0.00755373,\n",
       "        -0.00846987,  0.00639874, -0.00614547, -0.00387831,  0.00109408,\n",
       "         0.00757673, -0.003895  ,  0.0032751 ,  0.00163095,  0.0052326 ,\n",
       "        -0.00296347, -0.00397802,  0.00771533, -0.00438779,  0.00513124,\n",
       "        -0.00122059, -0.00547902, -0.00980113,  0.0082022 , -0.00020689],\n",
       "       dtype=float32),\n",
       " 'weekend': array([-0.00745999, -0.00679501,  0.00824702,  0.00754158, -0.00083444,\n",
       "         0.00242014,  0.00114843,  0.00127628, -0.00943763, -0.00279515,\n",
       "         0.00379007, -0.00792687, -0.00528593, -0.00413896, -0.00405122,\n",
       "         0.00299433,  0.00908685, -0.00629124,  0.00676957,  0.00364175,\n",
       "        -0.00269942,  0.00704597, -0.00975497, -0.00819944, -0.00599578,\n",
       "        -0.00736644, -0.00533718, -0.0035892 ,  0.00696652, -0.00665659,\n",
       "         0.0021529 ,  0.00219007, -0.00702759,  0.00136092,  0.00169263,\n",
       "        -0.00679346, -0.00221649, -0.00124012, -0.00687118,  0.00259279,\n",
       "         0.00961108, -0.00875166, -0.00564607, -0.00621145,  0.00167382,\n",
       "         0.00892516, -0.00605455, -0.00721382,  0.00463578,  0.00408482],\n",
       "       dtype=float32),\n",
       " 'drives': array([ 4.7212923e-03, -5.8530914e-03, -9.2854714e-03,  6.1882427e-04,\n",
       "        -6.9030211e-03,  3.6178657e-03,  3.5535202e-03, -7.7975979e-03,\n",
       "         6.4041615e-03, -6.7545660e-03,  1.7909287e-04, -1.0736332e-03,\n",
       "         7.2304634e-03, -5.5694447e-05, -4.9086092e-03,  6.8201027e-03,\n",
       "        -8.4912665e-03, -5.2278028e-03,  6.5531256e-03,  7.3068189e-03,\n",
       "        -7.2449688e-03,  5.8304695e-03,  5.1393937e-03,  5.0094263e-03,\n",
       "         2.2696909e-03,  4.9208202e-03, -3.6210276e-03, -1.8824979e-03,\n",
       "        -7.1970364e-03, -5.4304465e-03, -2.1887023e-03,  3.4654159e-03,\n",
       "         4.8477948e-03, -6.2914812e-03,  4.6751923e-03,  5.5549014e-03,\n",
       "         7.0909839e-03, -6.4378371e-03, -3.5166012e-03,  9.4489856e-03,\n",
       "        -5.6494838e-03,  8.1438310e-03, -4.4010766e-03, -4.6022097e-03,\n",
       "         5.5114040e-04,  4.4579068e-03,  7.9289696e-04,  5.5148504e-03,\n",
       "        -7.4911499e-03, -9.4123045e-03], dtype=float32),\n",
       " 'family': array([-7.4659446e-03,  1.3580119e-04, -1.3276610e-04,  4.8325523e-03,\n",
       "        -3.8135627e-03,  5.0953804e-03, -5.0862068e-03,  6.8416763e-03,\n",
       "        -7.2204648e-04, -6.9303671e-03,  3.4316035e-03,  5.1344326e-03,\n",
       "         2.2770583e-03,  2.9583327e-03, -2.3934278e-03, -7.0397574e-03,\n",
       "        -4.4680820e-04, -2.2708031e-03,  9.8632341e-03,  4.1339458e-03,\n",
       "        -5.6592147e-03,  9.1872476e-03,  6.3865893e-03,  9.2525808e-03,\n",
       "         5.1397658e-03, -3.4146619e-03,  7.0018638e-03,  2.2829722e-03,\n",
       "        -7.0277797e-03, -5.0965198e-03, -1.5229966e-03, -8.9728087e-03,\n",
       "        -3.7788178e-03,  1.9631658e-03,  4.5039216e-03,  9.7853746e-03,\n",
       "         3.9989674e-03,  8.2777459e-03,  4.6767895e-03,  1.9994364e-03,\n",
       "        -8.3982591e-03, -8.5375793e-03,  4.0968214e-03, -2.3090211e-03,\n",
       "        -7.5007956e-03,  3.4799370e-05,  2.1226110e-03, -3.7610931e-03,\n",
       "         3.8030923e-03,  5.3588287e-03], dtype=float32),\n",
       " 'simplify': array([ 7.3165372e-03, -7.5015738e-03,  7.9896046e-05, -4.8324005e-03,\n",
       "         3.9690477e-03, -2.6719291e-03, -2.1093895e-03,  2.5168943e-04,\n",
       "         1.3573481e-03,  1.7262659e-04, -2.2168593e-03,  2.2097973e-03,\n",
       "        -7.1730919e-04, -5.6670327e-03, -9.4486456e-03, -3.5618595e-03,\n",
       "        -8.0207298e-03,  9.3092853e-03,  6.1763334e-03,  7.9412814e-03,\n",
       "        -9.3204388e-03, -8.8313892e-03,  9.1322921e-03,  9.8310178e-03,\n",
       "        -5.8509572e-03,  8.6141825e-03,  4.3441728e-03,  7.5981827e-03,\n",
       "        -7.7847592e-03, -3.9819628e-03, -2.7325639e-04,  9.7609507e-03,\n",
       "        -8.2328413e-03, -7.8772567e-03,  8.5783778e-03,  6.6294260e-03,\n",
       "        -1.1964249e-03,  3.4840787e-03, -8.6645065e-03, -7.6499828e-03,\n",
       "         6.5536005e-03,  4.0418226e-03, -5.8557410e-03, -4.6152263e-03,\n",
       "        -1.3872487e-03, -8.4774885e-03,  1.5809287e-03, -5.7259165e-03,\n",
       "        -5.1354328e-03,  2.0297060e-03], dtype=float32),\n",
       " 'travels': array([ 0.0065562 , -0.00237724,  0.00673248,  0.00849112, -0.00532089,\n",
       "        -0.00985652, -0.00911958, -0.00303757, -0.00583972, -0.0035023 ,\n",
       "        -0.00357594, -0.00111638, -0.00113173, -0.00358916,  0.00619778,\n",
       "         0.00649535,  0.00589241, -0.00672671,  0.00902765,  0.00024062,\n",
       "         0.00163376,  0.00861065, -0.00902885, -0.00452421, -0.00826914,\n",
       "         0.00129553, -0.00356743,  0.00268039,  0.0087755 , -0.00033914,\n",
       "         0.00614402,  0.00133041, -0.00306668,  0.00211089,  0.00310368,\n",
       "        -0.00956526,  0.0034706 ,  0.00670718, -0.00743287, -0.00813957,\n",
       "         0.00423788, -0.00575753,  0.00296121, -0.00865574,  0.00504343,\n",
       "         0.00339175, -0.0090834 ,  0.0050464 , -0.00799699,  0.0018164 ],\n",
       "       dtype=float32),\n",
       " 'forget': array([-0.00266708, -0.00771218,  0.00626224,  0.00548707, -0.00321446,\n",
       "        -0.0077417 , -0.00731053,  0.00848256, -0.0064392 , -0.00279003,\n",
       "         0.00642102,  0.00743659,  0.00089513, -0.00885902, -0.00083316,\n",
       "        -0.00466637, -0.00259177,  0.00425793,  0.00560446, -0.00524252,\n",
       "         0.00777443,  0.00543247, -0.00107095, -0.00929496, -0.00937426,\n",
       "         0.00722939, -0.0023975 ,  0.00549667, -0.00670302, -0.00355916,\n",
       "        -0.00684885,  0.00105202, -0.000528  , -0.00093523, -0.00408911,\n",
       "        -0.00606786, -0.00121985,  0.00694745, -0.0072171 , -0.00753337,\n",
       "        -0.00883525,  0.00488414, -0.00770291,  0.00206227,  0.00963812,\n",
       "        -0.00332997,  0.00522019,  0.00879111, -0.0037715 ,  0.00045791],\n",
       "       dtype=float32),\n",
       " 'ease': array([ 0.00131298, -0.00314259, -0.00569276,  0.00560119, -0.00366554,\n",
       "        -0.00753139,  0.00632291,  0.00688138,  0.00108296, -0.00240522,\n",
       "        -0.00250761, -0.0056209 ,  0.00904904, -0.0078287 ,  0.00662277,\n",
       "        -0.00745587,  0.00477082, -0.0013955 , -0.00718617, -0.00200352,\n",
       "         0.00300435, -0.00662152, -0.00022466, -0.00663367,  0.00522396,\n",
       "         0.00138649,  0.00865075, -0.00176264,  0.00816426, -0.00157769,\n",
       "         0.00626086,  0.00370133,  0.00027609,  0.00615136, -0.00919832,\n",
       "        -0.00227499, -0.00785857, -0.00912286, -0.00843944,  0.00957504,\n",
       "        -0.00216905, -0.00346145, -0.00963376, -0.0049586 ,  0.00906391,\n",
       "         0.0052997 , -0.00970992,  0.00377411, -0.00318905, -0.00574764],\n",
       "       dtype=float32),\n",
       " 'comfort': array([ 7.5746248e-03, -3.4304243e-04, -2.4932850e-04, -5.9114990e-04,\n",
       "         8.3104251e-03,  7.4908589e-03,  3.6766871e-03,  9.2239650e-03,\n",
       "         2.2011776e-03,  5.1092831e-03,  4.5700395e-03,  3.7678466e-03,\n",
       "         1.2204769e-03, -7.2580227e-03,  6.7121778e-03, -7.1180752e-03,\n",
       "         6.4934567e-03, -9.1074472e-03,  8.1093945e-03, -8.6530140e-03,\n",
       "         2.0247183e-03,  8.6304313e-03,  1.4942443e-03, -8.5467091e-03,\n",
       "         5.8890940e-03,  7.1590212e-03,  4.5620403e-03,  1.0273506e-04,\n",
       "        -9.4602406e-03,  2.5142010e-03, -7.9874936e-03,  8.7095806e-03,\n",
       "         2.0110190e-03,  6.6187771e-05,  6.7571448e-03, -8.4763058e-03,\n",
       "         6.3983356e-03, -8.9111440e-03, -5.9648496e-03, -9.5672933e-03,\n",
       "        -7.9426207e-03, -7.4108648e-03, -7.4694548e-03,  5.7521658e-03,\n",
       "         4.3707089e-03, -5.8611161e-03, -4.4050063e-03, -4.0291944e-03,\n",
       "        -8.3918069e-03,  9.6201180e-03], dtype=float32),\n",
       " 'brings': array([ 5.6456431e-04,  2.6117407e-03,  3.3948843e-03,  6.2391711e-03,\n",
       "         3.7787625e-04,  7.3267135e-04,  9.3216711e-04,  3.2744918e-03,\n",
       "         2.7216258e-03, -6.6928165e-03,  6.0551055e-03,  5.7725171e-03,\n",
       "         9.9127833e-03, -9.7246775e-03,  7.1097696e-03, -3.9755525e-03,\n",
       "        -5.1552216e-03,  6.2907077e-03, -1.4940960e-03, -3.4726385e-03,\n",
       "        -1.0129518e-03,  8.9205103e-03,  8.9806989e-03, -9.5108775e-03,\n",
       "        -4.0923222e-03, -3.3064727e-03, -2.3658955e-03,  3.9306958e-03,\n",
       "         8.9600384e-03, -8.0221379e-03,  2.9912738e-03,  2.3210840e-03,\n",
       "         5.3488552e-03,  8.1247082e-03, -2.3079535e-03, -7.0039392e-03,\n",
       "        -8.2360255e-03, -5.4415420e-04,  2.2547604e-03,  8.3191444e-05,\n",
       "        -2.3695950e-03, -9.6941291e-04, -4.1634785e-03, -2.1096806e-03,\n",
       "        -6.8463543e-03, -1.8576197e-03,  3.3565362e-03,  1.3212260e-03,\n",
       "        -3.2998049e-03, -9.0070441e-03], dtype=float32),\n",
       " 'purchasing': array([-0.00983963, -0.00794094,  0.00862821, -0.0037774 ,  0.00325146,\n",
       "        -0.00602837,  0.00470852, -0.00923624, -0.00037044, -0.00783574,\n",
       "         0.00352982, -0.00301632,  0.00319032,  0.00524145,  0.00924772,\n",
       "        -0.00454815,  0.00154221, -0.00157543, -0.00679761,  0.00374588,\n",
       "         0.00680323, -0.00949416, -0.00750392, -0.00348082, -0.0078922 ,\n",
       "        -0.00481932,  0.00558666,  0.00580337,  0.00494487, -0.00976538,\n",
       "        -0.00052588,  0.00387935,  0.00868072,  0.00473346, -0.00453772,\n",
       "         0.00764151,  0.00940552, -0.0014829 , -0.00416048, -0.0098044 ,\n",
       "         0.00858169, -0.00896703,  0.002121  ,  0.00598135,  0.00947499,\n",
       "         0.00669593,  0.00318968,  0.00384027,  0.00245672, -0.008252  ],\n",
       "       dtype=float32),\n",
       " 'dream': array([ 6.1084311e-03, -6.5230723e-03,  9.6488390e-03,  4.0321168e-03,\n",
       "        -9.1028865e-03, -9.7269537e-03, -4.9738954e-03, -7.2043348e-04,\n",
       "        -8.7289540e-03,  1.6337337e-03, -9.8745478e-03, -6.6769822e-03,\n",
       "        -1.4508308e-03, -6.5964647e-03, -5.9139915e-04,  5.0326083e-03,\n",
       "         3.2678894e-03, -8.6198710e-03, -6.0908436e-03, -7.4899024e-03,\n",
       "         8.8918917e-03,  5.3396379e-04, -4.3168887e-03,  1.4133001e-03,\n",
       "        -7.1575819e-03,  3.7488958e-03, -3.9257794e-03,  6.8816915e-04,\n",
       "         3.3546560e-03, -2.9421125e-03,  3.9430661e-03,  3.4724961e-03,\n",
       "        -6.5885694e-03, -6.1858152e-03,  5.3501534e-03, -9.9102855e-03,\n",
       "        -8.3606942e-03,  6.4818584e-03,  9.2585925e-03,  8.3873756e-03,\n",
       "         8.3278166e-03, -1.7589413e-03,  4.1025847e-05,  4.8040031e-03,\n",
       "        -9.5316749e-03,  9.3626818e-03, -3.0306685e-03,  9.2423586e-03,\n",
       "        -8.6815003e-03,  8.2365252e-05], dtype=float32),\n",
       " 'vehicle': array([-0.00911693,  0.00529888, -0.00376795, -0.00737928,  0.00329477,\n",
       "        -0.00704179,  0.00708088, -0.00120591,  0.00115438, -0.00457961,\n",
       "         0.00420226, -0.00867872,  0.00828991,  0.00536911, -0.00961618,\n",
       "        -0.00189413, -0.00992956,  0.00705598, -0.00155828,  0.00304838,\n",
       "        -0.00154417, -0.00626951,  0.00853316, -0.00734233, -0.0028581 ,\n",
       "         0.00692967,  0.00251888,  0.00208501,  0.00973619,  0.00474925,\n",
       "        -0.00555398,  0.00944887,  0.0035542 ,  0.00579462, -0.00860767,\n",
       "        -0.0085176 ,  0.00953869,  0.00046969,  0.00415772,  0.00572284,\n",
       "         0.0012848 , -0.00203556, -0.00298942,  0.00745181,  0.00753904,\n",
       "         0.0034758 , -0.00953849,  0.00693245, -0.00625081,  0.00261299],\n",
       "       dtype=float32),\n",
       " 'easier': array([ 0.00054943,  0.0044515 , -0.00181559,  0.00571325, -0.00372625,\n",
       "         0.00275778, -0.00784969, -0.00434922, -0.00199439, -0.00470694,\n",
       "         0.0021167 , -0.0036927 , -0.00723788, -0.00104291,  0.00208659,\n",
       "        -0.00737739, -0.00254249, -0.00276889, -0.00263961,  0.00687516,\n",
       "         0.00733392, -0.00580357,  0.0084207 ,  0.00955331,  0.00251727,\n",
       "        -0.00229889, -0.00504419, -0.00021924,  0.00238632, -0.0099743 ,\n",
       "        -0.00486123, -0.0056035 , -0.00861227, -0.00660915,  0.01000738,\n",
       "         0.00299061, -0.00349575, -0.00868735, -0.00859618,  0.00437884,\n",
       "        -0.00876437, -0.00420992,  0.00919332,  0.00571263, -0.0012833 ,\n",
       "         0.00016159,  0.00293489, -0.0024442 , -0.00986665, -0.00406878],\n",
       "       dtype=float32),\n",
       " 'ever': array([-0.00766066,  0.00325427,  0.00755832,  0.00279418, -0.00789781,\n",
       "        -0.00564278, -0.00247765,  0.0087658 ,  0.00111703,  0.00519721,\n",
       "         0.00252806, -0.00049439, -0.00240356, -0.00379728, -0.00700539,\n",
       "        -0.00801085,  0.00286286,  0.00613483,  0.00309936,  0.00107373,\n",
       "         0.00368483,  0.00536565,  0.0069357 , -0.00942197, -0.00180663,\n",
       "        -0.00245755,  0.00349785, -0.00592139, -0.00538491, -0.00900077,\n",
       "         0.00444408,  0.00236678, -0.00794275, -0.00053081,  0.00910646,\n",
       "         0.00858374,  0.00679637, -0.00135732, -0.00700943, -0.00792938,\n",
       "         0.00638669, -0.00643393, -0.00411186, -0.00353618,  0.00469053,\n",
       "         0.00651711,  0.00505625, -0.00218394, -0.00375887, -0.00538497],\n",
       "       dtype=float32),\n",
       " 'millions': array([ 0.00125634, -0.00528372, -0.00860564,  0.00018023, -0.00407962,\n",
       "        -0.00168809, -0.00567086, -0.00961837,  0.00268321,  0.00219429,\n",
       "        -0.00499359, -0.00629222, -0.00860774,  0.00279369,  0.00118674,\n",
       "        -0.00314862,  0.00406158,  0.00278181, -0.00150565,  0.00546919,\n",
       "         0.00919781, -0.00895124, -0.00278803, -0.00311246, -0.00417378,\n",
       "        -0.00520961, -0.0097971 , -0.00052351,  0.00171829, -0.00299083,\n",
       "         0.00495148, -0.00379575,  0.00888473,  0.0095813 ,  0.00126113,\n",
       "         0.00910937, -0.00654882, -0.0050663 ,  0.00696642, -0.0030901 ,\n",
       "         0.00916947,  0.00413191,  0.00870851, -0.00450944,  0.00194601,\n",
       "         0.00710166,  0.00993209,  0.00110361,  0.00164355,  0.00103951],\n",
       "       dtype=float32),\n",
       " 'indians': array([ 6.7342091e-03,  1.5830132e-04,  7.7905279e-04,  5.2515967e-03,\n",
       "         8.9808069e-03,  6.6437176e-04, -8.6420309e-03, -4.6139047e-04,\n",
       "        -1.3468667e-03, -1.2057953e-03,  1.4432146e-03, -8.9320103e-03,\n",
       "         6.4274622e-03, -1.0047496e-02, -4.5396262e-03, -7.8199580e-03,\n",
       "         7.5295521e-03, -8.6081158e-03,  6.8228612e-05, -9.6204001e-03,\n",
       "        -8.6610289e-03, -8.0166357e-03, -8.4101930e-03,  6.4876983e-03,\n",
       "         2.7740570e-03,  9.1250818e-03, -4.0365672e-03,  2.1684056e-03,\n",
       "         1.9547660e-03,  1.9049164e-03,  2.0338648e-03, -3.3715263e-03,\n",
       "        -3.3934279e-03,  9.6493559e-03, -1.9027315e-03, -9.2884563e-03,\n",
       "         8.6385468e-03, -5.2331276e-03,  1.8780329e-03,  6.8465597e-03,\n",
       "        -9.5859291e-03, -3.8169078e-03,  2.0935051e-03,  9.9950479e-03,\n",
       "         9.9394582e-03, -3.0530239e-03,  3.0446299e-03, -3.7004508e-03,\n",
       "        -3.4801199e-03,  5.7055145e-03], dtype=float32),\n",
       " 'thanks': array([ 0.00267878,  0.00339815,  0.0089142 ,  0.00070373, -0.00260857,\n",
       "         0.00463553, -0.00513011, -0.00854021, -0.00720377,  0.00238125,\n",
       "         0.00098493,  0.00792758, -0.00973017, -0.00747372,  0.00434866,\n",
       "         0.00849316, -0.00722887,  0.00500555, -0.00749781, -0.00219849,\n",
       "         0.00388344, -0.00601475,  0.00203789, -0.00881915,  0.00232713,\n",
       "         0.00771229,  0.00116447, -0.0041575 , -0.00727613,  0.00883281,\n",
       "         0.00478124,  0.00699239,  0.00604166,  0.00509275,  0.00242892,\n",
       "        -0.00354241,  0.00882483,  0.00855961, -0.0025257 , -0.00295805,\n",
       "         0.00898251,  0.00578467, -0.0017316 ,  0.00968339, -0.00645708,\n",
       "        -0.00762394, -0.0022512 ,  0.00062151, -0.00797505, -0.00832612],\n",
       "       dtype=float32),\n",
       " 'widespread': array([-0.00155246,  0.00412706,  0.00777689, -0.00681446,  0.00894615,\n",
       "         0.00769726, -0.00964024, -0.00630997,  0.00442215, -0.00652924,\n",
       "        -0.00110058, -0.00019518, -0.0056281 ,  0.0011513 ,  0.00180958,\n",
       "         0.00671359, -0.00108463,  0.00544296,  0.00763695,  0.00776967,\n",
       "         0.00631217, -0.00118945, -0.00907771, -0.00761252,  0.00020089,\n",
       "         0.00088278,  0.00247265, -0.00380906,  0.0098703 ,  0.00250141,\n",
       "        -0.00341345,  0.00774716, -0.00760894, -0.00656657,  0.00216835,\n",
       "        -0.00640457,  0.00166394,  0.00956466, -0.00866306, -0.00510629,\n",
       "         0.00398669, -0.0058472 ,  0.00670148, -0.0067793 ,  0.00644465,\n",
       "         0.00074732, -0.00605781,  0.00389425, -0.00104508, -0.00711366],\n",
       "       dtype=float32),\n",
       " 'availability': array([ 0.00461143,  0.0064527 , -0.00498847, -0.00522844, -0.00297756,\n",
       "         0.00212781,  0.0078954 ,  0.00546556, -0.00484239,  0.00498512,\n",
       "         0.00210226, -0.009388  ,  0.00609022, -0.00624209,  0.00017573,\n",
       "         0.00937703,  0.00463319, -0.00743021,  0.00098996, -0.00590081,\n",
       "        -0.00527486, -0.00062524, -0.00578353, -0.0029178 , -0.00385413,\n",
       "        -0.00350785,  0.00898805, -0.00943164,  0.00601183,  0.00364925,\n",
       "        -0.00938267,  0.00203947, -0.00453411,  0.00918247,  0.00070206,\n",
       "        -0.00095761, -0.007839  ,  0.00452524,  0.0028503 , -0.0089819 ,\n",
       "         0.00373472,  0.00713675,  0.00139273, -0.00749355, -0.00190041,\n",
       "         0.00320017,  0.00569608,  0.00143098, -0.00849587, -0.00420486],\n",
       "       dtype=float32),\n",
       " 'loans': array([ 0.00193112, -0.00932386, -0.00257379, -0.00972603,  0.00621979,\n",
       "        -0.00590856,  0.00092578,  0.00457352,  0.00726095,  0.0033957 ,\n",
       "         0.00826419,  0.00354218, -0.00394981, -0.00609486, -0.00766304,\n",
       "        -0.00507437,  0.00705816, -0.00298551,  0.00782196,  0.00104254,\n",
       "         0.00549659, -0.00935444, -0.00922738, -0.00696177, -0.00695518,\n",
       "        -0.00172245, -0.00045904, -0.00785738,  0.0039206 ,  0.00370011,\n",
       "        -0.00328486, -0.00113056,  0.00153167, -0.00381352,  0.00998147,\n",
       "        -0.00823369, -0.00504523, -0.00661232, -0.00695349,  0.00671546,\n",
       "         0.00536851, -0.00398345, -0.00784781, -0.00705033,  0.0004608 ,\n",
       "        -0.00081456,  0.0041525 ,  0.00501257, -0.00722399,  0.00849188],\n",
       "       dtype=float32),\n",
       " 'india': array([ 4.4349665e-03, -3.6877950e-03, -7.3808678e-03, -7.1623144e-03,\n",
       "         5.7708323e-03,  3.3062366e-03, -3.5121778e-03, -1.9974092e-03,\n",
       "         3.5227955e-04,  1.6764933e-03, -8.2185073e-03, -9.8933801e-03,\n",
       "        -4.5573958e-03,  4.8058731e-03, -4.4059390e-03, -8.1804823e-03,\n",
       "        -3.1293887e-03, -4.3361108e-03, -9.3643470e-03, -7.9467315e-03,\n",
       "         6.5910285e-03,  7.3721698e-03,  9.7698150e-03,  8.3752358e-03,\n",
       "        -8.7794171e-05, -2.0273699e-04, -6.3824789e-03,  4.6797898e-03,\n",
       "        -7.3519507e-03,  9.3614375e-03, -7.3404810e-03, -5.1584132e-03,\n",
       "         6.4762924e-03, -6.4078637e-04,  4.0928847e-03, -4.5966599e-03,\n",
       "         7.0114918e-03,  7.6123737e-03, -2.2771389e-03,  6.3500418e-03,\n",
       "        -4.0274225e-03, -3.2855358e-03, -5.3412104e-03, -9.8188696e-03,\n",
       "        -9.7610457e-03,  6.4913789e-03, -7.0677535e-03,  3.1317547e-03,\n",
       "        -7.6639536e-03,  7.1977000e-03], dtype=float32),\n",
       " 'offer': array([ 0.00787246,  0.00896483,  0.00708263,  0.00027275,  0.0035169 ,\n",
       "         0.00819557,  0.00074241, -0.00647248,  0.00818564,  0.00876633,\n",
       "         0.00276402,  0.00512241,  0.0007582 , -0.00800333,  0.00337736,\n",
       "        -0.00341941,  0.00775905, -0.003638  ,  0.00205708,  0.00368108,\n",
       "         0.00763796,  0.00340743, -0.0090176 ,  0.00262733,  0.0006411 ,\n",
       "        -0.00541695,  0.00386309,  0.00291269,  0.00252664, -0.00857229,\n",
       "         0.00342805, -0.00027323,  0.00149267,  0.00147556,  0.00889435,\n",
       "        -0.00643799, -0.00828615,  0.00134031,  0.00307838,  0.0075028 ,\n",
       "        -0.00310379, -0.00256785,  0.00564647, -0.00913872,  0.00458364,\n",
       "        -0.00322477, -0.00456204, -0.00561102, -0.0013137 ,  0.00728275],\n",
       "       dtype=float32),\n",
       " 'money': array([-0.00671578, -0.00288195, -0.00872778, -0.00296541, -0.00182755,\n",
       "        -0.00626168, -0.0011063 ,  0.00014254,  0.00529466,  0.00938529,\n",
       "        -0.00667343,  0.00647763,  0.00693978, -0.00762803,  0.00887546,\n",
       "        -0.0065587 , -0.00193991,  0.00522884, -0.00596276,  0.00127324,\n",
       "        -0.00579712,  0.0030712 , -0.00643977,  0.00103963, -0.00951432,\n",
       "        -0.00937308, -0.00610126,  0.00412948, -0.00806407,  0.00631925,\n",
       "         0.00353649,  0.0025011 ,  0.00463551, -0.00377885,  0.00655304,\n",
       "         0.00256957,  0.00037728, -0.00439489, -0.00377172, -0.00255112,\n",
       "         0.00537534, -0.00946239, -0.00900661,  0.00923961,  0.0011015 ,\n",
       "        -0.00167712,  0.00814181, -0.00098101, -0.00857169,  0.00904569],\n",
       "       dtype=float32),\n",
       " 'upfront': array([ 8.0079504e-04,  3.2677064e-03, -7.3161284e-03, -6.0212701e-03,\n",
       "         7.4669532e-03, -2.4873537e-03, -7.1014976e-03,  6.5633613e-03,\n",
       "        -8.9078210e-03, -6.9906018e-05,  5.8218008e-03, -5.1138471e-03,\n",
       "         5.0489954e-03,  6.6004265e-03,  4.5845201e-03, -6.8782233e-03,\n",
       "        -4.6410193e-03,  5.5465777e-03,  4.7672540e-03, -5.1654838e-03,\n",
       "        -2.7795145e-03,  9.0056693e-04, -2.5336402e-03,  7.5737387e-03,\n",
       "         2.8066866e-03,  4.8451461e-03, -6.2814406e-03, -2.4398891e-03,\n",
       "        -9.4159850e-04, -8.7914094e-03, -3.7620950e-03,  3.1226033e-03,\n",
       "         2.5414652e-03,  7.4645985e-05,  6.3743386e-03,  6.6330875e-03,\n",
       "        -8.9169890e-03, -8.9596407e-03, -9.3686068e-03, -2.2684990e-03,\n",
       "         2.0137164e-03, -6.4892364e-03,  7.8668715e-03, -9.0799853e-03,\n",
       "        -9.9170217e-03, -5.1167118e-03,  3.2120354e-03, -9.0370132e-03,\n",
       "        -9.1262879e-03, -9.9007990e-03], dtype=float32),\n",
       " 'comfortably': array([ 0.00992502, -0.00787177,  0.00769248,  0.00168911, -0.00286553,\n",
       "        -0.00486183,  0.00757353, -0.00821947,  0.00714938,  0.00807976,\n",
       "         0.0065846 ,  0.00717831, -0.00342539, -0.00390905, -0.00354873,\n",
       "        -0.00271235, -0.00312216, -0.00950554, -0.00890175,  0.00274828,\n",
       "         0.00651116, -0.00931325, -0.00434411,  0.00397079, -0.00358288,\n",
       "        -0.00170626, -0.00971099,  0.00810593,  0.00055533, -0.00584137,\n",
       "        -0.00820997,  0.00254342, -0.0014443 , -0.0037062 ,  0.00351045,\n",
       "         0.00398766,  0.00963144,  0.00614245,  0.00275764, -0.0008304 ,\n",
       "         0.00506084, -0.00109489, -0.00361913,  0.00562406,  0.00723572,\n",
       "         0.00178155, -0.00930268,  0.00485688, -0.00650925,  0.00323416],\n",
       "       dtype=float32),\n",
       " 'repay': array([-0.00593532, -0.00453838,  0.0054857 , -0.00718433, -0.0057614 ,\n",
       "         0.00393617,  0.0072944 ,  0.00440787, -0.00286983, -0.00466056,\n",
       "        -0.00868698, -0.00790496, -0.00050987, -0.00028196, -0.00063367,\n",
       "        -0.00024139,  0.00858586, -0.0042128 ,  0.00477026,  0.00939685,\n",
       "        -0.0089994 ,  0.00051815, -0.00124548, -0.00267683,  0.0064024 ,\n",
       "        -0.00857368,  0.00021651, -0.00585001,  0.0015003 , -0.00695804,\n",
       "        -0.00022019, -0.00889466, -0.00224413, -0.00687992, -0.00907709,\n",
       "        -0.00196978,  0.00876091, -0.00158655,  0.00404287, -0.00785247,\n",
       "        -0.00825377, -0.00510355,  0.00090447, -0.00640828, -0.00689441,\n",
       "        -0.00326168,  0.00598474,  0.00585753, -0.00961706, -0.00096624],\n",
       "       dtype=float32),\n",
       " 'borrowed': array([-0.00579929, -0.00289446,  0.00104893, -0.00619127, -0.00077881,\n",
       "         0.00031864,  0.00744659,  0.00038912,  0.00425696, -0.00221882,\n",
       "         0.00337926, -0.00760679, -0.00924911,  0.00596017,  0.00239186,\n",
       "        -0.00124411,  0.00189318, -0.00343208,  0.00793752,  0.0006434 ,\n",
       "         0.00935663, -0.00734744, -0.0060856 , -0.0002225 , -0.00401278,\n",
       "         0.00894274, -0.00525354, -0.00892541, -0.00344487, -0.00698229,\n",
       "         0.00488618,  0.00689235, -0.00650373, -0.00079417, -0.00820628,\n",
       "         0.00760004,  0.00556259,  0.0012956 , -0.00343095, -0.00996469,\n",
       "         0.00212078, -0.00562543,  0.00925634,  0.00074933, -0.00252463,\n",
       "        -0.00544365,  0.00642648, -0.00794832, -0.00696744,  0.00987537],\n",
       "       dtype=float32),\n",
       " 'amount': array([ 0.00823093, -0.00830339, -0.00671187, -0.00216775, -0.00497075,\n",
       "         0.00388149,  0.00600609, -0.00495493,  0.00059982, -0.00437666,\n",
       "         0.00630399, -0.00359652, -0.00955516, -0.00166333,  0.00675839,\n",
       "        -0.00215039, -0.00366302, -0.00406562, -0.00126963, -0.00862031,\n",
       "        -0.00111997,  0.005287  , -0.0025406 ,  0.00132593, -0.00721284,\n",
       "        -0.00683558, -0.00745986, -0.00270846, -0.00200713, -0.00164194,\n",
       "        -0.00975049, -0.00607305, -0.00162367,  0.00186513, -0.00100982,\n",
       "        -0.00884644,  0.00219114, -0.00483903,  0.00266187,  0.00556355,\n",
       "        -0.00868563,  0.00802484, -0.00100282,  0.00346096,  0.00519446,\n",
       "         0.00171495,  0.00119155,  0.00619184, -0.00014849, -0.00137517],\n",
       "       dtype=float32),\n",
       " 'via': array([ 4.5031463e-03,  8.1359083e-03, -2.4685360e-05, -1.7976043e-03,\n",
       "        -5.9171556e-04, -2.4986726e-03, -7.1544223e-03, -4.0268735e-03,\n",
       "        -6.7693847e-03,  4.2432803e-03, -1.7358320e-03, -5.9852218e-03,\n",
       "        -6.1244671e-03, -9.2081157e-03, -1.2543227e-03,  3.1372977e-03,\n",
       "         9.3604811e-03,  6.4236270e-03,  2.3750162e-03, -5.3199008e-03,\n",
       "         4.1123158e-03, -5.3903651e-03, -3.4388583e-03, -7.1404716e-03,\n",
       "        -8.0783683e-04, -9.5200501e-03, -9.5147211e-03, -4.7465493e-03,\n",
       "         2.0769059e-03,  2.0800752e-04, -9.6903415e-03,  9.2168655e-03,\n",
       "         3.1340108e-04, -8.7662851e-03,  7.7518346e-03,  3.1369698e-04,\n",
       "        -3.8784309e-03,  8.5937828e-03, -6.6372501e-03,  2.8652754e-03,\n",
       "         3.4729361e-03,  1.6349461e-03,  4.9993708e-03, -8.5512400e-03,\n",
       "         1.7093318e-03, -2.5504841e-03,  3.0955668e-03,  8.0922451e-03,\n",
       "         1.7211704e-03, -4.1577169e-03], dtype=float32),\n",
       " 'affordable': array([-8.8201268e-03,  1.1522669e-03, -1.5189036e-03,  7.6428885e-03,\n",
       "         6.6459868e-03, -3.2736270e-03, -3.0519953e-04,  7.5778887e-03,\n",
       "        -3.4291407e-03,  5.1278598e-04, -9.7527512e-04,  2.3460381e-03,\n",
       "         7.4504986e-03,  8.4947550e-04, -8.4963813e-03, -7.4853208e-03,\n",
       "        -3.4026781e-03,  6.9087008e-03, -3.3564861e-03, -6.3071325e-03,\n",
       "         5.5968324e-03,  5.6466577e-03, -2.8457136e-03, -5.5687400e-03,\n",
       "        -3.7584228e-03, -5.0626108e-03,  2.4367312e-04,  9.8385727e-03,\n",
       "        -6.6944347e-03,  9.0716965e-03,  6.9684079e-03,  7.2809560e-03,\n",
       "        -8.6649344e-04,  2.2235198e-03, -9.8933611e-05,  4.0429709e-03,\n",
       "         9.9567194e-03,  9.9516548e-03, -7.6346523e-03, -3.7799776e-03,\n",
       "         9.7760605e-03,  8.2201874e-03, -6.6553736e-03,  1.5439356e-03,\n",
       "         8.3443997e-03,  9.5951892e-03, -7.3985092e-04,  6.5109238e-04,\n",
       "         4.7245719e-03, -2.1903964e-03], dtype=float32),\n",
       " 'monthly': array([-9.4560683e-03,  1.1264642e-03, -6.3901548e-03, -9.8460326e-03,\n",
       "        -6.7215785e-03,  1.0464889e-03, -3.3619073e-03, -5.3231129e-03,\n",
       "         4.3714223e-03,  4.6640104e-03,  5.7022898e-03,  1.6713672e-03,\n",
       "         1.5109917e-04,  5.8278311e-03,  6.9199581e-05,  1.4162785e-03,\n",
       "        -1.6243170e-03, -4.0285182e-03, -6.9396584e-03, -8.4558921e-03,\n",
       "        -1.2288794e-03,  8.9287944e-03,  1.7024171e-04,  3.8790086e-03,\n",
       "        -9.5942570e-03,  1.1941345e-04,  9.9097518e-03, -8.4898118e-03,\n",
       "         5.5450751e-03, -3.3712583e-03, -4.5653381e-03, -5.0714752e-03,\n",
       "         7.6358058e-03, -1.7711099e-03, -6.4249616e-03,  8.6977324e-03,\n",
       "        -9.3435440e-03, -4.1857511e-03, -3.4509236e-03, -3.8296878e-03,\n",
       "         9.1983238e-03, -2.8174839e-03,  3.4021197e-03, -5.3614518e-03,\n",
       "        -1.9250482e-03,  2.8712358e-03, -5.8579817e-03, -7.6947585e-03,\n",
       "        -9.8132379e-03,  6.8936911e-03], dtype=float32),\n",
       " 'emis': array([-0.00954921,  0.00936836, -0.00218045, -0.0007428 , -0.00241972,\n",
       "        -0.00417392, -0.00115665, -0.00701921,  0.00811834, -0.00035382,\n",
       "         0.00443274,  0.00698725, -0.00461103,  0.00898196, -0.00053189,\n",
       "         0.00256992,  0.00678167, -0.00399241, -0.00228414,  0.00615281,\n",
       "        -0.00745819, -0.00263695,  0.00932639,  0.0067928 , -0.00851861,\n",
       "         0.00328822,  0.00387376, -0.00598543,  0.00670128, -0.00712835,\n",
       "        -0.00024152, -0.00961577,  0.00348108, -0.00423569,  0.00998871,\n",
       "        -0.0099256 ,  0.00926846, -0.01000221, -0.00476382, -0.00260788,\n",
       "         0.0079702 , -0.00882126, -0.00604926,  0.0002667 ,  0.00758201,\n",
       "         0.00211272,  0.00286558,  0.00490404, -0.00873645, -0.00455994],\n",
       "       dtype=float32),\n",
       " 'auto': array([-0.0096047 , -0.00759981,  0.00833269,  0.0047189 , -0.00630615,\n",
       "        -0.00828426, -0.00894882, -0.00068956,  0.0066029 ,  0.00442059,\n",
       "        -0.00103375,  0.00429617,  0.00968279,  0.00725162, -0.00655821,\n",
       "         0.00265225,  0.00672988,  0.0007444 , -0.00541741,  0.00382509,\n",
       "         0.00908985,  0.00920852,  0.0063983 ,  0.00654043, -0.00061123,\n",
       "        -0.00576353, -0.00110582, -0.00366891, -0.00897997, -0.00505317,\n",
       "         0.00955949,  0.00180143, -0.00853189,  0.00943675,  0.00994695,\n",
       "         0.00166089,  0.00299418, -0.00629019, -0.00062965,  0.00735599,\n",
       "         0.0061775 ,  0.00445498, -0.00396817,  0.00994165,  0.00355905,\n",
       "        -0.00850026,  0.00816194,  0.0081122 ,  0.00240597,  0.00867141],\n",
       "       dtype=float32),\n",
       " 'loan': array([-0.00037597,  0.00615127, -0.0073139 , -0.00960596, -0.00973781,\n",
       "        -0.00714711, -0.00413844,  0.00706694, -0.00141965,  0.00342704,\n",
       "        -0.00452804,  0.00690505, -0.00143439,  0.00150491,  0.00531002,\n",
       "        -0.00857557, -0.00563072,  0.00261468,  0.0015014 ,  0.00973499,\n",
       "        -0.00449577, -0.00057192, -0.0001314 ,  0.00472491, -0.00427592,\n",
       "        -0.00012068,  0.00922115, -0.00454967, -0.00015087, -0.00897533,\n",
       "        -0.00922901,  0.00933546,  0.00563174, -0.00397344, -0.00515048,\n",
       "        -0.00636669, -0.0006845 ,  0.00723752, -0.00286831, -0.00370126,\n",
       "        -0.00425323,  0.00637929, -0.00324168,  0.00489545, -0.0030559 ,\n",
       "        -0.00584664, -0.00068483, -0.00559051, -0.00336811,  0.00038163],\n",
       "       dtype=float32),\n",
       " 'secured': array([-0.0011572 ,  0.00848141, -0.00513518,  0.0087423 ,  0.00680484,\n",
       "         0.00708158,  0.00800409,  0.00369958,  0.00159635,  0.00492419,\n",
       "        -0.00168503,  0.00629601,  0.00455948,  0.00099074,  0.00200783,\n",
       "        -0.00152326, -0.00755181,  0.00191606,  0.00980986,  0.00979845,\n",
       "        -0.00708752, -0.00840014,  0.00455741,  0.00096973, -0.00870316,\n",
       "         0.00546746, -0.00741357, -0.00525373,  0.00480028,  0.00087552,\n",
       "        -0.00546982,  0.00145665,  0.00269225, -0.00092948, -0.00105727,\n",
       "        -0.00763998,  0.00636176,  0.00850063,  0.00819564, -0.00651241,\n",
       "        -0.00513012,  0.00338329, -0.00188748,  0.00658385, -0.00223365,\n",
       "        -0.00226315, -0.00250912, -0.00676106,  0.00137943,  0.00797137],\n",
       "       dtype=float32),\n",
       " 'acts': array([ 5.0615617e-03, -9.7400043e-04,  5.2995360e-03,  6.8650800e-03,\n",
       "         8.7500792e-03,  1.9671358e-03, -6.4580254e-03, -6.7558978e-04,\n",
       "         7.4056303e-03, -5.3513278e-03, -9.2279242e-04,  3.8198680e-03,\n",
       "        -3.9749904e-04, -5.5258879e-03, -4.7419830e-03, -9.0228217e-03,\n",
       "         9.0182507e-03,  2.8532860e-03, -2.2935406e-03, -3.6394305e-03,\n",
       "         9.3422504e-03,  5.9860912e-03,  3.5870494e-03, -5.0387760e-03,\n",
       "         1.9511021e-03, -3.7228200e-03,  6.1562103e-03, -6.0159462e-03,\n",
       "         8.8275233e-03, -5.8044202e-04,  7.2070723e-03,  5.2361586e-03,\n",
       "         3.1452754e-03,  3.4285996e-03, -3.9600600e-03, -6.7688632e-03,\n",
       "        -1.8139479e-03,  8.7600639e-03, -8.8989055e-03, -3.7822383e-03,\n",
       "         8.8344570e-03,  4.2610574e-03, -1.9005472e-03,  6.3485829e-03,\n",
       "        -6.2076524e-03,  3.4973663e-03,  7.0039889e-05, -8.2556466e-03,\n",
       "        -1.0859432e-03, -7.1556028e-03], dtype=float32),\n",
       " 'guarantee': array([-0.00702438, -0.00973332,  0.00281325,  0.0058227 ,  0.00615691,\n",
       "        -0.00952774,  0.00542582,  0.00253339,  0.00203816,  0.00735558,\n",
       "         0.00653487, -0.00258333,  0.00869228,  0.00127253, -0.00081141,\n",
       "         0.00511363,  0.00421399, -0.00485483,  0.00403739, -0.00031659,\n",
       "         0.00040445,  0.00505627,  0.00896525, -0.00075909,  0.00076844,\n",
       "         0.00794846,  0.00025058,  0.00063269, -0.0037435 , -0.0055474 ,\n",
       "        -0.00079905,  0.00334427,  0.00112453, -0.00876841,  0.00256584,\n",
       "        -0.0042774 , -0.00760869, -0.0076648 ,  0.00903234,  0.00316138,\n",
       "        -0.00299204,  0.00767993, -0.00521713,  0.00994927,  0.00592639,\n",
       "        -0.00091204, -0.00703721,  0.00843871, -0.00385228, -0.00757481],\n",
       "       dtype=float32),\n",
       " 'need': array([-0.00306324, -0.00184283, -0.00504079, -0.00530449,  0.00993303,\n",
       "         0.00393665, -0.00536179, -0.00307521,  0.00317611, -0.00045641,\n",
       "        -0.00526705, -0.0075658 , -0.00246037,  0.00917164,  0.00024893,\n",
       "         0.0001103 ,  0.00183636,  0.00979243, -0.00453837,  0.00408652,\n",
       "        -0.00770257, -0.00179515, -0.00184119,  0.00347944,  0.00827719,\n",
       "         0.00388533,  0.00808445, -0.00406383,  0.00897952, -0.00901677,\n",
       "         0.00547854, -0.00890946,  0.00904098, -0.00758235,  0.00637748,\n",
       "         0.00157087, -0.00698698, -0.00343448, -0.00241153, -0.00520316,\n",
       "         0.0013873 , -0.00238474,  0.00652292,  0.00961781, -0.00964045,\n",
       "         0.00077371,  0.00886821, -0.00219046, -0.00409759, -0.00421683],\n",
       "       dtype=float32),\n",
       " 'provide': array([-3.9180727e-03, -1.6607555e-03,  5.4769129e-03, -4.2989915e-03,\n",
       "         6.9767009e-03,  8.7459600e-03,  9.5751806e-04,  2.8618400e-03,\n",
       "        -2.7035819e-03,  4.0110460e-04, -9.0491744e-03,  5.7299868e-03,\n",
       "        -7.2985637e-04, -5.9128087e-03, -5.5828644e-03,  6.3278070e-03,\n",
       "         6.2752655e-04, -2.2142875e-05, -2.6408199e-03, -9.9438261e-03,\n",
       "        -9.4740540e-03, -9.1732852e-03,  1.8668862e-03, -7.2034285e-03,\n",
       "        -8.3723357e-03, -6.3020429e-03, -4.2179083e-03,  6.9975941e-03,\n",
       "        -9.3263917e-04, -4.5470376e-03, -3.6480709e-03, -6.2083821e-03,\n",
       "        -1.4430752e-03, -6.6147610e-03, -1.6491803e-03,  5.6356699e-03,\n",
       "        -2.2112543e-03,  5.9333374e-03,  7.5456449e-03,  1.5679061e-03,\n",
       "        -8.2393959e-03,  4.8235143e-03, -3.7271692e-03,  4.4169859e-03,\n",
       "         2.6466281e-03, -3.5923987e-03, -9.8141085e-04, -3.5160277e-03,\n",
       "         4.8916242e-03,  6.6941595e-03], dtype=float32),\n",
       " 'additional': array([ 0.00078369, -0.00354863, -0.00204742, -0.00036893, -0.00393572,\n",
       "        -0.00089893,  0.00351115,  0.00905961,  0.00403061,  0.00656421,\n",
       "         0.00123241,  0.00828926,  0.00033059,  0.00445207, -0.00696438,\n",
       "         0.00687594,  0.00552188, -0.00817616, -0.00971506,  0.00908319,\n",
       "         0.00085757,  0.00181534,  0.00616691,  0.00140905,  0.00888597,\n",
       "         0.00346112, -0.00339682,  0.00142417, -0.00376828,  0.00017493,\n",
       "        -0.00921735,  0.00488661,  0.00108233, -0.00963399, -0.00937989,\n",
       "        -0.00972611, -0.00496578, -0.00938228,  0.00911983, -0.00820784,\n",
       "         0.00819603,  0.00758087,  0.00537048, -0.00624102, -0.00581796,\n",
       "        -0.0091452 , -0.01003829,  0.00511379,  0.00067255, -0.00744212],\n",
       "       dtype=float32),\n",
       " 'asset': array([-9.5598251e-03,  5.5783051e-03,  6.3271923e-03, -8.1573604e-03,\n",
       "         4.5895199e-03, -5.9170183e-03, -5.9910212e-03, -2.0691087e-03,\n",
       "         7.3009566e-03,  7.8780828e-03, -2.6454644e-03,  3.2001180e-03,\n",
       "        -8.5023486e-05, -3.4623253e-03,  3.2359215e-03, -2.8575456e-03,\n",
       "        -2.6793117e-03,  4.9977228e-03, -1.9810568e-03, -1.5751336e-03,\n",
       "         3.1038322e-03,  8.9917192e-04,  2.2764399e-03, -5.3578061e-03,\n",
       "         8.1564095e-03,  1.1028221e-03,  7.9468898e-03,  1.8890275e-03,\n",
       "         3.2540301e-03,  6.0828141e-04,  9.2363404e-03, -5.4414016e-03,\n",
       "         7.1841097e-03,  5.6680138e-03, -7.2779269e-03, -2.8903570e-03,\n",
       "         1.3474100e-03, -3.4548440e-03, -5.2092643e-03, -1.5397143e-03,\n",
       "        -2.8049336e-03,  4.5210095e-03,  8.4640365e-04,  7.1833665e-03,\n",
       "         8.6685602e-04,  6.4493772e-03,  1.5026997e-03, -4.2575439e-03,\n",
       "         8.6772945e-03, -7.6491409e-04], dtype=float32),\n",
       " 'mortgage': array([ 0.0086481 ,  0.00380788,  0.00711858,  0.00052602, -0.00037344,\n",
       "         0.00418185, -0.00087471, -0.00112557, -0.00362797,  0.00211662,\n",
       "        -0.0003814 ,  0.00973207,  0.00047884, -0.00426217, -0.00738853,\n",
       "         0.00307019,  0.00067815,  0.00188119,  0.00485407,  0.00651264,\n",
       "         0.00951474, -0.00176629,  0.00343735, -0.00768791, -0.00502725,\n",
       "         0.00164398,  0.0099277 , -0.00504118, -0.00283548, -0.00734878,\n",
       "         0.00050666,  0.0090614 , -0.0092556 , -0.00779709, -0.00703404,\n",
       "         0.00747799,  0.00996196, -0.00976811, -0.00048768,  0.00628502,\n",
       "        -0.00991369, -0.00171276,  0.00740094,  0.00392672,  0.00593195,\n",
       "         0.00400598,  0.00471038, -0.00876731, -0.00294214, -0.00812195],\n",
       "       dtype=float32),\n",
       " 'procuring': array([-1.1761319e-03,  9.5472988e-03, -6.0808845e-03,  6.3777491e-03,\n",
       "         5.1550553e-03,  7.0198234e-03, -7.7155820e-04, -8.3599491e-03,\n",
       "        -7.6889317e-03, -3.4209397e-03,  1.1346439e-03, -7.0674736e-03,\n",
       "         5.6682671e-03, -9.1889370e-03,  7.1946853e-03,  1.6557403e-04,\n",
       "         4.7218478e-03, -7.5465878e-03,  8.7422999e-03, -4.9312967e-03,\n",
       "         7.8069489e-03, -8.6287956e-04, -2.4859621e-03,  5.8903485e-03,\n",
       "        -1.0321848e-03,  8.7514129e-03,  2.2859431e-03, -7.4319832e-04,\n",
       "         1.0810223e-03,  6.7898967e-05, -6.9658109e-03, -8.4377071e-03,\n",
       "        -9.5102852e-03,  8.3925817e-03, -3.7086504e-03, -5.0912066e-03,\n",
       "        -9.4387906e-06, -1.0132288e-03, -4.4381226e-04,  6.2936675e-03,\n",
       "        -8.9771599e-03,  2.6973521e-03, -5.7170736e-03,  8.8927420e-03,\n",
       "        -6.3738991e-03,  3.7337772e-03,  7.0665358e-04, -6.0993619e-03,\n",
       "         8.6706947e-04,  6.0833814e-03], dtype=float32),\n",
       " 'apply': array([ 0.00663518,  0.00244964, -0.00395077,  0.0017221 ,  0.0014737 ,\n",
       "         0.00422431, -0.00270512,  0.0049716 ,  0.00872038,  0.00940555,\n",
       "         0.00387501, -0.00369364,  0.00892188,  0.00902451, -0.00265854,\n",
       "        -0.00940974, -0.00996985, -0.00900275,  0.0001749 , -0.00202653,\n",
       "         0.0044544 , -0.00512645, -0.00650603, -0.00807627, -0.00661001,\n",
       "         0.00736151, -0.00199495,  0.00874554,  0.00896842,  0.00249056,\n",
       "         0.00591023, -0.00894017, -0.00296398,  0.00581526,  0.00620864,\n",
       "        -0.00722778,  0.00283436,  0.0071759 , -0.00365846,  0.00096791,\n",
       "         0.00440011,  0.00859725, -0.00077302,  0.0027798 ,  0.00407714,\n",
       "        -0.00848507, -0.00362879,  0.00932725, -0.00159643,  0.00554918],\n",
       "       dtype=float32),\n",
       " 'compare': array([ 0.00924187,  0.00328811, -0.00195876, -0.00550775,  0.00255649,\n",
       "         0.00408873,  0.00252953, -0.0005312 ,  0.0037682 , -0.00423978,\n",
       "        -0.00570051, -0.00814239, -0.00684196, -0.0018854 , -0.00462929,\n",
       "         0.00368535, -0.00245393,  0.00941303,  0.00988576, -0.00056897,\n",
       "        -0.00643027, -0.00358821,  0.00320349, -0.00587649,  0.00205228,\n",
       "         0.00730342,  0.00204789,  0.00051628,  0.00503648, -0.00265255,\n",
       "         0.00108932,  0.00390034, -0.00960166,  0.00771006,  0.00575688,\n",
       "         0.00906633, -0.00765455,  0.00432764, -0.00836881, -0.00369853,\n",
       "         0.00984664, -0.00587224,  0.00236016,  0.00470966, -0.00387758,\n",
       "         0.00933588,  0.00656763,  0.00663108, -0.0043171 , -0.0046328 ],\n",
       "       dtype=float32),\n",
       " 'interest': array([ 0.00912703,  0.00314258, -0.00143404, -0.0029845 , -0.00553644,\n",
       "         0.00489275,  0.00765196, -0.00108448, -0.00399443,  0.00183392,\n",
       "        -0.00655549,  0.00632961,  0.00273246, -0.00055818, -0.00818582,\n",
       "         0.0031801 , -0.00907752,  0.00924744, -0.00105287, -0.00731775,\n",
       "        -0.00988815,  0.00228894, -0.00963557,  0.00526216, -0.00914916,\n",
       "        -0.0005215 , -0.00956883,  0.00692149, -0.00318612,  0.0057922 ,\n",
       "        -0.00938369,  0.00304634, -0.00119529,  0.00485657, -0.00860469,\n",
       "         0.00153083, -0.00794713, -0.00328835, -0.01012377,  0.00455162,\n",
       "         0.00994484, -0.00465735,  0.00042388, -0.00107681, -0.00631945,\n",
       "        -0.00703757, -0.00854253,  0.00632722, -0.00305722, -0.0066311 ],\n",
       "       dtype=float32),\n",
       " 'rates': array([ 0.00044186, -0.00522116, -0.00495638, -0.00488969,  0.00055927,\n",
       "         0.00318978, -0.00509355,  0.00906331,  0.00518106, -0.00814938,\n",
       "         0.00249478, -0.00633928,  0.00981836, -0.00327918,  0.00975902,\n",
       "         0.00721317,  0.00897013,  0.00812694,  0.00233201, -0.00727554,\n",
       "         0.00424054, -0.00598008,  0.0064481 ,  0.00468778,  0.00756198,\n",
       "         0.00263335,  0.00663756,  0.00409076, -0.00885309, -0.00411119,\n",
       "         0.00802842,  0.00160649,  0.00123058,  0.00971016, -0.00955887,\n",
       "        -0.00135812,  0.00767004, -0.00444991, -0.00912063,  0.00512213,\n",
       "         0.00300846, -0.00889839, -0.00671658, -0.00433815,  0.00527117,\n",
       "        -0.00492321, -0.00445125, -0.00822656,  0.00772096,  0.00150953],\n",
       "       dtype=float32),\n",
       " 'charged': array([-0.00539001,  0.00122262,  0.00820513,  0.00802714, -0.00257775,\n",
       "        -0.0002907 , -0.00453221, -0.00594993, -0.00263097, -0.00175404,\n",
       "         0.00662225,  0.00463144, -0.00153416,  0.00428664, -0.00635322,\n",
       "         0.0080395 , -0.00602091,  0.00712607,  0.00916556,  0.0020389 ,\n",
       "        -0.00051455, -0.00242398,  0.00217494,  0.00267588,  0.00826957,\n",
       "         0.00854328,  0.00059738,  0.00469542, -0.00840161,  0.00455395,\n",
       "        -0.0081057 ,  0.0052626 , -0.00660471,  0.0058099 , -0.00687716,\n",
       "        -0.00019697,  0.00993997,  0.00228607, -0.00576272, -0.0074155 ,\n",
       "        -0.00765894, -0.00442883,  0.00734952, -0.004618  ,  0.00704014,\n",
       "        -0.00776149,  0.00569982, -0.00752517, -0.00821266, -0.00037123],\n",
       "       dtype=float32),\n",
       " 'lenders': array([-8.2469797e-03,  6.2016421e-03,  3.5787069e-03, -3.5126645e-03,\n",
       "        -2.4316423e-03,  6.3360129e-03, -6.3176504e-03, -9.2070894e-03,\n",
       "        -2.0020912e-04,  1.3318245e-03, -9.9584684e-03,  5.2176747e-03,\n",
       "         1.3397895e-03,  9.3133338e-03, -2.6100499e-03,  3.1275500e-03,\n",
       "         9.9620978e-05, -1.0225833e-03, -3.3584011e-03, -8.1842840e-03,\n",
       "         5.1599462e-03,  8.4361089e-03,  7.6986244e-03,  3.1557940e-03,\n",
       "        -6.1763254e-05, -5.5898796e-03, -6.6848295e-03, -2.5416738e-03,\n",
       "        -9.6276896e-03,  1.3261459e-04,  8.7002506e-03, -8.9433258e-03,\n",
       "         3.3050217e-03, -5.9791924e-03, -2.4926397e-03,  6.3663637e-03,\n",
       "         8.6864422e-04, -9.3700550e-03, -4.3390249e-03, -2.5700331e-03,\n",
       "        -6.3128714e-03,  3.1873214e-03, -7.8604650e-03, -3.9871354e-03,\n",
       "         4.4658496e-03,  2.5916463e-03,  9.0624038e-03,  3.4501296e-03,\n",
       "         4.2255041e-03,  6.3050101e-03], dtype=float32),\n",
       " 'even': array([ 0.00845479, -0.00150048,  0.0026999 , -0.00339676, -0.0040398 ,\n",
       "         0.00926074,  0.00051133,  0.00536557,  0.00270605, -0.00043388,\n",
       "        -0.00099538, -0.00622706, -0.00690628, -0.00367571,  0.00907878,\n",
       "         0.00645509,  0.00856466, -0.00154808,  0.00057481,  0.00156898,\n",
       "         0.0018943 , -0.00293093,  0.0001485 ,  0.0059567 , -0.00607629,\n",
       "         0.00251633, -0.00436945, -0.00640197,  0.00589331, -0.0006575 ,\n",
       "        -0.00056763,  0.00797045,  0.00419789,  0.0037424 , -0.00241387,\n",
       "        -0.00703691, -0.00557198,  0.009639  ,  0.00414828, -0.0019985 ,\n",
       "         0.00614175,  0.00059069,  0.00520735,  0.0086924 ,  0.00404074,\n",
       "         0.00513068, -0.00937359,  0.00408737, -0.00451844, -0.00443254],\n",
       "       dtype=float32),\n",
       " 'slight': array([ 0.00042075,  0.00228239, -0.00406786, -0.0040947 , -0.00954932,\n",
       "        -0.00445705,  0.00307917,  0.00829798, -0.00496537, -0.0007708 ,\n",
       "         0.00091926, -0.00685415,  0.00953283, -0.00747873, -0.00755461,\n",
       "         0.00024053,  0.00839536,  0.00020106, -0.00128037,  0.00457592,\n",
       "        -0.00292579,  0.00183768,  0.00575829, -0.00599336, -0.00046647,\n",
       "        -0.0013493 , -0.00199534,  0.00225248,  0.00828029, -0.00158196,\n",
       "        -0.0075311 , -0.00359503, -0.00077784,  0.00721736, -0.00175838,\n",
       "         0.0060833 , -0.00880241, -0.00886418,  0.00507204,  0.00783014,\n",
       "        -0.00710882,  0.00646649, -0.00904899, -0.00263893, -0.00130599,\n",
       "        -0.00471296, -0.00987353,  0.00463819,  0.00101468,  0.00471592],\n",
       "       dtype=float32),\n",
       " 'variations': array([-0.00099102, -0.00202184, -0.00669052, -0.00121541, -0.0074603 ,\n",
       "         0.00751857,  0.00488237,  0.00432989,  0.00789059, -0.00317088,\n",
       "        -0.00385027,  0.00724174,  0.00623351, -0.00495943,  0.00971706,\n",
       "         0.00551787,  0.00064468, -0.00956707,  0.00261642,  0.00294719,\n",
       "        -0.00083687, -0.00932001, -0.00566115,  0.00299559, -0.00946628,\n",
       "         0.00619124,  0.00653979,  0.00850728, -0.00059537,  0.00121009,\n",
       "         0.00722828,  0.00980096, -0.008021  , -0.00350136, -0.00899331,\n",
       "        -0.00135643, -0.00372433,  0.00892474,  0.00807522,  0.00525959,\n",
       "        -0.00902845,  0.00044925,  0.00162059, -0.00550751, -0.00778826,\n",
       "         0.00780612,  0.00704082, -0.00779477,  0.00859101, -0.00144241],\n",
       "       dtype=float32),\n",
       " 'play': array([ 0.00215584,  0.00790326,  0.0039705 , -0.00751617,  0.001941  ,\n",
       "         0.00945338,  0.00515851, -0.00034192,  0.00487826, -0.00052432,\n",
       "         0.00225614,  0.00107469, -0.0009456 , -0.00091334, -0.00945166,\n",
       "        -0.00258866, -0.00528994, -0.00649935, -0.00049155,  0.00715631,\n",
       "        -0.0027976 ,  0.00150598,  0.0018649 , -0.00503483, -0.0081652 ,\n",
       "         0.0061642 , -0.00559394,  0.00066646,  0.00750786,  0.00075697,\n",
       "         0.00145108,  0.00353114, -0.0083101 ,  0.00163464,  0.00381556,\n",
       "        -0.00516299, -0.00297921, -0.0062148 ,  0.00791129,  0.00955285,\n",
       "        -0.00184152,  0.00726031, -0.00722602, -0.00123863, -0.00397108,\n",
       "         0.00092977, -0.00952414,  0.00574907,  0.00102622, -0.00021908],\n",
       "       dtype=float32),\n",
       " 'huge': array([ 0.00705191, -0.00796868, -0.00614904, -0.00225759,  0.00689972,\n",
       "         0.00809968,  0.0082273 ,  0.00091606, -0.00823891,  0.00822945,\n",
       "         0.0046147 ,  0.00409371, -0.00180184,  0.00025604, -0.00409513,\n",
       "         0.00088678, -0.00015579,  0.00198431, -0.00338414,  0.00249026,\n",
       "         0.00728762,  0.00539327, -0.00926166,  0.00969985,  0.00358085,\n",
       "        -0.0014104 , -0.00200479,  0.00954148,  0.00659167,  0.00207903,\n",
       "        -0.0082162 ,  0.00897698,  0.00393297,  0.00924555,  0.00073586,\n",
       "         0.00125686, -0.00553713,  0.00653399,  0.00140681,  0.00633109,\n",
       "         0.00876115,  0.00110584, -0.00096824, -0.00014658, -0.00228711,\n",
       "         0.00521274, -0.00475779, -0.00092795, -0.00745792,  0.00863783],\n",
       "       dtype=float32),\n",
       " 'role': array([-5.3685671e-03, -3.7042222e-03,  6.9028523e-04,  8.5185980e-03,\n",
       "        -1.9476442e-03, -8.9238491e-03,  2.8751458e-03,  9.0349693e-04,\n",
       "        -7.6652640e-03, -3.7588419e-03, -9.2307404e-03, -7.4018659e-03,\n",
       "        -6.2585194e-03,  2.7214820e-04,  2.7101703e-03,  8.6313114e-03,\n",
       "         4.4286852e-03, -1.8130470e-03,  2.1400221e-03, -6.4928259e-05,\n",
       "        -8.7868981e-03, -2.8940046e-03, -4.4625350e-03, -1.9761069e-04,\n",
       "         5.8829319e-03, -1.6343886e-03,  6.2251505e-03,  5.9372350e-03,\n",
       "        -1.4085191e-03, -8.1594335e-03,  5.2839834e-03,  3.8896040e-03,\n",
       "         1.9520435e-03, -9.7140679e-03, -1.7343269e-03, -3.3656491e-03,\n",
       "         4.6238448e-03,  1.9737172e-03, -3.2772471e-03, -4.1926662e-03,\n",
       "         5.7081780e-03, -6.9375020e-03, -6.3401819e-03, -5.7384855e-04,\n",
       "        -7.4229310e-03, -6.9761961e-03,  5.7470738e-03, -4.0113823e-03,\n",
       "        -1.0959092e-03,  4.0428672e-04], dtype=float32),\n",
       " 'increasing': array([ 0.00760454,  0.00579767, -0.00598298,  0.00275094, -0.00134321,\n",
       "         0.00499447,  0.00884472,  0.0052632 ,  0.00915141, -0.00779268,\n",
       "         0.00777852,  0.00569672, -0.00610617, -0.00972592, -0.00538302,\n",
       "         0.00539237,  0.00523105, -0.00937975, -0.00651155,  0.00271374,\n",
       "         0.00390595,  0.00545373, -0.00899407, -0.00449273, -0.00407669,\n",
       "        -0.00615881, -0.0057698 , -0.00698103,  0.00810408, -0.00920239,\n",
       "        -0.00625555,  0.00501702,  0.00078344, -0.00759701, -0.00260452,\n",
       "         0.00824196, -0.00524234,  0.00229495, -0.00780164,  0.00254597,\n",
       "         0.00148362,  0.00351449,  0.00221206, -0.00883752,  0.00952741,\n",
       "         0.00417843,  0.00167821, -0.00024158, -0.00515785,  0.00861819],\n",
       "       dtype=float32),\n",
       " 'reducing': array([ 0.00392263, -0.00016185, -0.00572832, -0.00115421,  0.00794919,\n",
       "        -0.00349295,  0.00443479, -0.0055056 , -0.00728794,  0.00610371,\n",
       "         0.00822966,  0.00649353, -0.00890137, -0.00016823, -0.00795965,\n",
       "         0.00862182,  0.00799173, -0.00067387,  0.00661118, -0.00112114,\n",
       "         0.00800572, -0.0006444 ,  0.00717751, -0.0055564 , -0.00288699,\n",
       "         0.00635085,  0.00585606, -0.00533948,  0.0048691 , -0.00917065,\n",
       "         0.0094968 , -0.00233365, -0.00811651, -0.00120768, -0.00516934,\n",
       "        -0.00907954, -0.00921016, -0.00762639, -0.0061716 , -0.0067218 ,\n",
       "         0.00131271,  0.00964138,  0.00635468, -0.00386093, -0.00795809,\n",
       "        -0.00494281, -0.00355155,  0.00781685, -0.00640172, -0.00984286],\n",
       "       dtype=float32),\n",
       " 'overall': array([ 3.2920614e-03, -1.5195305e-03, -6.2013785e-03, -4.5060143e-03,\n",
       "        -5.8353408e-03, -2.3686178e-03, -9.2301089e-03,  9.5057124e-03,\n",
       "         6.1462191e-03,  5.6946063e-03,  5.2713550e-04,  6.0221450e-03,\n",
       "         8.0600763e-03,  8.4901971e-05, -6.7351093e-03, -1.6686029e-03,\n",
       "        -4.5102099e-03, -9.0530319e-03, -1.2907056e-03,  9.3919476e-03,\n",
       "         5.3891893e-03,  1.9751329e-03,  7.3906034e-03, -7.5257104e-03,\n",
       "        -8.9184670e-03,  5.3151709e-04, -7.0449375e-03, -3.1471152e-03,\n",
       "        -3.9612320e-03,  4.3600006e-03, -4.7219857e-03,  2.1948367e-03,\n",
       "        -3.3762786e-03,  4.1559399e-03, -5.9633544e-03,  3.5773360e-03,\n",
       "         6.9886004e-03, -1.3548330e-03, -1.4008527e-03, -6.7946692e-03,\n",
       "         9.0769045e-03,  1.3292843e-03, -2.0931868e-03, -8.7669017e-03,\n",
       "        -3.1673850e-03,  3.8951521e-03, -1.4848305e-03, -2.4739857e-04,\n",
       "        -4.3926788e-03, -3.0956487e-03], dtype=float32),\n",
       " 'burden': array([ 0.00746522,  0.00993939,  0.00209804,  0.00583918,  0.00025728,\n",
       "         0.00909141,  0.00895999, -0.00883745, -0.0053339 ,  0.00612977,\n",
       "         0.00721121, -0.00154394,  0.00857254, -0.002836  ,  0.00526393,\n",
       "        -0.00305263,  0.00228297,  0.0061627 , -0.00522464, -0.00913225,\n",
       "         0.00806772, -0.00182171,  0.00845104, -0.00864622,  0.00504382,\n",
       "         0.00137715,  0.00692533, -0.0041716 , -0.0046985 , -0.00200047,\n",
       "        -0.00505123, -0.00270093,  0.00262549, -0.00794638,  0.00451808,\n",
       "        -0.00552742, -0.00426718, -0.00701925, -0.00391272,  0.00824227,\n",
       "         0.00802474,  0.0083438 ,  0.00764814,  0.00146105,  0.00556135,\n",
       "         0.00793716, -0.00734147, -0.00854988, -0.00828389, -0.00206226],\n",
       "       dtype=float32),\n",
       " 'make': array([ 0.00170809,  0.00375403,  0.00656302,  0.00118818, -0.00498318,\n",
       "        -0.00304053, -0.00639439,  0.00669053, -0.00250654, -0.00218965,\n",
       "        -0.00991672, -0.00940967, -0.00094901, -0.00705693, -0.00815451,\n",
       "        -0.0029223 , -0.00064448,  0.00733974, -0.0061258 ,  0.0055062 ,\n",
       "        -0.00789461, -0.00543481, -0.00176062, -0.00420711, -0.00807862,\n",
       "         0.00197782, -0.00522438,  0.00498336, -0.00606377, -0.00610291,\n",
       "         0.00465984,  0.00905118,  0.00808055,  0.00935402,  0.00454129,\n",
       "        -0.00579717, -0.00088028, -0.00111595,  0.00370463, -0.00875326,\n",
       "         0.0057832 , -0.00911947, -0.00612487,  0.00090383,  0.00735087,\n",
       "         0.00161502,  0.00950235,  0.00386982,  0.00949134,  0.0002581 ],\n",
       "       dtype=float32),\n",
       " 'easy': array([ 1.4704562e-04,  2.9435467e-03, -6.8744994e-04,  9.1283619e-03,\n",
       "        -1.6502725e-03, -5.0370116e-03,  1.1454150e-03,  4.2081959e-04,\n",
       "        -9.9492520e-03,  6.4074798e-03,  4.9091000e-03,  6.3887862e-03,\n",
       "        -7.0895995e-03, -3.2305722e-03,  9.9575380e-03,  5.1721450e-05,\n",
       "        -5.1770294e-03, -8.4746899e-03, -2.6211159e-03,  6.5348870e-03,\n",
       "        -5.4214075e-03,  3.4504149e-03,  2.6106273e-03,  2.6790046e-03,\n",
       "        -4.5697019e-03,  5.6301598e-03, -5.0017554e-03,  1.3070513e-03,\n",
       "         6.8914485e-03, -1.6413690e-04, -1.3997731e-03,  6.9274814e-03,\n",
       "        -8.4363474e-03,  7.8947134e-03,  5.5304714e-03,  3.3332489e-03,\n",
       "         2.7642099e-03, -2.0388786e-03,  3.8469851e-03,  2.9518560e-04,\n",
       "        -6.5126121e-03,  1.6201192e-03,  8.4593333e-03, -3.9130072e-03,\n",
       "        -6.4998684e-03,  4.6075392e-03, -6.5320688e-03, -6.5589347e-03,\n",
       "         6.8223504e-03, -1.0921741e-03], dtype=float32),\n",
       " 'you': array([-3.2689993e-03,  7.4229710e-04,  2.1963634e-03,  2.8218606e-03,\n",
       "        -5.9276731e-03, -6.7214738e-03,  3.6112771e-03,  7.6436135e-03,\n",
       "         7.8226700e-03, -6.0788682e-03,  1.1874206e-03, -9.3804644e-03,\n",
       "         8.3852084e-03,  9.5506152e-03, -1.4572733e-03,  1.2035994e-03,\n",
       "         8.3279065e-06, -2.7064907e-03, -3.9417432e-03,  1.2913400e-03,\n",
       "        -6.1645089e-03, -3.6343411e-03, -2.0410707e-04, -6.4004897e-03,\n",
       "         5.1134643e-03,  3.0946035e-03, -2.7496049e-03,  1.9395184e-03,\n",
       "         7.1476945e-03,  7.3586050e-03,  9.3842465e-03, -4.9593793e-03,\n",
       "        -7.3555750e-03,  8.6320192e-03,  4.3883557e-03,  4.9168048e-03,\n",
       "         4.0456806e-03,  7.3302112e-04, -7.6615717e-03,  7.6529211e-03,\n",
       "         6.7667342e-03, -5.9067963e-05,  4.9927924e-03, -3.1677673e-03,\n",
       "         9.5717981e-03,  8.8974368e-03,  1.2518936e-03, -4.8963889e-03,\n",
       "        -1.0065738e-02,  3.0862624e-03], dtype=float32),\n",
       " 'guide': array([-9.4819459e-04, -7.1897160e-04,  8.2513290e-03,  2.2003727e-03,\n",
       "        -8.5681630e-03,  6.2196464e-03,  3.0891967e-03, -9.0208398e-03,\n",
       "        -6.2973477e-04,  4.1262386e-03, -8.5397856e-03,  7.0442110e-03,\n",
       "        -2.2080643e-03, -6.8792544e-04, -5.0590620e-03, -4.9775369e-03,\n",
       "        -4.8140036e-03,  7.4903714e-03,  9.6657145e-04,  5.2211294e-03,\n",
       "         3.7350999e-03, -8.5848063e-04, -3.2093313e-03, -1.6486455e-03,\n",
       "        -5.4998402e-03, -3.6459775e-03, -8.9576971e-03,  2.2412352e-03,\n",
       "         2.9244148e-03,  5.2443547e-03, -3.4899188e-03, -3.6683108e-03,\n",
       "         8.1479978e-03,  9.0275863e-03,  4.4860019e-04,  6.6289306e-03,\n",
       "        -7.2290972e-03,  9.2181293e-03, -2.9658775e-03, -6.1073084e-03,\n",
       "        -7.5826957e-03,  9.6936608e-05, -2.8739506e-04, -2.5252509e-03,\n",
       "        -4.1850433e-03,  3.4624343e-03,  8.0457740e-03,  8.3691743e-04,\n",
       "        -1.9863662e-03,  7.7636410e-03], dtype=float32),\n",
       " 'list': array([ 0.00012461, -0.00165269,  0.00981404, -0.00192535,  0.00995985,\n",
       "         0.00400821,  0.00352453,  0.00208525,  0.00424365, -0.00209552,\n",
       "        -0.00431725, -0.00809644,  0.00534206, -0.00180271, -0.0050028 ,\n",
       "        -0.00452065, -0.00799241, -0.00190555, -0.00032281,  0.00300734,\n",
       "        -0.00311913,  0.00867691, -0.00980864,  0.0084935 ,  0.00425948,\n",
       "        -0.0044471 ,  0.00981312,  0.00424225,  0.00619432, -0.00076083,\n",
       "         0.00844723,  0.00840445,  0.00064873,  0.00043545, -0.00112695,\n",
       "        -0.0049594 ,  0.00900749,  0.00906258,  0.00965292, -0.00178071,\n",
       "         0.00140996,  0.00356587, -0.00022651,  0.00234946,  0.00206338,\n",
       "         0.00627404, -0.00880574,  0.00983445,  0.00544252,  0.00240629],\n",
       "       dtype=float32),\n",
       " 'leading': array([-4.2913831e-03, -3.0448432e-03,  9.0475930e-03, -2.1034910e-03,\n",
       "        -8.7285824e-03,  8.4759230e-03, -3.6767148e-03, -1.0424946e-03,\n",
       "        -4.5767357e-03,  3.9645878e-04,  5.1270179e-03,  1.8236738e-05,\n",
       "         5.7691294e-03,  2.9912704e-04,  3.6025322e-03,  7.5300680e-03,\n",
       "         7.6824371e-03,  5.3680865e-03, -6.0501890e-03,  5.0689629e-04,\n",
       "        -3.2083350e-03,  7.7380333e-03, -8.9411736e-03,  3.4943637e-03,\n",
       "        -4.5851381e-03,  9.6341083e-04, -1.3943579e-03, -1.3745279e-03,\n",
       "        -7.6893535e-03, -4.8755123e-03,  3.6745004e-03,  6.4404067e-03,\n",
       "        -9.6238405e-03,  2.6936703e-03,  9.4371364e-03, -9.9179437e-03,\n",
       "         3.8948231e-03,  3.4117370e-03, -5.3877258e-03,  4.0310263e-03,\n",
       "         1.4485632e-03,  6.9995834e-03,  3.3292843e-03, -7.0180339e-03,\n",
       "        -8.2876422e-03, -9.1319541e-03, -9.4954092e-03,  7.1741515e-03,\n",
       "        -1.0591917e-03, -5.3550717e-03], dtype=float32),\n",
       " 'use': array([-5.9694811e-03,  2.6174550e-04, -5.7466510e-03,  9.5516481e-03,\n",
       "        -1.1199123e-03, -1.9881160e-03, -9.4769523e-03, -7.4733086e-03,\n",
       "        -7.7916309e-04, -6.0050320e-03, -5.9964117e-03,  2.5119998e-03,\n",
       "         3.1616543e-03, -6.1140959e-03,  8.1532756e-03,  1.3010142e-03,\n",
       "        -9.6144071e-03,  9.4137406e-03, -4.6940689e-04,  6.0952995e-03,\n",
       "         7.1332124e-03,  4.7881398e-03,  9.8013447e-04,  3.5777683e-03,\n",
       "        -9.4474982e-03, -6.7317537e-03,  1.8125282e-03,  7.5239288e-03,\n",
       "        -1.0460601e-03, -8.7300986e-03, -4.5268149e-03,  2.2247969e-03,\n",
       "         9.7066216e-04,  1.5439091e-03, -7.7031911e-03, -1.7881015e-03,\n",
       "        -8.0896942e-03,  1.5956418e-03, -2.8379846e-03, -8.9979572e-03,\n",
       "         5.4980777e-03, -9.3729515e-03, -4.8477757e-03, -4.8714233e-04,\n",
       "        -5.3602643e-03, -4.9604103e-04, -3.6122017e-03,  4.0543298e-03,\n",
       "         9.8156203e-03, -2.2493894e-05], dtype=float32),\n",
       " 'handy': array([-5.9631239e-03,  5.8480967e-03,  3.6779807e-03, -6.0192402e-03,\n",
       "         2.6533889e-04,  9.3638543e-03,  6.8873451e-03, -1.3428103e-03,\n",
       "         5.8748838e-03,  3.6470883e-03,  8.6580608e-03,  9.8473392e-03,\n",
       "         9.3399193e-03, -7.0096263e-05, -9.3355225e-03, -9.9438550e-03,\n",
       "         5.5737556e-03, -1.3153902e-03, -8.6557213e-03,  8.7455381e-03,\n",
       "         1.9224066e-03,  2.2556258e-03, -7.9150414e-03,  8.7794457e-03,\n",
       "         6.7003793e-03, -1.6024692e-03,  6.5784436e-03,  7.5493841e-03,\n",
       "         9.9384552e-03,  6.0544359e-03, -3.3130399e-03,  1.8990366e-03,\n",
       "        -1.0106715e-02, -9.0559693e-03, -3.1868485e-03, -4.1850270e-03,\n",
       "         6.8864268e-03, -5.0926926e-03,  1.9499325e-03,  9.7239166e-03,\n",
       "        -3.1135639e-03,  3.4507364e-03, -1.9158786e-03, -9.8411730e-03,\n",
       "        -8.9811292e-03,  2.2534863e-03, -1.1825247e-03,  4.8354282e-03,\n",
       "        -4.4749840e-03, -5.6402269e-03], dtype=float32),\n",
       " 'table': array([-0.00573286, -0.00487984,  0.00567434,  0.00520102,  0.00768799,\n",
       "        -0.00710028, -0.00972486,  0.00019833,  0.00510006, -0.00515962,\n",
       "        -0.00800274, -0.00589256,  0.00249362,  0.00049021,  0.00785577,\n",
       "         0.00876704, -0.00326764, -0.00699653, -0.00459629, -0.00526171,\n",
       "         0.00932815,  0.00866488,  0.00158117,  0.00047466, -0.00542747,\n",
       "        -0.00174516,  0.00326547, -0.00225919, -0.00676542,  0.0036659 ,\n",
       "         0.00416288,  0.00033974, -0.00696081, -0.00061354,  0.00049187,\n",
       "         0.00862404, -0.00527267,  0.00216083, -0.00864842, -0.00071701,\n",
       "        -0.00113943, -0.00761021,  0.00872883,  0.00181835,  0.00753169,\n",
       "        -0.00975584, -0.00933894,  0.00306671, -0.00953222, -0.00384633],\n",
       "       dtype=float32),\n",
       " 'quickly': array([ 5.5139707e-03, -3.5303310e-03, -6.3590729e-03, -3.6064435e-03,\n",
       "        -3.9516087e-03,  9.4814189e-03,  2.2345430e-03, -1.9968771e-03,\n",
       "         1.6717212e-03, -5.5454448e-03, -9.8625384e-03, -9.5743015e-03,\n",
       "        -9.1104107e-03, -6.3564244e-04,  8.3319293e-03,  7.4277227e-03,\n",
       "         1.1182845e-03,  1.0022939e-02,  6.8882378e-03,  7.5341333e-03,\n",
       "         3.3703879e-03, -9.6812975e-03, -7.7149301e-04, -4.6099718e-03,\n",
       "         5.1607220e-03, -9.1404095e-03,  6.3286819e-03, -4.5301169e-03,\n",
       "         8.1459172e-03, -2.7090181e-03,  3.6563231e-03, -8.7884096e-03,\n",
       "         5.0806184e-03,  3.5474307e-03,  5.0816856e-05,  4.2588157e-03,\n",
       "         1.3610552e-03,  6.3606012e-03,  2.4255596e-03,  4.1119554e-03,\n",
       "        -8.5398685e-03,  6.7386697e-03,  9.7552454e-03, -7.5142956e-03,\n",
       "        -6.6870460e-03,  8.2196547e-03, -7.7211871e-03,  3.2915685e-03,\n",
       "         2.4508631e-03,  1.2583632e-03], dtype=float32),\n",
       " 'decision': array([ 0.00716192,  0.00221994, -0.00291885,  0.00427223, -0.00699133,\n",
       "         0.00645429,  0.00420934, -0.00870095, -0.00481782, -0.00978532,\n",
       "         0.00084697, -0.00896148, -0.00871591, -0.00792012,  0.00330725,\n",
       "         0.001062  , -0.00436734,  0.00961422, -0.00278406, -0.00256108,\n",
       "        -0.00219302,  0.00291163, -0.00104935, -0.00962695, -0.00765806,\n",
       "        -0.00729856, -0.00346185, -0.00401057,  0.00201431, -0.00343873,\n",
       "        -0.00198242, -0.00760861,  0.00548797,  0.00188819, -0.00945608,\n",
       "         0.00275513, -0.00327565, -0.00622568, -0.0051718 , -0.00732814,\n",
       "        -0.00115321, -0.00976268, -0.00738144,  0.00826242,  0.00258114,\n",
       "        -0.00468231, -0.0041986 , -0.0027548 , -0.00018764, -0.00414882],\n",
       "       dtype=float32)}"
      ]
     },
     "execution_count": 23,
     "metadata": {},
     "output_type": "execute_result"
    }
   ],
   "source": [
    "my_dict"
   ]
  },
  {
   "cell_type": "code",
   "execution_count": 24,
   "metadata": {
    "colab": {
     "base_uri": "https://localhost:8080/"
    },
    "id": "8f9LO8NI8DHU",
    "outputId": "6078e3fa-05cc-4936-aa44-cc971b892882"
   },
   "outputs": [
    {
     "data": {
      "text/plain": [
       "{'owning': <gensim.models.keyedvectors.Vocab at 0x7fee30755a00>,\n",
       " 'car': <gensim.models.keyedvectors.Vocab at 0x7fee30755b20>,\n",
       " 'longer': <gensim.models.keyedvectors.Vocab at 0x7fee30755b80>,\n",
       " 'luxury': <gensim.models.keyedvectors.Vocab at 0x7fee30755a60>,\n",
       " 'become': <gensim.models.keyedvectors.Vocab at 0x7fee30755af0>,\n",
       " 'necessity': <gensim.models.keyedvectors.Vocab at 0x7fee30755910>,\n",
       " 'whether': <gensim.models.keyedvectors.Vocab at 0x7fee30755670>,\n",
       " 'drive': <gensim.models.keyedvectors.Vocab at 0x7fee30755e50>,\n",
       " 'work': <gensim.models.keyedvectors.Vocab at 0x7fee30755eb0>,\n",
       " 'enjoy': <gensim.models.keyedvectors.Vocab at 0x7fee30755f10>,\n",
       " 'weekend': <gensim.models.keyedvectors.Vocab at 0x7fee30755f70>,\n",
       " 'drives': <gensim.models.keyedvectors.Vocab at 0x7fee30755fd0>,\n",
       " 'family': <gensim.models.keyedvectors.Vocab at 0x7fee30769070>,\n",
       " 'simplify': <gensim.models.keyedvectors.Vocab at 0x7fee307690d0>,\n",
       " 'travels': <gensim.models.keyedvectors.Vocab at 0x7fee30769130>,\n",
       " 'forget': <gensim.models.keyedvectors.Vocab at 0x7fee30769190>,\n",
       " 'ease': <gensim.models.keyedvectors.Vocab at 0x7fee307691f0>,\n",
       " 'comfort': <gensim.models.keyedvectors.Vocab at 0x7fee30769250>,\n",
       " 'brings': <gensim.models.keyedvectors.Vocab at 0x7fee307692b0>,\n",
       " 'purchasing': <gensim.models.keyedvectors.Vocab at 0x7fee30769310>,\n",
       " 'dream': <gensim.models.keyedvectors.Vocab at 0x7fee30769370>,\n",
       " 'vehicle': <gensim.models.keyedvectors.Vocab at 0x7fee307693d0>,\n",
       " 'easier': <gensim.models.keyedvectors.Vocab at 0x7fee30769430>,\n",
       " 'ever': <gensim.models.keyedvectors.Vocab at 0x7fee30769490>,\n",
       " 'millions': <gensim.models.keyedvectors.Vocab at 0x7fee307694f0>,\n",
       " 'indians': <gensim.models.keyedvectors.Vocab at 0x7fee30769550>,\n",
       " 'thanks': <gensim.models.keyedvectors.Vocab at 0x7fee307695b0>,\n",
       " 'widespread': <gensim.models.keyedvectors.Vocab at 0x7fee30769610>,\n",
       " 'availability': <gensim.models.keyedvectors.Vocab at 0x7fee30769670>,\n",
       " 'loans': <gensim.models.keyedvectors.Vocab at 0x7fee307696d0>,\n",
       " 'india': <gensim.models.keyedvectors.Vocab at 0x7fee30769730>,\n",
       " 'offer': <gensim.models.keyedvectors.Vocab at 0x7fee30769790>,\n",
       " 'money': <gensim.models.keyedvectors.Vocab at 0x7fee307697f0>,\n",
       " 'upfront': <gensim.models.keyedvectors.Vocab at 0x7fee30769850>,\n",
       " 'comfortably': <gensim.models.keyedvectors.Vocab at 0x7fee307698b0>,\n",
       " 'repay': <gensim.models.keyedvectors.Vocab at 0x7fee30769910>,\n",
       " 'borrowed': <gensim.models.keyedvectors.Vocab at 0x7fee30769970>,\n",
       " 'amount': <gensim.models.keyedvectors.Vocab at 0x7fee307699d0>,\n",
       " 'via': <gensim.models.keyedvectors.Vocab at 0x7fee30769a30>,\n",
       " 'affordable': <gensim.models.keyedvectors.Vocab at 0x7fee30769a90>,\n",
       " 'monthly': <gensim.models.keyedvectors.Vocab at 0x7fee30769af0>,\n",
       " 'emis': <gensim.models.keyedvectors.Vocab at 0x7fee30769b50>,\n",
       " 'auto': <gensim.models.keyedvectors.Vocab at 0x7fee30769bb0>,\n",
       " 'loan': <gensim.models.keyedvectors.Vocab at 0x7fee30769c10>,\n",
       " 'secured': <gensim.models.keyedvectors.Vocab at 0x7fee30769c70>,\n",
       " 'acts': <gensim.models.keyedvectors.Vocab at 0x7fee30769cd0>,\n",
       " 'guarantee': <gensim.models.keyedvectors.Vocab at 0x7fee30769d30>,\n",
       " 'need': <gensim.models.keyedvectors.Vocab at 0x7fee30769d90>,\n",
       " 'provide': <gensim.models.keyedvectors.Vocab at 0x7fee30769df0>,\n",
       " 'additional': <gensim.models.keyedvectors.Vocab at 0x7fee30769e50>,\n",
       " 'asset': <gensim.models.keyedvectors.Vocab at 0x7fee30769eb0>,\n",
       " 'mortgage': <gensim.models.keyedvectors.Vocab at 0x7fee30769f10>,\n",
       " 'procuring': <gensim.models.keyedvectors.Vocab at 0x7fee30769f70>,\n",
       " 'apply': <gensim.models.keyedvectors.Vocab at 0x7fee30769fd0>,\n",
       " 'compare': <gensim.models.keyedvectors.Vocab at 0x7fee3076a070>,\n",
       " 'interest': <gensim.models.keyedvectors.Vocab at 0x7fee3076a0d0>,\n",
       " 'rates': <gensim.models.keyedvectors.Vocab at 0x7fee3076a130>,\n",
       " 'charged': <gensim.models.keyedvectors.Vocab at 0x7fee3076a190>,\n",
       " 'lenders': <gensim.models.keyedvectors.Vocab at 0x7fee3076a1f0>,\n",
       " 'even': <gensim.models.keyedvectors.Vocab at 0x7fee3076a250>,\n",
       " 'slight': <gensim.models.keyedvectors.Vocab at 0x7fee3076a2b0>,\n",
       " 'variations': <gensim.models.keyedvectors.Vocab at 0x7fee3076a310>,\n",
       " 'play': <gensim.models.keyedvectors.Vocab at 0x7fee3076a370>,\n",
       " 'huge': <gensim.models.keyedvectors.Vocab at 0x7fee3076a3d0>,\n",
       " 'role': <gensim.models.keyedvectors.Vocab at 0x7fee3076a430>,\n",
       " 'increasing': <gensim.models.keyedvectors.Vocab at 0x7fee3076a490>,\n",
       " 'reducing': <gensim.models.keyedvectors.Vocab at 0x7fee3076a4f0>,\n",
       " 'overall': <gensim.models.keyedvectors.Vocab at 0x7fee3076a550>,\n",
       " 'burden': <gensim.models.keyedvectors.Vocab at 0x7fee3076a5b0>,\n",
       " 'make': <gensim.models.keyedvectors.Vocab at 0x7fee3076a610>,\n",
       " 'easy': <gensim.models.keyedvectors.Vocab at 0x7fee3076a670>,\n",
       " 'you': <gensim.models.keyedvectors.Vocab at 0x7fee3076a6d0>,\n",
       " 'guide': <gensim.models.keyedvectors.Vocab at 0x7fee3076a730>,\n",
       " 'list': <gensim.models.keyedvectors.Vocab at 0x7fee3076a790>,\n",
       " 'leading': <gensim.models.keyedvectors.Vocab at 0x7fee3076a7f0>,\n",
       " 'use': <gensim.models.keyedvectors.Vocab at 0x7fee3076a850>,\n",
       " 'handy': <gensim.models.keyedvectors.Vocab at 0x7fee3076a8b0>,\n",
       " 'table': <gensim.models.keyedvectors.Vocab at 0x7fee3076a910>,\n",
       " 'quickly': <gensim.models.keyedvectors.Vocab at 0x7fee3076a970>,\n",
       " 'decision': <gensim.models.keyedvectors.Vocab at 0x7fee3076a9d0>}"
      ]
     },
     "execution_count": 24,
     "metadata": {},
     "output_type": "execute_result"
    }
   ],
   "source": [
    "model.wv.vocab"
   ]
  },
  {
   "cell_type": "code",
   "execution_count": 25,
   "metadata": {
    "id": "NIha29ByWXvB"
   },
   "outputs": [],
   "source": [
    "# Function returning vector reperesentation of a query\n",
    "# def get_embedding_w2v(query_tokens):\n",
    "#     embeddings = []\n",
    "#     if len(query_tokens)<1:\n",
    "#         return np.zeros(300)\n",
    "#     else:\n",
    "#         for tok in query_tokens:\n",
    "#             if tok in model.wv.vocab:\n",
    "#                 embeddings.append(model.wv.word_vec(tok))\n",
    "#             else:\n",
    "#                 embeddings.append(np.random.rand(300))\n",
    "#         # mean the vectors of individual words to get the vector of the document\n",
    "#         return np.mean(embeddings, axis=0)\n",
    "\n",
    "# # Getting Word2Vec Vectors for Queries\n",
    "# queries_df['vector']=queries_df['queries_cleaned'].apply(lambda x :get_embedding_w2v(x.split()))"
   ]
  },
  {
   "cell_type": "code",
   "execution_count": 26,
   "metadata": {
    "id": "IB5hCvrnXBdL"
   },
   "outputs": [],
   "source": [
    "# from sklearn.metrics.pairwise import cosine_similarity\n",
    "\n",
    "# # Function for calculating average precision for a query\n",
    "# def average_precision(qid,qvector):\n",
    "  \n",
    "#   # Getting the ground truth and document vectors\n",
    "#   qresult=testing_result.loc[testing_result['qid']==qid,['docid','rel']]\n",
    "#   qcorpus=testing_corpus.loc[testing_corpus['docid'].isin(qresult['docid']),['docid','vector']]\n",
    "#   qresult=pd.merge(qresult,qcorpus,on='docid')\n",
    "  \n",
    "#   # Ranking documents for the query\n",
    "#   qresult['similarity']=qresult['vector'].apply(lambda x: cosine_similarity(np.array(qvector).reshape(1, -1),np.array(x).reshape(1, -1)).item())\n",
    "#   qresult.sort_values(by='similarity',ascending=False,inplace=True)\n",
    "\n",
    "#   # Taking Top 10 documents for the evaluation\n",
    "#   ranking=qresult.head(10)['rel'].values\n",
    "  \n",
    "#   # Calculating precision\n",
    "#   precision=[]\n",
    "#   for i in range(1,11):\n",
    "#     if ranking[i-1]:\n",
    "#       precision.append(np.sum(ranking[:i])/i)\n",
    "  \n",
    "#   # If no relevant document in list then return 0\n",
    "#   if precision==[]:\n",
    "#     return 0\n",
    "\n",
    "#   return np.mean(precision)\n",
    "\n",
    "# # Calculating average precision for all queries in the test set\n",
    "# testing_queries['AP']=testing_queries.apply(lambda x: average_precision(x['qid'],x['vector']),axis=1)\n",
    "\n",
    "# # Finding Mean Average Precision\n",
    "# print('Mean Average Precision=>',testing_queries['AP'].mean())\n"
   ]
  },
  {
   "cell_type": "code",
   "execution_count": 27,
   "metadata": {
    "id": "h8BF-UNJ3G98"
   },
   "outputs": [],
   "source": [
    "search = queries_df['queries_cleaned'][0].split()"
   ]
  },
  {
   "cell_type": "code",
   "execution_count": 28,
   "metadata": {
    "colab": {
     "base_uri": "https://localhost:8080/"
    },
    "id": "CBv7lJMiHDXO",
    "outputId": "f2d26235-77b6-4200-e47b-4569a61ed35a"
   },
   "outputs": [
    {
     "data": {
      "text/plain": [
       "['car', 'loan', 'offer']"
      ]
     },
     "execution_count": 28,
     "metadata": {},
     "output_type": "execute_result"
    }
   ],
   "source": [
    "search"
   ]
  },
  {
   "cell_type": "code",
   "execution_count": 29,
   "metadata": {
    "colab": {
     "base_uri": "https://localhost:8080/"
    },
    "id": "gtR2lfjGBGro",
    "outputId": "19aa523a-9031-4900-f83d-57e13824358c"
   },
   "outputs": [
    {
     "data": {
      "text/plain": [
       "[('increasing', 0.2691025137901306),\n",
       " ('burden', 0.25217533111572266),\n",
       " ('quickly', 0.24354708194732666),\n",
       " ('handy', 0.22967523336410522)]"
      ]
     },
     "execution_count": 29,
     "metadata": {},
     "output_type": "execute_result"
    }
   ],
   "source": [
    "res = model.wv.most_similar(positive=search,topn=4)\n",
    "res"
   ]
  },
  {
   "cell_type": "code",
   "execution_count": null,
   "metadata": {
    "id": "Gt7aFLJy96VX"
   },
   "outputs": [],
   "source": []
  },
  {
   "cell_type": "code",
   "execution_count": null,
   "metadata": {
    "id": "NO7aJGGgF4nk"
   },
   "outputs": [],
   "source": []
  },
  {
   "cell_type": "code",
   "execution_count": null,
   "metadata": {
    "id": "f6TH-2-1F4jy"
   },
   "outputs": [],
   "source": []
  },
  {
   "cell_type": "code",
   "execution_count": null,
   "metadata": {
    "id": "0cchqEGBF4g8"
   },
   "outputs": [],
   "source": []
  },
  {
   "cell_type": "code",
   "execution_count": null,
   "metadata": {
    "id": "D7AuJy-WF4da"
   },
   "outputs": [],
   "source": []
  },
  {
   "cell_type": "code",
   "execution_count": null,
   "metadata": {
    "id": "oD_b4NYidClI"
   },
   "outputs": [],
   "source": []
  },
  {
   "cell_type": "markdown",
   "metadata": {
    "id": "ac0Fm-RDuwbi"
   },
   "source": [
    "Doc2Vec"
   ]
  },
  {
   "cell_type": "code",
   "execution_count": 30,
   "metadata": {
    "id": "Giex7yvBdGMd"
   },
   "outputs": [],
   "source": [
    "import gensim\n",
    "from gensim.models.doc2vec import Doc2Vec, TaggedDocument\n",
    "from nltk.tokenize import word_tokenize\n",
    "from gensim.models.doc2vec import Doc2Vec"
   ]
  },
  {
   "cell_type": "code",
   "execution_count": 31,
   "metadata": {
    "id": "Y7hGuTtPnQ56"
   },
   "outputs": [],
   "source": [
    "data = [\"The process of searching for a job can be very stressful, but it doesn’t have to be. Start with a\\\n",
    "        well-written resume that has appropriate keywords for your occupation. Next, conduct a targeted job search\\\n",
    "        for positions that meet your needs.\",\n",
    "        \"Gardening in mixed beds is a great way to get the most productivity from a small space. Some investment\\\n",
    "        is required, to purchase materials for the beds themselves, as well as soil and compost. The\\\n",
    "        investment will likely pay-off in terms of increased productivity.\",\n",
    "        \"Looking for a job can be very stressful, but it doesn’t have to be. Begin by writing a good resume with\\\n",
    "        appropriate keywords for your occupation. Second, target your job search for positions that match your\\\n",
    "        needs.\"]"
   ]
  },
  {
   "cell_type": "code",
   "execution_count": 32,
   "metadata": {
    "id": "sbUpsem2n3TB"
   },
   "outputs": [],
   "source": [
    "# import nltk\n",
    "# nltk.download('all')"
   ]
  },
  {
   "cell_type": "code",
   "execution_count": 33,
   "metadata": {
    "id": "lq4YmLT6nWor"
   },
   "outputs": [],
   "source": [
    "tagged_data = [TaggedDocument(words=word_tokenize(_d.lower()), tags=[str(i)]) for i, _d in enumerate(data)]"
   ]
  },
  {
   "cell_type": "code",
   "execution_count": 34,
   "metadata": {
    "colab": {
     "base_uri": "https://localhost:8080/"
    },
    "id": "DNA3kEbOnp3j",
    "outputId": "c5bfede8-a77d-439d-a4be-5d80ea43f511"
   },
   "outputs": [
    {
     "name": "stdout",
     "output_type": "stream",
     "text": [
      "[TaggedDocument(words=['the', 'process', 'of', 'searching', 'for', 'a', 'job', 'can', 'be', 'very', 'stressful', ',', 'but', 'it', 'doesn', '’', 't', 'have', 'to', 'be', '.', 'start', 'with', 'a', 'well-written', 'resume', 'that', 'has', 'appropriate', 'keywords', 'for', 'your', 'occupation', '.', 'next', ',', 'conduct', 'a', 'targeted', 'job', 'search', 'for', 'positions', 'that', 'meet', 'your', 'needs', '.'], tags=['0']), TaggedDocument(words=['gardening', 'in', 'mixed', 'beds', 'is', 'a', 'great', 'way', 'to', 'get', 'the', 'most', 'productivity', 'from', 'a', 'small', 'space', '.', 'some', 'investment', 'is', 'required', ',', 'to', 'purchase', 'materials', 'for', 'the', 'beds', 'themselves', ',', 'as', 'well', 'as', 'soil', 'and', 'compost', '.', 'the', 'investment', 'will', 'likely', 'pay-off', 'in', 'terms', 'of', 'increased', 'productivity', '.'], tags=['1']), TaggedDocument(words=['looking', 'for', 'a', 'job', 'can', 'be', 'very', 'stressful', ',', 'but', 'it', 'doesn', '’', 't', 'have', 'to', 'be', '.', 'begin', 'by', 'writing', 'a', 'good', 'resume', 'with', 'appropriate', 'keywords', 'for', 'your', 'occupation', '.', 'second', ',', 'target', 'your', 'job', 'search', 'for', 'positions', 'that', 'match', 'your', 'needs', '.'], tags=['2'])]\n"
     ]
    }
   ],
   "source": [
    "print (tagged_data)"
   ]
  },
  {
   "cell_type": "code",
   "execution_count": 35,
   "metadata": {
    "id": "nt3o04ufoMS5"
   },
   "outputs": [],
   "source": [
    "model = gensim.models.doc2vec.Doc2Vec(vector_size=50, min_count=1)"
   ]
  },
  {
   "cell_type": "code",
   "execution_count": 36,
   "metadata": {
    "id": "ni2OsVTIoZKU"
   },
   "outputs": [],
   "source": [
    "model.build_vocab(tagged_data)"
   ]
  },
  {
   "cell_type": "code",
   "execution_count": 37,
   "metadata": {
    "colab": {
     "base_uri": "https://localhost:8080/"
    },
    "id": "as1CBRKyog_F",
    "outputId": "83ecada4-99a3-4948-b685-696a8fca7d80"
   },
   "outputs": [
    {
     "data": {
      "text/plain": [
       "3"
      ]
     },
     "execution_count": 37,
     "metadata": {},
     "output_type": "execute_result"
    }
   ],
   "source": [
    "model.corpus_count"
   ]
  },
  {
   "cell_type": "code",
   "execution_count": 38,
   "metadata": {
    "id": "93I3goScob9s"
   },
   "outputs": [],
   "source": [
    "model.train(tagged_data, total_examples=model.corpus_count,epochs=100)"
   ]
  },
  {
   "cell_type": "code",
   "execution_count": 39,
   "metadata": {
    "id": "VJs_HNE8onQS"
   },
   "outputs": [],
   "source": [
    "query = 'process of searching a job'.lower()"
   ]
  },
  {
   "cell_type": "code",
   "execution_count": 40,
   "metadata": {
    "id": "cG-EuEVKpAk7"
   },
   "outputs": [],
   "source": [
    "#query_tagged_data = [TaggedDocument(words=word_tokenize(_d.lower()), tags=[str(i)]) for i, _d in enumerate(query)]"
   ]
  },
  {
   "cell_type": "code",
   "execution_count": 41,
   "metadata": {
    "id": "b2Cyc7EuzdOc"
   },
   "outputs": [],
   "source": [
    "query_tokenized = word_tokenize(query)"
   ]
  },
  {
   "cell_type": "code",
   "execution_count": 42,
   "metadata": {
    "colab": {
     "base_uri": "https://localhost:8080/"
    },
    "id": "8WJZ_nNLzxOS",
    "outputId": "b26a9a7b-99c6-410d-9f05-6f948bd32a72"
   },
   "outputs": [
    {
     "name": "stdout",
     "output_type": "stream",
     "text": [
      "process of searching a job\n",
      "['process', 'of', 'searching', 'a', 'job']\n"
     ]
    }
   ],
   "source": [
    "print(query)\n",
    "print(query_tokenized)"
   ]
  },
  {
   "cell_type": "code",
   "execution_count": 43,
   "metadata": {
    "id": "jMFmGwplvGzI"
   },
   "outputs": [],
   "source": [
    "#print(query_tagged_data)\n",
    "query_vec = model.infer_vector(query_tokenized)"
   ]
  },
  {
   "cell_type": "code",
   "execution_count": 44,
   "metadata": {
    "colab": {
     "base_uri": "https://localhost:8080/"
    },
    "id": "5vxEgo7m0DSo",
    "outputId": "61f89bcf-bec5-4785-f6ab-0747fc0be77d"
   },
   "outputs": [
    {
     "data": {
      "text/plain": [
       "50"
      ]
     },
     "execution_count": 44,
     "metadata": {},
     "output_type": "execute_result"
    }
   ],
   "source": [
    "len(query_vec)"
   ]
  },
  {
   "cell_type": "code",
   "execution_count": 45,
   "metadata": {
    "id": "BYwosXsdw3Rg"
   },
   "outputs": [],
   "source": [
    "from sklearn.metrics.pairwise import cosine_similarity"
   ]
  },
  {
   "cell_type": "code",
   "execution_count": 46,
   "metadata": {
    "colab": {
     "base_uri": "https://localhost:8080/"
    },
    "id": "-RTEyyS8xjXz",
    "outputId": "c9bbf9f4-85e5-48b0-b245-a57725538bb8"
   },
   "outputs": [
    {
     "data": {
      "text/plain": [
       "array([-0.03016173, -0.180061  ,  0.01067809,  0.03839802,  0.1139955 ,\n",
       "        0.21592875, -0.41447943,  0.5810642 ,  0.24364698, -0.09098065,\n",
       "        0.1062103 , -0.39281523,  0.29902577,  0.18467925,  0.52572256,\n",
       "        0.08900933, -0.25466555,  0.1321458 , -0.59352624, -0.32279444,\n",
       "        0.01047566, -0.19169186,  0.16327046,  0.28052536, -0.63208956,\n",
       "       -0.1084457 , -0.26082107, -0.35793042, -0.15362631,  0.08357804,\n",
       "        0.17266004,  0.21756546,  0.17086874, -0.14229459,  0.579431  ,\n",
       "       -0.16992411, -0.45083657, -0.9059317 , -0.120997  ,  0.27234802,\n",
       "        0.18110901,  0.35833496, -0.05521316,  0.47466668, -0.12469569,\n",
       "        0.03187736,  0.50552547, -0.07633592, -0.25747195, -0.6123367 ],\n",
       "      dtype=float32)"
      ]
     },
     "execution_count": 46,
     "metadata": {},
     "output_type": "execute_result"
    }
   ],
   "source": [
    "model.docvecs[1]"
   ]
  },
  {
   "cell_type": "code",
   "execution_count": 47,
   "metadata": {
    "colab": {
     "base_uri": "https://localhost:8080/"
    },
    "id": "UZ7EcgaK3JEi",
    "outputId": "5c9761d0-fc60-4aa0-89ee-9826d67b11ec"
   },
   "outputs": [
    {
     "data": {
      "text/plain": [
       "array([-0.00982835, -0.08048742,  0.01718349,  0.02073304,  0.05296005,\n",
       "        0.0990138 , -0.18309185,  0.26962605,  0.11534223, -0.03852508,\n",
       "        0.0544016 , -0.18225178,  0.14874598,  0.07485695,  0.24424621,\n",
       "        0.03098448, -0.12384521,  0.0519974 , -0.27887937, -0.14808168,\n",
       "        0.00786661, -0.09095431,  0.07908096,  0.13627738, -0.30050296,\n",
       "       -0.05592032, -0.11396559, -0.17436309, -0.07770725,  0.02663039,\n",
       "        0.07478848,  0.10936848,  0.08822712, -0.06428901,  0.2596563 ,\n",
       "       -0.06788894, -0.2032232 , -0.4232457 , -0.0610315 ,  0.13013156,\n",
       "        0.07520054,  0.15975401, -0.0245743 ,  0.22894537, -0.06321605,\n",
       "        0.00396605,  0.22424985, -0.04089557, -0.11540613, -0.28411666],\n",
       "      dtype=float32)"
      ]
     },
     "execution_count": 47,
     "metadata": {},
     "output_type": "execute_result"
    }
   ],
   "source": [
    "query_vec"
   ]
  },
  {
   "cell_type": "code",
   "execution_count": 48,
   "metadata": {
    "colab": {
     "base_uri": "https://localhost:8080/"
    },
    "id": "yotUZMW1_7H_",
    "outputId": "b305928a-e498-4cc3-9c09-16c53a906f99"
   },
   "outputs": [
    {
     "data": {
      "text/plain": [
       "array([-0.00702693, -0.125128  ,  0.02104058,  0.03788082,  0.07891085,\n",
       "        0.15297   , -0.31005806,  0.43893063,  0.18619025, -0.05855317,\n",
       "        0.07008303, -0.2934002 ,  0.23925248,  0.13832709,  0.39931768,\n",
       "        0.05294726, -0.20011395,  0.07651761, -0.44981158, -0.228433  ,\n",
       "        0.00897306, -0.14460835,  0.13567004,  0.20386796, -0.48529738,\n",
       "       -0.08220822, -0.19643193, -0.28162366, -0.1089528 ,  0.04368239,\n",
       "        0.11772045,  0.16304518,  0.13455425, -0.10592616,  0.43866968,\n",
       "       -0.11157077, -0.31827307, -0.6803794 , -0.07548494,  0.20232473,\n",
       "        0.13810536,  0.26604298, -0.04847639,  0.35716367, -0.09231748,\n",
       "        0.01001503,  0.36654377, -0.06047364, -0.20695136, -0.46088654],\n",
       "      dtype=float32)"
      ]
     },
     "execution_count": 48,
     "metadata": {},
     "output_type": "execute_result"
    }
   ],
   "source": [
    "model.docvecs[0]"
   ]
  },
  {
   "cell_type": "code",
   "execution_count": 49,
   "metadata": {
    "id": "L2FIqnu5_xGh"
   },
   "outputs": [],
   "source": [
    "import numpy as np"
   ]
  },
  {
   "cell_type": "code",
   "execution_count": 50,
   "metadata": {
    "id": "L26hW8n9BrY0"
   },
   "outputs": [],
   "source": [
    "data_array = np.array([model.docvecs[0],model.docvecs[1],model.docvecs[2]])"
   ]
  },
  {
   "cell_type": "code",
   "execution_count": 51,
   "metadata": {
    "id": "oekRUFr1B7lM"
   },
   "outputs": [],
   "source": [
    "query_v = query_vec.reshape(1,50)"
   ]
  },
  {
   "cell_type": "code",
   "execution_count": 52,
   "metadata": {
    "colab": {
     "base_uri": "https://localhost:8080/"
    },
    "id": "WZg3wD84C_jE",
    "outputId": "ed5bf7f7-6992-4c31-9cc9-6350b01f8a29"
   },
   "outputs": [
    {
     "data": {
      "text/plain": [
       "(3, 50)"
      ]
     },
     "execution_count": 52,
     "metadata": {},
     "output_type": "execute_result"
    }
   ],
   "source": [
    "data_array.shape"
   ]
  },
  {
   "cell_type": "code",
   "execution_count": 53,
   "metadata": {
    "id": "XJ4wNNDExaRp"
   },
   "outputs": [],
   "source": [
    "results = cosine_similarity(data_array, query_v)"
   ]
  },
  {
   "cell_type": "code",
   "execution_count": 54,
   "metadata": {
    "id": "Ynfi7kOO3d6r"
   },
   "outputs": [],
   "source": [
    "res = np.argsort(results, axis=0)"
   ]
  },
  {
   "cell_type": "code",
   "execution_count": 55,
   "metadata": {
    "colab": {
     "base_uri": "https://localhost:8080/"
    },
    "id": "KfMD_lPf4Aky",
    "outputId": "905bd69d-8019-47db-9f25-f178caec46fd"
   },
   "outputs": [
    {
     "data": {
      "text/plain": [
       "array([[2],\n",
       "       [1],\n",
       "       [0]])"
      ]
     },
     "execution_count": 55,
     "metadata": {},
     "output_type": "execute_result"
    }
   ],
   "source": [
    "res"
   ]
  },
  {
   "cell_type": "code",
   "execution_count": 56,
   "metadata": {
    "colab": {
     "base_uri": "https://localhost:8080/"
    },
    "id": "Z_sSv3vp32-T",
    "outputId": "23e63779-365b-415a-be89-3d9514c2ec65"
   },
   "outputs": [
    {
     "name": "stdout",
     "output_type": "stream",
     "text": [
      "result  1 =============================\n",
      "The process of searching for a job can be very stressful, but it doesn’t have to be. Start with a        well-written resume that has appropriate keywords for your occupation. Next, conduct a targeted job search        for positions that meet your needs.\n",
      "=============================\n",
      "result  2 =============================\n",
      "Gardening in mixed beds is a great way to get the most productivity from a small space. Some investment        is required, to purchase materials for the beds themselves, as well as soil and compost. The        investment will likely pay-off in terms of increased productivity.\n",
      "=============================\n",
      "result  3 =============================\n",
      "Looking for a job can be very stressful, but it doesn’t have to be. Begin by writing a good resume with        appropriate keywords for your occupation. Second, target your job search for positions that match your        needs.\n",
      "=============================\n"
     ]
    }
   ],
   "source": [
    "k=1\n",
    "for i in res[-1:-4:-1]:\n",
    "    print(\"result \", k, \"=============================\")\n",
    "    print(data[i[0]])\n",
    "    print(\"=============================\")\n",
    "    k+=1"
   ]
  },
  {
   "cell_type": "code",
   "execution_count": 57,
   "metadata": {
    "id": "nup7KEPjvK4B"
   },
   "outputs": [],
   "source": [
    "similar_doc = model.docvecs.most_similar('0')"
   ]
  },
  {
   "cell_type": "code",
   "execution_count": 58,
   "metadata": {
    "colab": {
     "base_uri": "https://localhost:8080/"
    },
    "id": "Nkj0gXBVvVtC",
    "outputId": "84d18c05-eca9-4318-8517-570b93839ca9"
   },
   "outputs": [
    {
     "name": "stdout",
     "output_type": "stream",
     "text": [
      "[('1', 0.999192476272583), ('2', 0.999113917350769)]\n"
     ]
    }
   ],
   "source": [
    "print(similar_doc)"
   ]
  },
  {
   "cell_type": "code",
   "execution_count": 59,
   "metadata": {
    "colab": {
     "base_uri": "https://localhost:8080/",
     "height": 53
    },
    "id": "Bt6usxQjwmlj",
    "outputId": "e63b8eed-c040-4753-b870-add691d8576d"
   },
   "outputs": [
    {
     "data": {
      "text/plain": [
       "'Gardening in mixed beds is a great way to get the most productivity from a small space. Some investment        is required, to purchase materials for the beds themselves, as well as soil and compost. The        investment will likely pay-off in terms of increased productivity.'"
      ]
     },
     "execution_count": 59,
     "metadata": {},
     "output_type": "execute_result"
    }
   ],
   "source": [
    "data[int(similar_doc[0][0])]"
   ]
  },
  {
   "cell_type": "code",
   "execution_count": null,
   "metadata": {
    "id": "4GxWjs16yfgX"
   },
   "outputs": [],
   "source": []
  },
  {
   "cell_type": "code",
   "execution_count": null,
   "metadata": {
    "id": "KAPOJBQ0XYo7"
   },
   "outputs": [],
   "source": []
  },
  {
   "cell_type": "code",
   "execution_count": null,
   "metadata": {
    "id": "TpjwXCoJXYl5"
   },
   "outputs": [],
   "source": []
  },
  {
   "cell_type": "code",
   "execution_count": null,
   "metadata": {
    "id": "nrW2iJyWXYi7"
   },
   "outputs": [],
   "source": []
  },
  {
   "cell_type": "markdown",
   "metadata": {
    "id": "fz61IwT4XZ3t"
   },
   "source": [
    "Pretrained word2vec model"
   ]
  },
  {
   "cell_type": "code",
   "execution_count": null,
   "metadata": {
    "colab": {
     "base_uri": "https://localhost:8080/"
    },
    "id": "cWOEnZykRApN",
    "outputId": "9c1954c1-b1a7-4743-a052-d7568fa3b1a6"
   },
   "outputs": [],
   "source": []
  },
  {
   "cell_type": "code",
   "execution_count": null,
   "metadata": {
    "id": "BMZFUup8T2Hc"
   },
   "outputs": [],
   "source": []
  },
  {
   "cell_type": "code",
   "execution_count": 60,
   "metadata": {
    "id": "9Y9AulBqZoFW"
   },
   "outputs": [],
   "source": [
    "import pandas as pd\n",
    "import re"
   ]
  },
  {
   "cell_type": "code",
   "execution_count": 61,
   "metadata": {
    "id": "n9NDAFhaUchh"
   },
   "outputs": [],
   "source": [
    "import gensim"
   ]
  },
  {
   "cell_type": "code",
   "execution_count": 62,
   "metadata": {
    "id": "wB4wUXtlUTQV"
   },
   "outputs": [],
   "source": [
    "W2V_PATH='GoogleNews-vectors-negative300.bin'\n",
    "model_w2v = gensim.models.KeyedVectors.load_word2vec_format(W2V_PATH, binary=True)"
   ]
  },
  {
   "cell_type": "code",
   "execution_count": 63,
   "metadata": {
    "id": "EFMb0B6rRJKR"
   },
   "outputs": [],
   "source": [
    "documents = [\n",
    "\"The terms ‘work’, ‘energy’ and ‘power’ are frequently used\\\n",
    "in everyday language. A farmer ploughing the field, a\\\n",
    "construction worker carrying bricks, a student studying for\\\n",
    "a competitive examination, an artist painting a beautiful\\\n",
    "landscape, all are said to be working. In physics, however,\\\n",
    "the word ‘Work’ covers a definite and precise meaning.\\\n",
    "Somebody who has the capacity to work for 14-16 hours a\\\n",
    "day is said to have a large stamina or energy. We admire a\\\n",
    "long distance runner for her stamina or energy. Energy is\\\n",
    "thus our capacity to do work. In Physics too, the term ‘energy’\\\n",
    "is related to work in this sense, but as said above the term\\\n",
    "‘work’ itself is defined much more precisely. The word ‘power’\\\n",
    "is used in everyday life with different shades of meaning. In\\\n",
    "karate or boxing we talk of ‘powerful’ punches. These are\\\n",
    "delivered at a great speed. This shade of meaning is close to\\\n",
    "the meaning of the word ‘power’ used in physics. We shall\\\n",
    "find that there is at best a loose correlation between the\\\n",
    "physical definitions and the physiological pictures these\\\n",
    "terms generate in our minds. The aim of this chapter is to\\\n",
    "develop an understanding of these three physical quantities.\\\n",
    "Before we proceed to this task, we need to develop a\\\n",
    "mathematical prerequisite, namely the scalar product of two vectors.\" ,\n",
    "    \n",
    "\"6.1.1 The Scalar Product\\\n",
    "We have learnt about vectors and their use in Chapter 4.\\\n",
    "Physical quantities like displacement, velocity, acceleration,\\\n",
    "force etc. are vectors. We have also learnt how vectors are\\\n",
    "added or subtracted. We now need to know how vectors are\\\n",
    "multiplied. There are two ways of multiplying vectors which\\\n",
    "we shall come across : one way known as the scalar product\\\n",
    "gives a scalar from two vectors and the other known as the\\\n",
    "vector product produces a new vector from two vectors. We\\\n",
    "shall look at the vector product in Chapter 7. Here we take\\\n",
    "up the scalar product of two vectors. The scalar product or\\\n",
    "dot product of any two vectors A and B, denoted as A.B\",\n",
    "    \n",
    "\"We see that if there is no displacement, there\\\n",
    "is no work done even if the force is large. Thus,\\\n",
    "when you push hard against a rigid brick wall,\\\n",
    "the force you exert on the wall does no work. Yet\\\n",
    "your muscles are alternatively contracting and\\\n",
    "relaxing and internal energy is being used up\\\n",
    "and you do get tired. Thus, the meaning of work\\\n",
    "in physics is different from its usage in everyday\\\n",
    "language.\\\n",
    "No work is done if :\\\n",
    "(i) the displacement is zero as seen in the\\\n",
    "example above. A weightlifter holding a 150\\\n",
    "kg mass steadily on his shoulder for 30 s\\\n",
    "does no work on the load during this time.\\\n",
    "(ii) the force is zero. A block moving on a smooth\\\n",
    "horizontal table is not acted upon by a\\\n",
    "horizontal force (since there is no friction), but\\\n",
    "may undergo a large displacement.\\\n",
    "(iii) the force and displacement are mutually\\\n",
    "perpendicular. This is so since, for θ = π/2 rad\\\n",
    "(= 90o\\\n",
    "), cos (π /2) = 0. For the block moving on\\\n",
    "a smooth horizontal table, the gravitational\\\n",
    "force mg does no work since it acts at right\\\n",
    "angles to the displacement. If we assume that\\\n",
    "the moon’s orbits around the earth is\\\n",
    "perfectly circular then the earth’s\\\n",
    "gravitational force does no work. The moon’s\\\n",
    "instantaneous displacement is tangential\\\n",
    "while the earth’s force is radially inwards and\\\n",
    "From Eq. (6.4) it is clear that work and energy\\\n",
    "have the same dimensions, . The SI unit\\\n",
    "of these is joule (J), named after the famous British\\\n",
    "physicist James Prescott Joule (1811-1869). Since\\\n",
    "work and energy are so widely used as physical\\\n",
    "concepts, alternative units abound and some of\\\n",
    "these are listed in Table 6.1.\",\n",
    "    \n",
    "\"The word potential suggests possibility or\\\n",
    "capacity for action. The term potential energy\\\n",
    "brings to one’s mind ‘stored’ energy. A stretched\\\n",
    "bow-string possesses potential energy. When it\\\n",
    "is released, the arrow flies off at a great speed.\\\n",
    "The earth’s crust is not uniform, but has\\\n",
    "discontinuities and dislocations that are called\\\n",
    "fault lines. These fault lines in the earth’s crust\\\n",
    "are like ‘compressed springs’. They possess a\\\n",
    "large amount of potential energy. An earthquake\\\n",
    "results when these fault lines readjust. Thus,\\\n",
    "potential energy is the ‘stored energy’ by virtue\\\n",
    "of the position or configuration of a body. The\\\n",
    "body left to itself releases this stored energy in\\\n",
    "the form of kinetic energy. Let us make our notion\\\n",
    "of potential energy more concrete.\\\n",
    "The gravitational force on a ball of mass m is\\\n",
    "mg . g may be treated as a constant near the earth\\\n",
    "surface. By ‘near’ we imply that the height h of\\\n",
    "the ball above the earth’s surface is very small\\\n",
    "compared to the earth’s radius RE (h <<RE) so that\\\n",
    "we can ignore the variation of g near the earth’s\\\n",
    "surface*. In what follows we have taken the\\\n",
    "upward direction to be positive. Let us raise the\\\n",
    "ball up to a height h. The work done by the external\\\n",
    "agency against the gravitational force is mgh. This\\\n",
    "work gets stored as potential energy.\\\n",
    "Gravitational potential energy of an object, as a\\\n",
    "function of the height h, is denoted by V(h) and it\\\n",
    "is the negative of work done by the gravitational\\\n",
    "force in raising the object to that height.\\\n",
    "V (h) = mgh\\\n",
    "If h is taken as a variable, it is easily seen that\\\n",
    "the gravitational force F equals the negative of\\\n",
    "the derivative of V(h) with respect to h. Thus,\\\n",
    "d\\\n",
    "d F V(h) m g h =− =−\\\n",
    "The negative sign indicates that the\\\n",
    "gravitational force is downward. When released,\\\n",
    "the ball comes down with an increasing speed.\\\n",
    "Just before it hits the ground, its speed is given\\\n",
    "by the kinematic relation,\\\n",
    "v2 = 2gh\",\n",
    "    \n",
    "\"Heat\\\n",
    "We have seen that the frictional force is excluded\\\n",
    "from the category of conservative forces. However,\\\n",
    "work is associated with the force of friction. A\\\n",
    "block of mass m sliding on a rough horizontal\\\n",
    "surface with speed v0 comes to a halt over a\\\n",
    "distance x0. The work done by the force of kinetic\\\n",
    "friction f over x0 is –f x0. By the work-energy\\\n",
    "theorem 2 m v /2 f x . o 0 = If we confine our scope\\\n",
    "to mechanics, we would say that the kinetic\\\n",
    "energy of the block is ‘lost’ due to the frictional\\\n",
    "force. On examination of the block and the table\\\n",
    "we would detect a slight increase in their\\\n",
    "temperatures. The work done by friction is not\\\n",
    "‘lost’, but is transferred as heat energy. This\\\n",
    "raises the internal energy of the block and the\\\n",
    "table. In winter, in order to feel warm, we\\\n",
    "generate heat by vigorously rubbing our palms\\\n",
    "together. We shall see later that the internal\\\n",
    "energy is associated with the ceaseless, often\\\n",
    "random, motion of molecules. A quantitative idea\\\n",
    "of the transfer of heat energy is obtained by\\\n",
    "noting that 1 kg of water releases about 42000 J\\\n",
    "of energy when it cools by10 °C.\\\n",
    "6.10.2 Chemical Energy\\\n",
    "One of the greatest technical achievements of\\\n",
    "humankind occurred when we discovered how\\\n",
    "to ignite and control fire. We learnt to rub two\\\n",
    "flint stones together (mechanical energy), got\\\n",
    "them to heat up and to ignite a heap of dry leaves\\\n",
    "(chemical energy), which then provided\\\n",
    "sustained warmth. A matchstick ignites into a\\\n",
    "bright flame when struck against a specially\\\n",
    "prepared chemical surface. The lighted\\\n",
    "matchstick, when applied to a firecracker,\\\n",
    "results in a spectacular display of sound and\\\n",
    "light.\\\n",
    "Chemical energy arises from the fact that the\\\n",
    "molecules participating in the chemical reaction\\\n",
    "have different binding energies. A stable chemical\\\n",
    "compound has less energy than the separated parts.\\\n",
    "A chemical reaction is basically a rearrangement\\\n",
    "of atoms. If the total energy of the reactants is more\\\n",
    "than the products of the reaction, heat is released\\\n",
    "and the reaction is said to be an exothermic\\\n",
    "reaction. If the reverse is true, heat is absorbed and\\\n",
    "the reaction is endothermic. Coal consists of\\\n",
    "carbon and a kilogram of it when burnt releases\\\n",
    "3 × 107 J of energy.\\\n",
    "Chemical energy is associated with the forces\\\n",
    "that give rise to the stability of substances. These\\\n",
    "forces bind atoms into molecules, molecules into\\\n",
    "polymeric chains, etc. The chemical energy\\\n",
    "arising from the combustion of coal, cooking gas,\\\n",
    "wood and petroleum is indispensable to our daily\\\n",
    "existence.\\\n",
    "6.10.3 Electrical\",\n",
    "\n",
    "\"We have seen that the total mechanical energy\\\n",
    "of the system is conserved if the forces doing work\\\n",
    "on it are conservative. If some of the forces\\\n",
    "involved are non-conservative, part of the\\\n",
    "mechanical energy may get transformed into\\\n",
    "other forms such as heat, light and sound.\\\n",
    "However, the total energy of an isolated system\\\n",
    "does not change, as long as one accounts for all\\\n",
    "forms of energy. Energy may be transformed from\\\n",
    "one form to another but the total energy of an\\\n",
    "isolated system remains constant. Energy can\\\n",
    "neither be created, nor destroyed.\\\n",
    "Since the universe as a whole may be viewed\\\n",
    "as an isolated system, the total energy of the\\\n",
    "universe is constant. If one part of the universe\\\n",
    "loses energy, another part must gain an equal\\\n",
    "amount of energy.\\\n",
    "The principle of conservation of energy cannot\\\n",
    "be proved. However, no violation of this principle\\\n",
    "has been observed. The concept of conservation\\\n",
    "and transformation of energy into various forms\\\n",
    "links together various branches of physics,\\\n",
    "chemistry and life sciences. It provides a\\\n",
    "unifying, enduring element in our scientific\\\n",
    "pursuits. From engineering point of view all\\\n",
    "electronic, communication and mechanical\\\n",
    "devices rely on some forms of energy\\\n",
    "transformation.\"\n",
    "    \n",
    "\n",
    "]\n",
    "\n"
   ]
  },
  {
   "cell_type": "code",
   "execution_count": 64,
   "metadata": {
    "id": "6eJs7jmmhIkf"
   },
   "outputs": [],
   "source": [
    "query = ['what is work done']"
   ]
  },
  {
   "cell_type": "code",
   "execution_count": 65,
   "metadata": {
    "id": "a11iMUH7ZdY_"
   },
   "outputs": [],
   "source": [
    "documents_df=pd.DataFrame(documents,columns=['documents'])"
   ]
  },
  {
   "cell_type": "code",
   "execution_count": 66,
   "metadata": {
    "colab": {
     "base_uri": "https://localhost:8080/",
     "height": 237
    },
    "id": "CRerhO40iD6n",
    "outputId": "09d7595d-fee4-4f9f-de0c-28e4150b4538"
   },
   "outputs": [
    {
     "data": {
      "text/html": [
       "<div>\n",
       "<style scoped>\n",
       "    .dataframe tbody tr th:only-of-type {\n",
       "        vertical-align: middle;\n",
       "    }\n",
       "\n",
       "    .dataframe tbody tr th {\n",
       "        vertical-align: top;\n",
       "    }\n",
       "\n",
       "    .dataframe thead th {\n",
       "        text-align: right;\n",
       "    }\n",
       "</style>\n",
       "<table border=\"1\" class=\"dataframe\">\n",
       "  <thead>\n",
       "    <tr style=\"text-align: right;\">\n",
       "      <th></th>\n",
       "      <th>documents</th>\n",
       "    </tr>\n",
       "  </thead>\n",
       "  <tbody>\n",
       "    <tr>\n",
       "      <th>0</th>\n",
       "      <td>The terms ‘work’, ‘energy’ and ‘power’ are fre...</td>\n",
       "    </tr>\n",
       "    <tr>\n",
       "      <th>1</th>\n",
       "      <td>6.1.1 The Scalar ProductWe have learnt about v...</td>\n",
       "    </tr>\n",
       "    <tr>\n",
       "      <th>2</th>\n",
       "      <td>We see that if there is no displacement, there...</td>\n",
       "    </tr>\n",
       "    <tr>\n",
       "      <th>3</th>\n",
       "      <td>The word potential suggests possibility orcapa...</td>\n",
       "    </tr>\n",
       "    <tr>\n",
       "      <th>4</th>\n",
       "      <td>HeatWe have seen that the frictional force is ...</td>\n",
       "    </tr>\n",
       "    <tr>\n",
       "      <th>5</th>\n",
       "      <td>We have seen that the total mechanical energyo...</td>\n",
       "    </tr>\n",
       "  </tbody>\n",
       "</table>\n",
       "</div>"
      ],
      "text/plain": [
       "                                           documents\n",
       "0  The terms ‘work’, ‘energy’ and ‘power’ are fre...\n",
       "1  6.1.1 The Scalar ProductWe have learnt about v...\n",
       "2  We see that if there is no displacement, there...\n",
       "3  The word potential suggests possibility orcapa...\n",
       "4  HeatWe have seen that the frictional force is ...\n",
       "5  We have seen that the total mechanical energyo..."
      ]
     },
     "execution_count": 66,
     "metadata": {},
     "output_type": "execute_result"
    }
   ],
   "source": [
    "documents_df"
   ]
  },
  {
   "cell_type": "code",
   "execution_count": 67,
   "metadata": {
    "colab": {
     "base_uri": "https://localhost:8080/"
    },
    "id": "bWSyA7zTZmJl",
    "outputId": "fc6a9ebb-92fe-43be-89af-900241fbe678"
   },
   "outputs": [
    {
     "name": "stderr",
     "output_type": "stream",
     "text": [
      "[nltk_data] Downloading package stopwords to\n",
      "[nltk_data]     /Users/himanshujanbandhu/nltk_data...\n",
      "[nltk_data]   Package stopwords is already up-to-date!\n"
     ]
    }
   ],
   "source": [
    "import nltk\n",
    "nltk.download('stopwords')\n",
    "from nltk.corpus import stopwords"
   ]
  },
  {
   "cell_type": "code",
   "execution_count": 68,
   "metadata": {
    "id": "1QAJqS0yZyE0"
   },
   "outputs": [],
   "source": [
    "stop_words_l=stopwords.words('english')\n",
    "documents_df['documents_cleaned']=documents_df.documents.apply(lambda x: \" \".join(re.sub(r'[^a-zA-Z]',' ',w).lower() for w in x.split() if re.sub(r'[^a-zA-Z]',' ',w).lower() not in stop_words_l) )"
   ]
  },
  {
   "cell_type": "code",
   "execution_count": 71,
   "metadata": {
    "id": "iFtnTB9qZ2Pa"
   },
   "outputs": [],
   "source": [
    "# tokenize and pad every document to make them of the same size\n",
    "# !pip install tensorflow\n",
    "\n",
    "# from keras.preprocessing.text import Tokenizer\n",
    "# from keras.preprocessing.sequence import pad_sequences\n",
    "# tokenizer=Tokenizer()\n",
    "# tokenizer.fit_on_texts(documents_df.documents_cleaned)\n",
    "from nltk.tokenize import word_tokenize\n"
   ]
  },
  {
   "cell_type": "code",
   "execution_count": 70,
   "metadata": {
    "colab": {
     "base_uri": "https://localhost:8080/"
    },
    "id": "DUmlqIhiaMNO",
    "outputId": "42155f07-43cd-4359-ef2b-c9892a60b90d"
   },
   "outputs": [
    {
     "ename": "NameError",
     "evalue": "name 'tokenizer' is not defined",
     "output_type": "error",
     "traceback": [
      "\u001b[0;31m---------------------------------------------------------------------------\u001b[0m",
      "\u001b[0;31mNameError\u001b[0m                                 Traceback (most recent call last)",
      "\u001b[0;32m/var/folders/xn/j672c3s512bfr94lh0866j2c0000gp/T/ipykernel_38160/2965179003.py\u001b[0m in \u001b[0;36m<module>\u001b[0;34m\u001b[0m\n\u001b[0;32m----> 1\u001b[0;31m \u001b[0mtokenized_documents\u001b[0m\u001b[0;34m=\u001b[0m\u001b[0mtokenizer\u001b[0m\u001b[0;34m.\u001b[0m\u001b[0mtexts_to_sequences\u001b[0m\u001b[0;34m(\u001b[0m\u001b[0mdocuments_df\u001b[0m\u001b[0;34m.\u001b[0m\u001b[0mdocuments_cleaned\u001b[0m\u001b[0;34m)\u001b[0m\u001b[0;34m\u001b[0m\u001b[0;34m\u001b[0m\u001b[0m\n\u001b[0m\u001b[1;32m      2\u001b[0m \u001b[0mprint\u001b[0m\u001b[0;34m(\u001b[0m\u001b[0mtokenized_documents\u001b[0m\u001b[0;34m)\u001b[0m\u001b[0;34m\u001b[0m\u001b[0;34m\u001b[0m\u001b[0m\n",
      "\u001b[0;31mNameError\u001b[0m: name 'tokenizer' is not defined"
     ]
    }
   ],
   "source": []
  },
  {
   "cell_type": "code",
   "execution_count": 68,
   "metadata": {
    "colab": {
     "base_uri": "https://localhost:8080/"
    },
    "id": "5EquMcGxaRdB",
    "outputId": "f576f30b-6e77-40ef-cf30-2ec2888cca9d"
   },
   "outputs": [
    {
     "name": "stdout",
     "output_type": "stream",
     "text": [
      "[[ 2  1 10 11 12 20 21 22  2  1 12 23 13 24 14 25  4 26 27  4 15 16  2  1\n",
      "  28 29  7 30  5 31  8 32 33 34 17  0  0  0  0  0  0  0  0  0  0  0  0  0\n",
      "   0  0  0  0  0  0  0  0  0  0  0  0  0  0  0  0]\n",
      " [ 2  1 35 36 37 38 39 40 41 42  5 15 10 13 43 44 45 46  9 47 48  2  1  0\n",
      "   0  0  0  0  0  0  0  0  0  0  0  0  0  0  0  0  0  0  0  0  0  0  0  0\n",
      "   0  0  0  0  0  0  0  0  0  0  0  0  0  0  0  0]\n",
      " [ 2  1 18  5 49 50  8 51 52 53 54 18  5  1  4 55 56 57  8  0  0  0  0  0\n",
      "   0  0  0  0  0  0  0  0  0  0  0  0  0  0  0  0  0  0  0  0  0  0  0  0\n",
      "   0  0  0  0  0  0  0  0  0  0  0  0  0  0  0  0]\n",
      " [ 2  1  7 58 59 60 61 62 63 64 65 66 67 17  1 68 69 70 71  0  0  0  0  0\n",
      "   0  0  0  0  0  0  0  0  0  0  0  0  0  0  0  0  0  0  0  0  0  0  0  0\n",
      "   0  0  0  0  0  0  0  0  0  0  0  0  0  0  0  0]\n",
      " [ 3  6 72  9  6  7 73  3  3  6 74 16  0  0  0  0  0  0  0  0  0  0  0  0\n",
      "   0  0  0  0  0  0  0  0  0  0  0  0  0  0  0  0  0  0  0  0  0  0  0  0\n",
      "   0  0  0  0  0  0  0  0  0  0  0  0  0  0  0  0]\n",
      " [ 3 19 75 76 14 77 11 78  3 19 79 80 81 82 83  4 84 85 86 87 88  2  1  9\n",
      "  89 90 91  3  6  0  0  0  0  0  0  0  0  0  0  0  0  0  0  0  0  0  0  0\n",
      "   0  0  0  0  0  0  0  0  0  0  0  0  0  0  0  0]]\n"
     ]
    }
   ],
   "source": [
    "tokenized_paded_documents=pad_sequences(tokenized_documents,maxlen=64,padding='post')\n",
    "print(tokenized_paded_documents)"
   ]
  },
  {
   "cell_type": "code",
   "execution_count": 69,
   "metadata": {
    "colab": {
     "base_uri": "https://localhost:8080/"
    },
    "id": "wLMke7p7ai0Y",
    "outputId": "1abddef7-9c80-401a-ccc3-471571c4584b"
   },
   "outputs": [
    {
     "data": {
      "text/plain": [
       "{'accomplish': 31,\n",
       " 'algorithm': 34,\n",
       " 'algorithms': 12,\n",
       " 'application': 9,\n",
       " 'approaches': 7,\n",
       " 'automatically': 21,\n",
       " 'available': 17,\n",
       " 'based': 14,\n",
       " 'broad': 61,\n",
       " 'build': 23,\n",
       " 'carry': 56,\n",
       " 'cases': 82,\n",
       " 'categories': 62,\n",
       " 'certain': 57,\n",
       " 'closely': 35,\n",
       " 'comfortable': 85,\n",
       " 'computational': 37,\n",
       " 'computer': 11,\n",
       " 'computers': 5,\n",
       " 'computing': 74,\n",
       " 'concernedabout': 79,\n",
       " 'correctness': 80,\n",
       " 'creates': 75,\n",
       " 'data': 4,\n",
       " 'delivers': 44,\n",
       " 'depending': 63,\n",
       " 'developing': 88,\n",
       " 'development': 73,\n",
       " 'discipline': 16,\n",
       " 'discovering': 49,\n",
       " 'divided': 59,\n",
       " 'domains': 47,\n",
       " 'employs': 28,\n",
       " 'engineer': 19,\n",
       " 'engineering': 6,\n",
       " 'execute': 78,\n",
       " 'experience': 22,\n",
       " 'explicitly': 52,\n",
       " 'explorative': 90,\n",
       " 'feedback': 67,\n",
       " 'field': 48,\n",
       " 'focuses': 39,\n",
       " 'fully': 32,\n",
       " 'improve': 20,\n",
       " 'involves': 18,\n",
       " 'iterative': 89,\n",
       " 'known': 26,\n",
       " 'learning': 1,\n",
       " 'logic': 77,\n",
       " 'machine': 2,\n",
       " 'making': 40,\n",
       " 'mathematical': 13,\n",
       " 'meanwhile': 83,\n",
       " 'methods': 45,\n",
       " 'model': 24,\n",
       " 'nature': 64,\n",
       " 'optimization': 43,\n",
       " 'or': 66,\n",
       " 'perform': 50,\n",
       " 'predictions': 41,\n",
       " 'process': 91,\n",
       " 'program': 81,\n",
       " 'programmed': 53,\n",
       " 'programs': 76,\n",
       " 'provided': 55,\n",
       " 'reinforcement': 71,\n",
       " 'related': 36,\n",
       " 'sample': 25,\n",
       " 'satisfactory': 33,\n",
       " 'scientist': 84,\n",
       " 'signal': 65,\n",
       " 'so': 54,\n",
       " 'software': 3,\n",
       " 'statistics': 38,\n",
       " 'study': 10,\n",
       " 'supervised': 69,\n",
       " 'system': 68,\n",
       " 'systematic': 72,\n",
       " 'tasks': 8,\n",
       " 'teach': 30,\n",
       " 'the': 15,\n",
       " 'theory': 46,\n",
       " 'three': 60,\n",
       " 'traditionally': 58,\n",
       " 'training': 27,\n",
       " 'uncertainty': 86,\n",
       " 'unsupervised': 70,\n",
       " 'using': 42,\n",
       " 'variability': 87,\n",
       " 'various': 29,\n",
       " 'without': 51}"
      ]
     },
     "execution_count": 69,
     "metadata": {},
     "output_type": "execute_result"
    }
   ],
   "source": [
    "tokenizer.word_index"
   ]
  },
  {
   "cell_type": "code",
   "execution_count": 70,
   "metadata": {
    "colab": {
     "base_uri": "https://localhost:8080/"
    },
    "id": "PKnNSJ4Jasrw",
    "outputId": "bfeba155-25ee-4074-c182-8ac62c2b47da"
   },
   "outputs": [
    {
     "data": {
      "text/plain": [
       "91"
      ]
     },
     "execution_count": 70,
     "metadata": {},
     "output_type": "execute_result"
    }
   ],
   "source": [
    "len(tokenizer.word_index)"
   ]
  },
  {
   "cell_type": "code",
   "execution_count": 71,
   "metadata": {
    "colab": {
     "base_uri": "https://localhost:8080/"
    },
    "id": "kSNVtnWhaYzx",
    "outputId": "381af67e-e1a4-4af3-c20e-0045c6681da2"
   },
   "outputs": [
    {
     "name": "stdout",
     "output_type": "stream",
     "text": [
      "92\n"
     ]
    }
   ],
   "source": [
    "vocab_size=len(tokenizer.word_index)+1\n",
    "print(vocab_size)"
   ]
  },
  {
   "cell_type": "code",
   "execution_count": 72,
   "metadata": {
    "colab": {
     "base_uri": "https://localhost:8080/"
    },
    "id": "2MtYQeVUbd6e",
    "outputId": "f9e184ed-21be-4c0f-b70a-0f6547d23bff"
   },
   "outputs": [
    {
     "data": {
      "text/plain": [
       "dict_items([('learning', 1), ('machine', 2), ('software', 3), ('data', 4), ('computers', 5), ('engineering', 6), ('approaches', 7), ('tasks', 8), ('application', 9), ('study', 10), ('computer', 11), ('algorithms', 12), ('mathematical', 13), ('based', 14), ('the', 15), ('discipline', 16), ('available', 17), ('involves', 18), ('engineer', 19), ('improve', 20), ('automatically', 21), ('experience', 22), ('build', 23), ('model', 24), ('sample', 25), ('known', 26), ('training', 27), ('employs', 28), ('various', 29), ('teach', 30), ('accomplish', 31), ('fully', 32), ('satisfactory', 33), ('algorithm', 34), ('closely', 35), ('related', 36), ('computational', 37), ('statistics', 38), ('focuses', 39), ('making', 40), ('predictions', 41), ('using', 42), ('optimization', 43), ('delivers', 44), ('methods', 45), ('theory', 46), ('domains', 47), ('field', 48), ('discovering', 49), ('perform', 50), ('without', 51), ('explicitly', 52), ('programmed', 53), ('so', 54), ('provided', 55), ('carry', 56), ('certain', 57), ('traditionally', 58), ('divided', 59), ('three', 60), ('broad', 61), ('categories', 62), ('depending', 63), ('nature', 64), ('signal', 65), ('or', 66), ('feedback', 67), ('system', 68), ('supervised', 69), ('unsupervised', 70), ('reinforcement', 71), ('systematic', 72), ('development', 73), ('computing', 74), ('creates', 75), ('programs', 76), ('logic', 77), ('execute', 78), ('concernedabout', 79), ('correctness', 80), ('program', 81), ('cases', 82), ('meanwhile', 83), ('scientist', 84), ('comfortable', 85), ('uncertainty', 86), ('variability', 87), ('developing', 88), ('iterative', 89), ('explorative', 90), ('process', 91)])"
      ]
     },
     "execution_count": 72,
     "metadata": {},
     "output_type": "execute_result"
    }
   ],
   "source": [
    "tokenizer.word_index.items()"
   ]
  },
  {
   "cell_type": "code",
   "execution_count": 73,
   "metadata": {
    "id": "DE10cqz5bvVe"
   },
   "outputs": [],
   "source": [
    "import numpy as np"
   ]
  },
  {
   "cell_type": "code",
   "execution_count": 74,
   "metadata": {
    "id": "NihBgAr6ag_P"
   },
   "outputs": [],
   "source": [
    "# creating embedding matrix, every row is a vector representation from the vocabulary indexed by the tokenizer index. \n",
    "embedding_matrix=np.zeros((vocab_size,300))\n",
    "for word,i in tokenizer.word_index.items():\n",
    "    if word in model_w2v:\n",
    "        embedding_matrix[i]=model_w2v[word]"
   ]
  },
  {
   "cell_type": "code",
   "execution_count": 75,
   "metadata": {
    "colab": {
     "base_uri": "https://localhost:8080/"
    },
    "id": "r0qyfP_Ob1SA",
    "outputId": "d5df3f8e-8ac1-41a2-b880-456d0e9c15f4"
   },
   "outputs": [
    {
     "data": {
      "text/plain": [
       "(92, 300)"
      ]
     },
     "execution_count": 75,
     "metadata": {},
     "output_type": "execute_result"
    }
   ],
   "source": [
    "embedding_matrix.shape"
   ]
  },
  {
   "cell_type": "code",
   "execution_count": 76,
   "metadata": {
    "colab": {
     "base_uri": "https://localhost:8080/",
     "height": 35
    },
    "id": "hgOQBbFLnSpx",
    "outputId": "86c390a5-1a3c-49e4-ec29-04f7ae52e9bc"
   },
   "outputs": [
    {
     "data": {
      "application/vnd.google.colaboratory.intrinsic+json": {
       "type": "string"
      },
      "text/plain": [
       "'machine learning algorithms'"
      ]
     },
     "execution_count": 76,
     "metadata": {},
     "output_type": "execute_result"
    }
   ],
   "source": [
    "query[0]"
   ]
  },
  {
   "cell_type": "code",
   "execution_count": 79,
   "metadata": {
    "id": "mBiR8CUugzOC"
   },
   "outputs": [],
   "source": [
    "query_tokenizer = Tokenizer()\n",
    "query_tokenizer.fit_on_texts(query)"
   ]
  },
  {
   "cell_type": "code",
   "execution_count": 80,
   "metadata": {
    "colab": {
     "base_uri": "https://localhost:8080/"
    },
    "id": "m5YtICKVnWob",
    "outputId": "aca1948e-8082-4355-c2ba-54f1e3170779"
   },
   "outputs": [
    {
     "data": {
      "text/plain": [
       "{'algorithms': 3, 'learning': 2, 'machine': 1}"
      ]
     },
     "execution_count": 80,
     "metadata": {},
     "output_type": "execute_result"
    }
   ],
   "source": [
    "query_tokenizer.word_index"
   ]
  },
  {
   "cell_type": "code",
   "execution_count": 92,
   "metadata": {
    "colab": {
     "base_uri": "https://localhost:8080/"
    },
    "id": "Zxzd8-wotutR",
    "outputId": "aceb897d-669b-4143-973f-a9b58b509fb2"
   },
   "outputs": [
    {
     "data": {
      "text/plain": [
       "dict_items([('machine', 1), ('learning', 2), ('algorithms', 3)])"
      ]
     },
     "execution_count": 92,
     "metadata": {},
     "output_type": "execute_result"
    }
   ],
   "source": [
    "query_tokenizer.word_index.items()"
   ]
  },
  {
   "cell_type": "code",
   "execution_count": 81,
   "metadata": {
    "colab": {
     "base_uri": "https://localhost:8080/"
    },
    "id": "vL-dDFlqoFW7",
    "outputId": "6a86f588-0564-4ad7-d3f9-5e45fc9e752d"
   },
   "outputs": [
    {
     "name": "stdout",
     "output_type": "stream",
     "text": [
      "4\n"
     ]
    }
   ],
   "source": [
    "query_vocab_size=len(query_tokenizer.word_index)+1\n",
    "print(query_vocab_size)"
   ]
  },
  {
   "cell_type": "code",
   "execution_count": 82,
   "metadata": {
    "id": "fRg6G8LYny1I"
   },
   "outputs": [],
   "source": [
    "query_matrix=np.zeros((query_vocab_size,300))\n",
    "for word,i in query_tokenizer.word_index.items():\n",
    "    if word in model_w2v:\n",
    "        query_matrix[i]=model_w2v[word]"
   ]
  },
  {
   "cell_type": "code",
   "execution_count": 91,
   "metadata": {
    "colab": {
     "base_uri": "https://localhost:8080/"
    },
    "id": "SomgTeNipHXA",
    "outputId": "2a4f3f7e-d296-41e1-fa70-23c308acb2a4"
   },
   "outputs": [
    {
     "data": {
      "text/plain": [
       "(4, 300)"
      ]
     },
     "execution_count": 91,
     "metadata": {},
     "output_type": "execute_result"
    }
   ],
   "source": [
    "query_matrix.shape"
   ]
  },
  {
   "cell_type": "code",
   "execution_count": 93,
   "metadata": {
    "colab": {
     "base_uri": "https://localhost:8080/"
    },
    "id": "FMc0gfN_t9nt",
    "outputId": "1871c9c3-6044-4aa3-db41-299fd37f4352"
   },
   "outputs": [
    {
     "data": {
      "text/plain": [
       "array([[ 0.        ,  0.        ,  0.        , ...,  0.        ,\n",
       "         0.        ,  0.        ],\n",
       "       [ 0.25585938, -0.02209473,  0.02905273, ...,  0.04541016,\n",
       "        -0.33984375, -0.08154297],\n",
       "       [-0.08837891,  0.1484375 , -0.06298828, ...,  0.02026367,\n",
       "         0.11621094,  0.17578125],\n",
       "       [ 0.22753906, -0.09130859,  0.45703125, ..., -0.11621094,\n",
       "        -0.15917969,  0.30664062]])"
      ]
     },
     "execution_count": 93,
     "metadata": {},
     "output_type": "execute_result"
    }
   ],
   "source": [
    "query_matrix"
   ]
  },
  {
   "cell_type": "code",
   "execution_count": 85,
   "metadata": {
    "id": "DmJkMZtWoVZi"
   },
   "outputs": [],
   "source": [
    "from sklearn.metrics.pairwise import cosine_similarity"
   ]
  },
  {
   "cell_type": "code",
   "execution_count": 86,
   "metadata": {
    "id": "feVdcZcRofQ1"
   },
   "outputs": [],
   "source": [
    "results = cosine_similarity(embedding_matrix, query_matrix)"
   ]
  },
  {
   "cell_type": "code",
   "execution_count": 95,
   "metadata": {
    "colab": {
     "base_uri": "https://localhost:8080/"
    },
    "id": "sPRbq059wiUn",
    "outputId": "7a1ef4b3-b827-4849-d8ce-70f355376e26"
   },
   "outputs": [
    {
     "data": {
      "text/plain": [
       "(92, 4)"
      ]
     },
     "execution_count": 95,
     "metadata": {},
     "output_type": "execute_result"
    }
   ],
   "source": [
    "results.shape"
   ]
  },
  {
   "cell_type": "code",
   "execution_count": 88,
   "metadata": {
    "id": "LWdOlS85oukH"
   },
   "outputs": [],
   "source": [
    "res = np.argsort(results, axis=0)"
   ]
  },
  {
   "cell_type": "code",
   "execution_count": 96,
   "metadata": {
    "colab": {
     "base_uri": "https://localhost:8080/"
    },
    "id": "zS7HuFHbo__z",
    "outputId": "ffced25a-7e73-4191-c5cb-4251f6d75f9d"
   },
   "outputs": [
    {
     "data": {
      "text/plain": [
       "(6, 64, 300)"
      ]
     },
     "execution_count": 96,
     "metadata": {},
     "output_type": "execute_result"
    }
   ],
   "source": [
    "# creating document-word embeddings\n",
    "document_word_embeddings=np.zeros((len(tokenized_paded_documents),64,300))\n",
    "for i in range(len(tokenized_paded_documents)):\n",
    "    for j in range(len(tokenized_paded_documents[0])):\n",
    "        document_word_embeddings[i][j]=embedding_matrix[tokenized_paded_documents[i][j]]\n",
    "document_word_embeddings.shape"
   ]
  },
  {
   "cell_type": "code",
   "execution_count": 97,
   "metadata": {
    "colab": {
     "base_uri": "https://localhost:8080/"
    },
    "id": "xTjUp1T0xV-8",
    "outputId": "a6f61fe9-e079-41b6-b9b8-8c86e1e1af99"
   },
   "outputs": [
    {
     "data": {
      "text/plain": [
       "array([[[ 0.25585938, -0.02209473,  0.02905273, ...,  0.04541016,\n",
       "         -0.33984375, -0.08154297],\n",
       "        [-0.08837891,  0.1484375 , -0.06298828, ...,  0.02026367,\n",
       "          0.11621094,  0.17578125],\n",
       "        [-0.05981445, -0.04223633, -0.07910156, ..., -0.11230469,\n",
       "          0.12060547, -0.15429688],\n",
       "        ...,\n",
       "        [ 0.        ,  0.        ,  0.        , ...,  0.        ,\n",
       "          0.        ,  0.        ],\n",
       "        [ 0.        ,  0.        ,  0.        , ...,  0.        ,\n",
       "          0.        ,  0.        ],\n",
       "        [ 0.        ,  0.        ,  0.        , ...,  0.        ,\n",
       "          0.        ,  0.        ]],\n",
       "\n",
       "       [[ 0.25585938, -0.02209473,  0.02905273, ...,  0.04541016,\n",
       "         -0.33984375, -0.08154297],\n",
       "        [-0.08837891,  0.1484375 , -0.06298828, ...,  0.02026367,\n",
       "          0.11621094,  0.17578125],\n",
       "        [-0.08544922, -0.00230408, -0.0390625 , ...,  0.21191406,\n",
       "         -0.31835938, -0.05200195],\n",
       "        ...,\n",
       "        [ 0.        ,  0.        ,  0.        , ...,  0.        ,\n",
       "          0.        ,  0.        ],\n",
       "        [ 0.        ,  0.        ,  0.        , ...,  0.        ,\n",
       "          0.        ,  0.        ],\n",
       "        [ 0.        ,  0.        ,  0.        , ...,  0.        ,\n",
       "          0.        ,  0.        ]],\n",
       "\n",
       "       [[ 0.25585938, -0.02209473,  0.02905273, ...,  0.04541016,\n",
       "         -0.33984375, -0.08154297],\n",
       "        [-0.08837891,  0.1484375 , -0.06298828, ...,  0.02026367,\n",
       "          0.11621094,  0.17578125],\n",
       "        [ 0.10693359, -0.10058594,  0.36523438, ...,  0.1796875 ,\n",
       "         -0.03930664,  0.43359375],\n",
       "        ...,\n",
       "        [ 0.        ,  0.        ,  0.        , ...,  0.        ,\n",
       "          0.        ,  0.        ],\n",
       "        [ 0.        ,  0.        ,  0.        , ...,  0.        ,\n",
       "          0.        ,  0.        ],\n",
       "        [ 0.        ,  0.        ,  0.        , ...,  0.        ,\n",
       "          0.        ,  0.        ]],\n",
       "\n",
       "       [[ 0.25585938, -0.02209473,  0.02905273, ...,  0.04541016,\n",
       "         -0.33984375, -0.08154297],\n",
       "        [-0.08837891,  0.1484375 , -0.06298828, ...,  0.02026367,\n",
       "          0.11621094,  0.17578125],\n",
       "        [ 0.14746094,  0.23242188,  0.05322266, ..., -0.05932617,\n",
       "          0.05664062,  0.22070312],\n",
       "        ...,\n",
       "        [ 0.        ,  0.        ,  0.        , ...,  0.        ,\n",
       "          0.        ,  0.        ],\n",
       "        [ 0.        ,  0.        ,  0.        , ...,  0.        ,\n",
       "          0.        ,  0.        ],\n",
       "        [ 0.        ,  0.        ,  0.        , ...,  0.        ,\n",
       "          0.        ,  0.        ]],\n",
       "\n",
       "       [[ 0.20410156, -0.30078125, -0.01391602, ..., -0.0144043 ,\n",
       "         -0.03735352,  0.10742188],\n",
       "        [-0.19628906,  0.09716797,  0.12792969, ..., -0.29101562,\n",
       "          0.06835938,  0.02929688],\n",
       "        [-0.02966309,  0.10742188,  0.0480957 , ...,  0.11962891,\n",
       "          0.03833008,  0.0039978 ],\n",
       "        ...,\n",
       "        [ 0.        ,  0.        ,  0.        , ...,  0.        ,\n",
       "          0.        ,  0.        ],\n",
       "        [ 0.        ,  0.        ,  0.        , ...,  0.        ,\n",
       "          0.        ,  0.        ],\n",
       "        [ 0.        ,  0.        ,  0.        , ...,  0.        ,\n",
       "          0.        ,  0.        ]],\n",
       "\n",
       "       [[ 0.20410156, -0.30078125, -0.01391602, ..., -0.0144043 ,\n",
       "         -0.03735352,  0.10742188],\n",
       "        [-0.02490234, -0.04150391, -0.01135254, ..., -0.28320312,\n",
       "          0.12011719, -0.03320312],\n",
       "        [-0.00073242,  0.02075195, -0.11523438, ..., -0.07177734,\n",
       "          0.16601562,  0.06933594],\n",
       "        ...,\n",
       "        [ 0.        ,  0.        ,  0.        , ...,  0.        ,\n",
       "          0.        ,  0.        ],\n",
       "        [ 0.        ,  0.        ,  0.        , ...,  0.        ,\n",
       "          0.        ,  0.        ],\n",
       "        [ 0.        ,  0.        ,  0.        , ...,  0.        ,\n",
       "          0.        ,  0.        ]]])"
      ]
     },
     "execution_count": 97,
     "metadata": {},
     "output_type": "execute_result"
    }
   ],
   "source": [
    "document_word_embeddings"
   ]
  },
  {
   "cell_type": "code",
   "execution_count": 98,
   "metadata": {
    "colab": {
     "base_uri": "https://localhost:8080/"
    },
    "id": "heodRbbwxZWC",
    "outputId": "ab62b6b0-6e8e-405f-e581-992e2ea4a232"
   },
   "outputs": [
    {
     "name": "stdout",
     "output_type": "stream",
     "text": [
      "[[1, 2, 3]]\n"
     ]
    }
   ],
   "source": [
    "tokenized_query=query_tokenizer.texts_to_sequences(query)\n",
    "print(tokenized_query)"
   ]
  },
  {
   "cell_type": "code",
   "execution_count": 99,
   "metadata": {
    "colab": {
     "base_uri": "https://localhost:8080/"
    },
    "id": "8ENLCi_PyPLl",
    "outputId": "ffca53e3-edba-4eaf-a637-7b468e7b920b"
   },
   "outputs": [
    {
     "name": "stdout",
     "output_type": "stream",
     "text": [
      "[[1 2 3 0 0 0 0 0 0 0 0 0 0 0 0 0 0 0 0 0 0 0 0 0 0 0 0 0 0 0 0 0 0 0 0 0\n",
      "  0 0 0 0 0 0 0 0 0 0 0 0 0 0 0 0 0 0 0 0 0 0 0 0 0 0 0 0]]\n"
     ]
    }
   ],
   "source": [
    "tokenized_paded_query=pad_sequences(tokenized_query,maxlen=64,padding='post')\n",
    "print(tokenized_paded_query)"
   ]
  },
  {
   "cell_type": "code",
   "execution_count": 100,
   "metadata": {
    "colab": {
     "base_uri": "https://localhost:8080/"
    },
    "id": "5ErPNKa2yaZe",
    "outputId": "2c53ca9c-ca16-464f-dd59-059327e79fb3"
   },
   "outputs": [
    {
     "data": {
      "text/plain": [
       "(1, 64, 300)"
      ]
     },
     "execution_count": 100,
     "metadata": {},
     "output_type": "execute_result"
    }
   ],
   "source": [
    "query_word_embeddings=np.zeros((len(tokenized_paded_query),64,300))\n",
    "for i in range(len(tokenized_paded_query)):\n",
    "    for j in range(len(tokenized_paded_query[0])):\n",
    "        query_word_embeddings[i][j]=query_matrix[tokenized_paded_query[i][j]]\n",
    "query_word_embeddings.shape"
   ]
  },
  {
   "cell_type": "code",
   "execution_count": 103,
   "metadata": {
    "id": "ojhc8fHGzyf2"
   },
   "outputs": [],
   "source": [
    "nsamples, nx, ny = document_word_embeddings.shape\n",
    "document_word_embeddings = document_word_embeddings.reshape((nsamples,nx*ny))"
   ]
  },
  {
   "cell_type": "code",
   "execution_count": 104,
   "metadata": {
    "id": "S4T3zUDoz_cf"
   },
   "outputs": [],
   "source": [
    "nsamples, nx, ny = query_word_embeddings.shape\n",
    "query_word_embeddings = query_word_embeddings.reshape((nsamples,nx*ny))"
   ]
  },
  {
   "cell_type": "code",
   "execution_count": 105,
   "metadata": {
    "id": "K99IywCfy17L"
   },
   "outputs": [],
   "source": [
    "results = cosine_similarity(document_word_embeddings, query_word_embeddings)"
   ]
  },
  {
   "cell_type": "code",
   "execution_count": 106,
   "metadata": {
    "colab": {
     "base_uri": "https://localhost:8080/"
    },
    "id": "IcpYMNCIzFcp",
    "outputId": "a7680851-c581-4fa3-eaeb-8966cab31bf4"
   },
   "outputs": [
    {
     "data": {
      "text/plain": [
       "array([[0.16410047],\n",
       "       [0.20806154],\n",
       "       [0.25309566],\n",
       "       [0.24802323],\n",
       "       [0.10865737],\n",
       "       [0.05159032]])"
      ]
     },
     "execution_count": 106,
     "metadata": {},
     "output_type": "execute_result"
    }
   ],
   "source": [
    "results"
   ]
  },
  {
   "cell_type": "code",
   "execution_count": 107,
   "metadata": {
    "colab": {
     "base_uri": "https://localhost:8080/"
    },
    "id": "f881utWZ1mz5",
    "outputId": "f15bad0f-97a1-4300-bcc5-f1de75bede42"
   },
   "outputs": [
    {
     "data": {
      "text/plain": [
       "array([[5],\n",
       "       [4],\n",
       "       [0],\n",
       "       [1],\n",
       "       [3],\n",
       "       [2]])"
      ]
     },
     "execution_count": 107,
     "metadata": {},
     "output_type": "execute_result"
    }
   ],
   "source": [
    "res = np.argsort(results, axis=0,)\n",
    "res"
   ]
  },
  {
   "cell_type": "code",
   "execution_count": 108,
   "metadata": {
    "colab": {
     "base_uri": "https://localhost:8080/"
    },
    "id": "u2_3VRfT121m",
    "outputId": "796b253b-5990-4de6-ce02-6f17ecc3d810"
   },
   "outputs": [
    {
     "data": {
      "text/plain": [
       "array([[2],\n",
       "       [3],\n",
       "       [1]])"
      ]
     },
     "execution_count": 108,
     "metadata": {},
     "output_type": "execute_result"
    }
   ],
   "source": [
    "res[-1:-4:-1]"
   ]
  },
  {
   "cell_type": "code",
   "execution_count": 112,
   "metadata": {
    "colab": {
     "base_uri": "https://localhost:8080/"
    },
    "id": "8YgIyXvQ1u8w",
    "outputId": "dcb100ec-eaf6-4b8e-9a74-87825bbf63a7"
   },
   "outputs": [
    {
     "name": "stdout",
     "output_type": "stream",
     "text": [
      "result  1 =============================\n",
      "Machine learning involves computers discovering how they can perform tasks without being explicitly programmed to do so. It involves computers learning from data provided so that they carry out certain tasks.\n",
      "=============================\n",
      "result  2 =============================\n",
      "Machine learning approaches are traditionally divided into three broad categories, depending on the nature of the \"signal\"or \"feedback\" available to the learning system: Supervised, Unsupervised and Reinforcement\n",
      "=============================\n",
      "result  3 =============================\n",
      "Machine learning is closely related to computational statistics, which focuses on making predictions using computers.The study of mathematical optimization delivers methods, theory and application domains to the field of machine learning.\n",
      "=============================\n",
      "result  4 =============================\n",
      "Machine learning is the study of computer algorithms that improve automatically through experience.Machine learning algorithms build a mathematical model based on sample data, known as training data.The discipline of machine learning employs various approaches to teach computers to accomplish tasks where no fully satisfactory algorithm is available.\n",
      "=============================\n"
     ]
    }
   ],
   "source": [
    "k=1\n",
    "for i in res[-1:-5:-1]:\n",
    "    print(\"result \", k, \"=============================\")\n",
    "    print(documents[i[0]])\n",
    "    print(\"=============================\")\n",
    "    k+=1"
   ]
  },
  {
   "cell_type": "code",
   "execution_count": null,
   "metadata": {
    "id": "q_5uSjSP2AGZ"
   },
   "outputs": [],
   "source": []
  }
 ],
 "metadata": {
  "colab": {
   "name": "word2vec_with_ptm.ipynb",
   "provenance": []
  },
  "kernelspec": {
   "display_name": "Python 3 (ipykernel)",
   "language": "python",
   "name": "python3"
  },
  "language_info": {
   "codemirror_mode": {
    "name": "ipython",
    "version": 3
   },
   "file_extension": ".py",
   "mimetype": "text/x-python",
   "name": "python",
   "nbconvert_exporter": "python",
   "pygments_lexer": "ipython3",
   "version": "3.9.7"
  }
 },
 "nbformat": 4,
 "nbformat_minor": 1
}
