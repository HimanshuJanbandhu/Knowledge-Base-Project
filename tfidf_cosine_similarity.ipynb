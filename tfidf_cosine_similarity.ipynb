{
  "nbformat": 4,
  "nbformat_minor": 0,
  "metadata": {
    "colab": {
      "name": "tfidf_cosine_similarity.ipynb",
      "provenance": []
    },
    "kernelspec": {
      "name": "python3",
      "display_name": "Python 3"
    },
    "language_info": {
      "name": "python"
    }
  },
  "cells": [
    {
      "cell_type": "code",
      "execution_count": null,
      "metadata": {
        "id": "_Cjk4IjpR4DN"
      },
      "outputs": [],
      "source": [
        "import pandas as pd\n",
        "import numpy as np"
      ]
    },
    {
      "cell_type": "code",
      "source": [
        "#documents\n",
        "doc1 = \"I want to start learning to charge something in life\"\n",
        "doc2 = \"reading something about life no one else knows\"\n",
        "doc3 = \"Never stop learning\"\n",
        "#query string\n",
        "query = \"life learning\""
      ],
      "metadata": {
        "id": "Tqw0BJvySJ3H"
      },
      "execution_count": null,
      "outputs": []
    },
    {
      "cell_type": "markdown",
      "source": [
        "Term Frequency"
      ],
      "metadata": {
        "id": "FvsdTwjhVpzf"
      }
    },
    {
      "cell_type": "code",
      "source": [
        "doc_lst = doc1.split(\" \")\n",
        "doc_lst"
      ],
      "metadata": {
        "colab": {
          "base_uri": "https://localhost:8080/"
        },
        "id": "IEwqOZCkSgfM",
        "outputId": "1d49f635-4b96-4b0c-9eef-0f3bfa32026f"
      },
      "execution_count": null,
      "outputs": [
        {
          "output_type": "execute_result",
          "data": {
            "text/plain": [
              "['I',\n",
              " 'want',\n",
              " 'to',\n",
              " 'start',\n",
              " 'learning',\n",
              " 'to',\n",
              " 'charge',\n",
              " 'something',\n",
              " 'in',\n",
              " 'life']"
            ]
          },
          "metadata": {},
          "execution_count": 3
        }
      ]
    },
    {
      "cell_type": "code",
      "source": [
        "wordDict_1= dict.fromkeys(set(doc_lst), 0)\n",
        "wordDict_1"
      ],
      "metadata": {
        "colab": {
          "base_uri": "https://localhost:8080/"
        },
        "id": "5hNX0DJ-SrUO",
        "outputId": "0bfd6a04-2ac8-49b7-a8b4-39917d703bf6"
      },
      "execution_count": null,
      "outputs": [
        {
          "output_type": "execute_result",
          "data": {
            "text/plain": [
              "{'I': 0,\n",
              " 'charge': 0,\n",
              " 'in': 0,\n",
              " 'learning': 0,\n",
              " 'life': 0,\n",
              " 'something': 0,\n",
              " 'start': 0,\n",
              " 'to': 0,\n",
              " 'want': 0}"
            ]
          },
          "metadata": {},
          "execution_count": 4
        }
      ]
    },
    {
      "cell_type": "code",
      "source": [
        "for token in doc_lst:\n",
        "    wordDict_1[token] +=  1\n",
        "df = pd.DataFrame([wordDict_1])\n",
        "df"
      ],
      "metadata": {
        "colab": {
          "base_uri": "https://localhost:8080/",
          "height": 80
        },
        "id": "8QmlBfLNS3dA",
        "outputId": "a85c7613-197f-4290-c133-edce1345faf1"
      },
      "execution_count": null,
      "outputs": [
        {
          "output_type": "execute_result",
          "data": {
            "text/html": [
              "\n",
              "  <div id=\"df-b5b21277-fdf2-4f8f-abfa-d33a6744c864\">\n",
              "    <div class=\"colab-df-container\">\n",
              "      <div>\n",
              "<style scoped>\n",
              "    .dataframe tbody tr th:only-of-type {\n",
              "        vertical-align: middle;\n",
              "    }\n",
              "\n",
              "    .dataframe tbody tr th {\n",
              "        vertical-align: top;\n",
              "    }\n",
              "\n",
              "    .dataframe thead th {\n",
              "        text-align: right;\n",
              "    }\n",
              "</style>\n",
              "<table border=\"1\" class=\"dataframe\">\n",
              "  <thead>\n",
              "    <tr style=\"text-align: right;\">\n",
              "      <th></th>\n",
              "      <th>something</th>\n",
              "      <th>I</th>\n",
              "      <th>in</th>\n",
              "      <th>life</th>\n",
              "      <th>learning</th>\n",
              "      <th>to</th>\n",
              "      <th>start</th>\n",
              "      <th>want</th>\n",
              "      <th>charge</th>\n",
              "    </tr>\n",
              "  </thead>\n",
              "  <tbody>\n",
              "    <tr>\n",
              "      <th>0</th>\n",
              "      <td>1</td>\n",
              "      <td>1</td>\n",
              "      <td>1</td>\n",
              "      <td>1</td>\n",
              "      <td>1</td>\n",
              "      <td>2</td>\n",
              "      <td>1</td>\n",
              "      <td>1</td>\n",
              "      <td>1</td>\n",
              "    </tr>\n",
              "  </tbody>\n",
              "</table>\n",
              "</div>\n",
              "      <button class=\"colab-df-convert\" onclick=\"convertToInteractive('df-b5b21277-fdf2-4f8f-abfa-d33a6744c864')\"\n",
              "              title=\"Convert this dataframe to an interactive table.\"\n",
              "              style=\"display:none;\">\n",
              "        \n",
              "  <svg xmlns=\"http://www.w3.org/2000/svg\" height=\"24px\"viewBox=\"0 0 24 24\"\n",
              "       width=\"24px\">\n",
              "    <path d=\"M0 0h24v24H0V0z\" fill=\"none\"/>\n",
              "    <path d=\"M18.56 5.44l.94 2.06.94-2.06 2.06-.94-2.06-.94-.94-2.06-.94 2.06-2.06.94zm-11 1L8.5 8.5l.94-2.06 2.06-.94-2.06-.94L8.5 2.5l-.94 2.06-2.06.94zm10 10l.94 2.06.94-2.06 2.06-.94-2.06-.94-.94-2.06-.94 2.06-2.06.94z\"/><path d=\"M17.41 7.96l-1.37-1.37c-.4-.4-.92-.59-1.43-.59-.52 0-1.04.2-1.43.59L10.3 9.45l-7.72 7.72c-.78.78-.78 2.05 0 2.83L4 21.41c.39.39.9.59 1.41.59.51 0 1.02-.2 1.41-.59l7.78-7.78 2.81-2.81c.8-.78.8-2.07 0-2.86zM5.41 20L4 18.59l7.72-7.72 1.47 1.35L5.41 20z\"/>\n",
              "  </svg>\n",
              "      </button>\n",
              "      \n",
              "  <style>\n",
              "    .colab-df-container {\n",
              "      display:flex;\n",
              "      flex-wrap:wrap;\n",
              "      gap: 12px;\n",
              "    }\n",
              "\n",
              "    .colab-df-convert {\n",
              "      background-color: #E8F0FE;\n",
              "      border: none;\n",
              "      border-radius: 50%;\n",
              "      cursor: pointer;\n",
              "      display: none;\n",
              "      fill: #1967D2;\n",
              "      height: 32px;\n",
              "      padding: 0 0 0 0;\n",
              "      width: 32px;\n",
              "    }\n",
              "\n",
              "    .colab-df-convert:hover {\n",
              "      background-color: #E2EBFA;\n",
              "      box-shadow: 0px 1px 2px rgba(60, 64, 67, 0.3), 0px 1px 3px 1px rgba(60, 64, 67, 0.15);\n",
              "      fill: #174EA6;\n",
              "    }\n",
              "\n",
              "    [theme=dark] .colab-df-convert {\n",
              "      background-color: #3B4455;\n",
              "      fill: #D2E3FC;\n",
              "    }\n",
              "\n",
              "    [theme=dark] .colab-df-convert:hover {\n",
              "      background-color: #434B5C;\n",
              "      box-shadow: 0px 1px 3px 1px rgba(0, 0, 0, 0.15);\n",
              "      filter: drop-shadow(0px 1px 2px rgba(0, 0, 0, 0.3));\n",
              "      fill: #FFFFFF;\n",
              "    }\n",
              "  </style>\n",
              "\n",
              "      <script>\n",
              "        const buttonEl =\n",
              "          document.querySelector('#df-b5b21277-fdf2-4f8f-abfa-d33a6744c864 button.colab-df-convert');\n",
              "        buttonEl.style.display =\n",
              "          google.colab.kernel.accessAllowed ? 'block' : 'none';\n",
              "\n",
              "        async function convertToInteractive(key) {\n",
              "          const element = document.querySelector('#df-b5b21277-fdf2-4f8f-abfa-d33a6744c864');\n",
              "          const dataTable =\n",
              "            await google.colab.kernel.invokeFunction('convertToInteractive',\n",
              "                                                     [key], {});\n",
              "          if (!dataTable) return;\n",
              "\n",
              "          const docLinkHtml = 'Like what you see? Visit the ' +\n",
              "            '<a target=\"_blank\" href=https://colab.research.google.com/notebooks/data_table.ipynb>data table notebook</a>'\n",
              "            + ' to learn more about interactive tables.';\n",
              "          element.innerHTML = '';\n",
              "          dataTable['output_type'] = 'display_data';\n",
              "          await google.colab.output.renderOutput(dataTable, element);\n",
              "          const docLink = document.createElement('div');\n",
              "          docLink.innerHTML = docLinkHtml;\n",
              "          element.appendChild(docLink);\n",
              "        }\n",
              "      </script>\n",
              "    </div>\n",
              "  </div>\n",
              "  "
            ],
            "text/plain": [
              "   something  I  in  life  learning  to  start  want  charge\n",
              "0          1  1   1     1         1   2      1     1       1"
            ]
          },
          "metadata": {},
          "execution_count": 5
        }
      ]
    },
    {
      "cell_type": "code",
      "source": [
        "idx = 0\n",
        "new_col = [\"Term Frequency\"]    \n",
        "df.insert(loc=idx, column='Document', value=new_col)\n",
        "print(df)"
      ],
      "metadata": {
        "colab": {
          "base_uri": "https://localhost:8080/"
        },
        "id": "Wf5I2M33Tn_i",
        "outputId": "9c3d27a0-aecd-48c2-a64f-35c776ad20b1"
      },
      "execution_count": null,
      "outputs": [
        {
          "output_type": "stream",
          "name": "stdout",
          "text": [
            "         Document  something  I  in  life  learning  to  start  want  charge\n",
            "0  Term Frequency          1  1   1     1         1   2      1     1       1\n"
          ]
        }
      ]
    },
    {
      "cell_type": "code",
      "source": [
        "#term -frequenvy :word occurences in a document\n",
        "def compute_tf(docs_list):\n",
        "    for doc in docs_list:\n",
        "        doc1_lst = doc.split(\" \")\n",
        "        wordDict_1= dict.fromkeys(set(doc1_lst), 0)\n",
        "\n",
        "        for token in doc1_lst:\n",
        "            wordDict_1[token] +=  1\n",
        "        df = pd.DataFrame([wordDict_1])\n",
        "        idx = 0\n",
        "        new_col = [\"Term Frequency\"]    \n",
        "        df.insert(loc=idx, column='Document', value=new_col)\n",
        "        print(df)\n",
        "        \n",
        "compute_tf([doc1, doc2, doc3])"
      ],
      "metadata": {
        "colab": {
          "base_uri": "https://localhost:8080/"
        },
        "id": "kVW3xsHkT_Kx",
        "outputId": "1c306ac4-de18-4d24-f788-f03e33062e8f"
      },
      "execution_count": null,
      "outputs": [
        {
          "output_type": "stream",
          "name": "stdout",
          "text": [
            "         Document  something  I  in  life  learning  to  start  want  charge\n",
            "0  Term Frequency          1  1   1     1         1   2      1     1       1\n",
            "         Document  something  life  else  one  knows  no  about  reading\n",
            "0  Term Frequency          1     1     1    1      1   1      1        1\n",
            "         Document  stop  learning  Never\n",
            "0  Term Frequency     1         1      1\n"
          ]
        }
      ]
    },
    {
      "cell_type": "code",
      "source": [
        "#Normalized Term Frequency\n",
        "def termFrequency(term, document):\n",
        "    normalizeDocument = document.lower().split()\n",
        "    return normalizeDocument.count(term.lower()) / float(len(normalizeDocument))"
      ],
      "metadata": {
        "id": "-VhrH8hmUPn_"
      },
      "execution_count": null,
      "outputs": []
    },
    {
      "cell_type": "code",
      "source": [
        "def compute_normalizedtf(documents):\n",
        "    tf_doc = []\n",
        "    for txt in documents:\n",
        "        sentence = txt.split()\n",
        "        norm_tf= dict.fromkeys(set(sentence), 0)\n",
        "        for word in sentence:\n",
        "            norm_tf[word] = termFrequency(word, txt)\n",
        "        tf_doc.append(norm_tf)\n",
        "        df = pd.DataFrame([norm_tf])\n",
        "        idx = 0\n",
        "        new_col = [\"Normalized TF\"]    \n",
        "        df.insert(loc=idx, column='Document', value=new_col)\n",
        "        print(df)\n",
        "    return tf_doc\n",
        "\n",
        "tf_doc = compute_normalizedtf([doc1, doc2, doc3])"
      ],
      "metadata": {
        "colab": {
          "base_uri": "https://localhost:8080/"
        },
        "id": "UywAZm-2Vbiu",
        "outputId": "0fe89a56-5a17-4bff-e024-e2ef336883e5"
      },
      "execution_count": null,
      "outputs": [
        {
          "output_type": "stream",
          "name": "stdout",
          "text": [
            "        Document  something    I   in  life  learning   to  start  want  \\\n",
            "0  Normalized TF        0.1  0.1  0.1   0.1       0.1  0.2    0.1   0.1   \n",
            "\n",
            "   charge  \n",
            "0     0.1  \n",
            "        Document  something   life   else    one  knows     no  about  reading\n",
            "0  Normalized TF      0.125  0.125  0.125  0.125  0.125  0.125  0.125    0.125\n",
            "        Document      stop  learning     Never\n",
            "0  Normalized TF  0.333333  0.333333  0.333333\n"
          ]
        }
      ]
    },
    {
      "cell_type": "markdown",
      "source": [
        "Inverse document Frequency"
      ],
      "metadata": {
        "id": "rlPgpTb6Vto2"
      }
    },
    {
      "cell_type": "code",
      "source": [
        "tf_doc[2]"
      ],
      "metadata": {
        "colab": {
          "base_uri": "https://localhost:8080/"
        },
        "id": "64c0FYrgY_4X",
        "outputId": "f531c149-b0b2-401d-efeb-e9150b7319dd"
      },
      "execution_count": null,
      "outputs": [
        {
          "output_type": "execute_result",
          "data": {
            "text/plain": [
              "{'Never': 0.3333333333333333,\n",
              " 'learning': 0.3333333333333333,\n",
              " 'stop': 0.3333333333333333}"
            ]
          },
          "metadata": {},
          "execution_count": 20
        }
      ]
    },
    {
      "cell_type": "code",
      "source": [
        "import math"
      ],
      "metadata": {
        "id": "bYHBfO_sWOdX"
      },
      "execution_count": null,
      "outputs": []
    },
    {
      "cell_type": "code",
      "source": [
        "def inverseDocumentFrequency(term, allDocuments):\n",
        "    numDocumentsWithThisTerm = 0\n",
        "    for doc in range (0, len(allDocuments)):\n",
        "        if term.lower() in allDocuments[doc].lower().split():\n",
        "            numDocumentsWithThisTerm = numDocumentsWithThisTerm + 1\n",
        " \n",
        "    if numDocumentsWithThisTerm > 0:\n",
        "        return 1.0 + math.log(float(len(allDocuments)) / numDocumentsWithThisTerm)\n",
        "    else:\n",
        "        return 1.0"
      ],
      "metadata": {
        "id": "RYNA_FdNVhj6"
      },
      "execution_count": null,
      "outputs": []
    },
    {
      "cell_type": "code",
      "source": [
        "def compute_idf(documents):\n",
        "    idf_dict = {}\n",
        "    for doc in documents:\n",
        "        sentence = doc.split()\n",
        "        for word in sentence:\n",
        "            idf_dict[word] = inverseDocumentFrequency(word, documents)\n",
        "    return idf_dict\n",
        "    \n",
        "idf_dict = compute_idf([doc1, doc2, doc3])\n",
        "\n",
        "compute_idf([doc1, doc2, doc3])"
      ],
      "metadata": {
        "colab": {
          "base_uri": "https://localhost:8080/"
        },
        "id": "tgXTs1H9WTv8",
        "outputId": "d54b05a9-d306-4908-9c45-126a9ff0283e"
      },
      "execution_count": null,
      "outputs": [
        {
          "output_type": "execute_result",
          "data": {
            "text/plain": [
              "{'I': 2.09861228866811,\n",
              " 'Never': 2.09861228866811,\n",
              " 'about': 2.09861228866811,\n",
              " 'charge': 2.09861228866811,\n",
              " 'else': 2.09861228866811,\n",
              " 'in': 2.09861228866811,\n",
              " 'knows': 2.09861228866811,\n",
              " 'learning': 1.4054651081081644,\n",
              " 'life': 1.4054651081081644,\n",
              " 'no': 2.09861228866811,\n",
              " 'one': 2.09861228866811,\n",
              " 'reading': 2.09861228866811,\n",
              " 'something': 1.4054651081081644,\n",
              " 'start': 2.09861228866811,\n",
              " 'stop': 2.09861228866811,\n",
              " 'to': 2.09861228866811,\n",
              " 'want': 2.09861228866811}"
            ]
          },
          "metadata": {},
          "execution_count": 16
        }
      ]
    },
    {
      "cell_type": "markdown",
      "source": [
        "TF * IDF"
      ],
      "metadata": {
        "id": "IrvKRn-AYE4B"
      }
    },
    {
      "cell_type": "code",
      "source": [
        "# tf-idf score across all docs for the query string(\"life learning\")\n",
        "def compute_tfidf_with_alldocs(documents , query):\n",
        "    tf_idf = []\n",
        "    index = 0\n",
        "    query_tokens = query.split()\n",
        "    df = pd.DataFrame(columns=['doc'] + query_tokens)\n",
        "    for doc in documents:\n",
        "        df['doc'] = np.arange(0 , len(documents))\n",
        "        doc_num = tf_doc[index]\n",
        "        sentence = doc.split()\n",
        "        for word in sentence:\n",
        "            for text in query_tokens:\n",
        "                if(text == word):\n",
        "                    idx = sentence.index(word)\n",
        "                    tf_idf_score = doc_num[word] * idf_dict[word]\n",
        "                    tf_idf.append(tf_idf_score)\n",
        "                    df.iloc[index, df.columns.get_loc(word)] = tf_idf_score\n",
        "        index += 1\n",
        "    df.fillna(0 , axis=1, inplace=True)\n",
        "    return tf_idf , df\n",
        "            \n",
        "documents = [doc1, doc2, doc3]\n",
        "tf_idf , df = compute_tfidf_with_alldocs(documents , query)\n",
        "print(df)"
      ],
      "metadata": {
        "colab": {
          "base_uri": "https://localhost:8080/"
        },
        "id": "iREk3E4kWior",
        "outputId": "3b487fc7-2824-431e-91ce-d7d03e78e4e6"
      },
      "execution_count": null,
      "outputs": [
        {
          "output_type": "stream",
          "name": "stdout",
          "text": [
            "   doc      life  learning\n",
            "0    0  0.140547  0.140547\n",
            "1    1  0.175683  0.000000\n",
            "2    2  0.000000  0.468488\n"
          ]
        }
      ]
    },
    {
      "cell_type": "code",
      "source": [
        "# Train Document Set:\n",
        "d1 = \"The sky is blue.\"\n",
        "d2 = \"The sun is bright.\"\n",
        "\n",
        "# Test Document Set:\n",
        "d3 = \"The sun in the sky is bright.\"\n",
        "d4 = \"We can see the shining sun, the bright sun.\""
      ],
      "metadata": {
        "id": "IvGLanXKY0CY"
      },
      "execution_count": null,
      "outputs": []
    },
    {
      "cell_type": "code",
      "source": [
        "from sklearn.feature_extraction.text import TfidfVectorizer,CountVectorizer"
      ],
      "metadata": {
        "id": "vtgvDedAdAha"
      },
      "execution_count": null,
      "outputs": []
    },
    {
      "cell_type": "code",
      "source": [
        "# set of documents\n",
        "train = ['The sky is blue.','The sun is bright.']\n",
        "test = ['The sun in the sky is bright', 'We can see the shining sun, the bright sun.']\n",
        "# instantiate the vectorizer object\n",
        "countvectorizer = CountVectorizer(analyzer= 'word', stop_words='english')\n",
        "tfidfvectorizer = TfidfVectorizer(analyzer='word',stop_words= 'english')"
      ],
      "metadata": {
        "id": "sHpRLjntdSdY"
      },
      "execution_count": null,
      "outputs": []
    },
    {
      "cell_type": "code",
      "source": [
        "# convert the train documents into a matrix\n",
        "count_wm = countvectorizer.fit_transform(train)\n",
        "tfidf_wm = tfidfvectorizer.fit_transform(train)\n"
      ],
      "metadata": {
        "id": "CvV67LthdZSF"
      },
      "execution_count": null,
      "outputs": []
    },
    {
      "cell_type": "code",
      "source": [
        "#count_tokens = tfidfvectorizer.get_feature_names() # no difference\n",
        "count_tokens = countvectorizer.get_feature_names()\n",
        "tfidf_tokens = tfidfvectorizer.get_feature_names()"
      ],
      "metadata": {
        "colab": {
          "base_uri": "https://localhost:8080/"
        },
        "id": "hRAqcDg6dedD",
        "outputId": "800edb17-8600-4a18-947f-c20a98350cd0"
      },
      "execution_count": null,
      "outputs": [
        {
          "output_type": "stream",
          "name": "stderr",
          "text": [
            "/usr/local/lib/python3.7/dist-packages/sklearn/utils/deprecation.py:87: FutureWarning: Function get_feature_names is deprecated; get_feature_names is deprecated in 1.0 and will be removed in 1.2. Please use get_feature_names_out instead.\n",
            "  warnings.warn(msg, category=FutureWarning)\n"
          ]
        }
      ]
    },
    {
      "cell_type": "code",
      "source": [
        "count_tokens"
      ],
      "metadata": {
        "colab": {
          "base_uri": "https://localhost:8080/"
        },
        "id": "5U2Kjk8Hdk5q",
        "outputId": "cbffe868-454f-487e-bc28-c3674ef94371"
      },
      "execution_count": null,
      "outputs": [
        {
          "output_type": "execute_result",
          "data": {
            "text/plain": [
              "['blue', 'bright', 'sky', 'sun']"
            ]
          },
          "metadata": {},
          "execution_count": 28
        }
      ]
    },
    {
      "cell_type": "code",
      "source": [
        "df_countvect = pd.DataFrame(data = count_wm.toarray(),index = ['Doc1','Doc2'],columns = count_tokens)\n",
        "df_tfidfvect = pd.DataFrame(data = tfidf_wm.toarray(),index = ['Doc1','Doc2'],columns = tfidf_tokens)"
      ],
      "metadata": {
        "id": "5pQY0vuWdniI"
      },
      "execution_count": null,
      "outputs": []
    },
    {
      "cell_type": "code",
      "source": [
        "print(\"Count Vectorizer\\n\")\n",
        "print(df_countvect)\n",
        "print(\"\\nTD-IDF Vectorizer\\n\")\n",
        "print(df_tfidfvect)"
      ],
      "metadata": {
        "colab": {
          "base_uri": "https://localhost:8080/"
        },
        "id": "E9mLAWeod74_",
        "outputId": "1d7af048-8f4a-4550-806e-b3f3b03ef6fd"
      },
      "execution_count": null,
      "outputs": [
        {
          "output_type": "stream",
          "name": "stdout",
          "text": [
            "Count Vectorizer\n",
            "\n",
            "      blue  bright  sky  sun\n",
            "Doc1     1       0    1    0\n",
            "Doc2     0       1    0    1\n",
            "\n",
            "TD-IDF Vectorizer\n",
            "\n",
            "          blue    bright       sky       sun\n",
            "Doc1  0.707107  0.000000  0.707107  0.000000\n",
            "Doc2  0.000000  0.707107  0.000000  0.707107\n"
          ]
        }
      ]
    },
    {
      "cell_type": "code",
      "source": [
        "term_vectors  = countvectorizer.transform(test)\n",
        "print(\"Sparse Matrix form of test data : \\n\")\n",
        "print(term_vectors.todense())"
      ],
      "metadata": {
        "colab": {
          "base_uri": "https://localhost:8080/"
        },
        "id": "5W5ZAxVYd_YU",
        "outputId": "d7b75d77-3e95-433c-b664-df04362afc7d"
      },
      "execution_count": null,
      "outputs": [
        {
          "output_type": "stream",
          "name": "stdout",
          "text": [
            "Sparse Matrix form of test data : \n",
            "\n",
            "[[0 1 1 1]\n",
            " [0 1 0 2]]\n"
          ]
        }
      ]
    },
    {
      "cell_type": "code",
      "source": [
        "tfidf_term_vectors  = tfidfvectorizer.transform(test)\n",
        "print(\"Sparse Matrix form of test data : \\n\")\n",
        "tfidf_term_vectors.todense()"
      ],
      "metadata": {
        "colab": {
          "base_uri": "https://localhost:8080/"
        },
        "id": "ePNfpIG8eUG7",
        "outputId": "0bfdf042-1481-4a5c-cb24-a323f836c385"
      },
      "execution_count": null,
      "outputs": [
        {
          "output_type": "stream",
          "name": "stdout",
          "text": [
            "Sparse Matrix form of test data : \n",
            "\n"
          ]
        },
        {
          "output_type": "execute_result",
          "data": {
            "text/plain": [
              "matrix([[0.        , 0.57735027, 0.57735027, 0.57735027],\n",
              "        [0.        , 0.4472136 , 0.        , 0.89442719]])"
            ]
          },
          "metadata": {},
          "execution_count": 32
        }
      ]
    },
    {
      "cell_type": "code",
      "source": [
        "from sklearn.metrics.pairwise import cosine_similarity"
      ],
      "metadata": {
        "id": "RyFA0dtZefrm"
      },
      "execution_count": null,
      "outputs": []
    },
    {
      "cell_type": "code",
      "source": [
        "query = [\"sun in the sky\"]\n",
        "query_vec = tfidfvectorizer.transform(query)"
      ],
      "metadata": {
        "id": "RDrY7dkjgGVw"
      },
      "execution_count": null,
      "outputs": []
    },
    {
      "cell_type": "code",
      "source": [
        "results = cosine_similarity(tfidf_wm, query_vec)"
      ],
      "metadata": {
        "id": "UIfzqXL4fDnL"
      },
      "execution_count": null,
      "outputs": []
    },
    {
      "cell_type": "code",
      "source": [
        "results"
      ],
      "metadata": {
        "colab": {
          "base_uri": "https://localhost:8080/"
        },
        "id": "IgH1jGyOgpsE",
        "outputId": "a18a58f4-4305-4ac6-fd29-81378116e98e"
      },
      "execution_count": null,
      "outputs": [
        {
          "output_type": "execute_result",
          "data": {
            "text/plain": [
              "array([[0.5],\n",
              "       [0.5]])"
            ]
          },
          "metadata": {},
          "execution_count": 38
        }
      ]
    },
    {
      "cell_type": "code",
      "source": [
        "res = np.argsort(results, axis=0)\n",
        "print(res)"
      ],
      "metadata": {
        "colab": {
          "base_uri": "https://localhost:8080/"
        },
        "id": "C772Z_dTgrPQ",
        "outputId": "0297bae5-965f-4f62-f819-d65b3308868d"
      },
      "execution_count": null,
      "outputs": [
        {
          "output_type": "stream",
          "name": "stdout",
          "text": [
            "[[0]\n",
            " [1]]\n"
          ]
        }
      ]
    },
    {
      "cell_type": "code",
      "source": [
        ""
      ],
      "metadata": {
        "colab": {
          "base_uri": "https://localhost:8080/"
        },
        "id": "87MDEGM1ldG7",
        "outputId": "f5ef5d2c-399d-42ff-c845-bff724503cce"
      },
      "execution_count": null,
      "outputs": [
        {
          "output_type": "execute_result",
          "data": {
            "text/plain": [
              "2"
            ]
          },
          "metadata": {},
          "execution_count": 54
        }
      ]
    },
    {
      "cell_type": "code",
      "source": [
        "res[-2:][::-1]"
      ],
      "metadata": {
        "colab": {
          "base_uri": "https://localhost:8080/"
        },
        "id": "mz0EMGWohEML",
        "outputId": "4b10f21d-4fa6-4145-9c3d-852081d0ccd1"
      },
      "execution_count": null,
      "outputs": [
        {
          "output_type": "execute_result",
          "data": {
            "text/plain": [
              "array([[1],\n",
              "       [0]])"
            ]
          },
          "metadata": {},
          "execution_count": 66
        }
      ]
    },
    {
      "cell_type": "code",
      "source": [
        "k=1\n",
        "for i in res[-2:][::-1]:\n",
        "    print(\"result \", k, \"=============================\")\n",
        "    print(train[i[0]])\n",
        "    print(\"=============================\")\n",
        "    k+=1"
      ],
      "metadata": {
        "colab": {
          "base_uri": "https://localhost:8080/"
        },
        "id": "mCgTL6hOg4Ri",
        "outputId": "863333cf-0e1f-4ffa-b096-fb534626a90a"
      },
      "execution_count": null,
      "outputs": [
        {
          "output_type": "stream",
          "name": "stdout",
          "text": [
            "result  1 =============================\n",
            "The sun is bright.\n",
            "=============================\n",
            "result  2 =============================\n",
            "The sky is blue.\n",
            "=============================\n"
          ]
        }
      ]
    },
    {
      "cell_type": "code",
      "source": [
        ""
      ],
      "metadata": {
        "id": "aFS7JPncPOd-"
      },
      "execution_count": null,
      "outputs": []
    },
    {
      "cell_type": "code",
      "source": [
        ""
      ],
      "metadata": {
        "id": "DpIrKVNDPObs"
      },
      "execution_count": null,
      "outputs": []
    },
    {
      "cell_type": "code",
      "source": [
        ""
      ],
      "metadata": {
        "id": "KtHcaVOIPOZM"
      },
      "execution_count": null,
      "outputs": []
    },
    {
      "cell_type": "code",
      "source": [
        ""
      ],
      "metadata": {
        "id": "urIhjL6qPOWq"
      },
      "execution_count": null,
      "outputs": []
    },
    {
      "cell_type": "code",
      "source": [
        ""
      ],
      "metadata": {
        "id": "extWwiUPPOUN"
      },
      "execution_count": null,
      "outputs": []
    },
    {
      "cell_type": "code",
      "source": [
        ""
      ],
      "metadata": {
        "id": "AGbEN3K4PORa"
      },
      "execution_count": null,
      "outputs": []
    },
    {
      "cell_type": "code",
      "source": [
        "documents = ['Machine learning is the study of computer algorithms that improve automatically through experience.\\\n",
        "Machine learning algorithms build a mathematical model based on sample data, known as training data.\\\n",
        "The discipline of machine learning employs various approaches to teach computers to accomplish tasks \\\n",
        "where no fully satisfactory algorithm is available.',\n",
        "'Machine learning is closely related to computational statistics, which focuses on making predictions using computers.\\\n",
        "The study of mathematical optimization delivers methods, theory and application domains to the field of machine learning.',\n",
        "'Machine learning involves computers discovering how they can perform tasks without being explicitly programmed to do so. \\\n",
        "It involves computers learning from data provided so that they carry out certain tasks.',\n",
        "'Machine learning approaches are traditionally divided into three broad categories, depending on the nature of the \"signal\"\\\n",
        "or \"feedback\" available to the learning system: Supervised, Unsupervised and Reinforcement',\n",
        "'Software engineering is the systematic application of engineering approaches to the development of software.\\\n",
        "Software engineering is a computing discipline.',\n",
        "'A software engineer creates programs based on logic for the computer to execute. A software engineer has to be more concerned\\\n",
        "about the correctness of the program in all the cases. Meanwhile, a data scientist is comfortable with uncertainty and variability.\\\n",
        "Developing a machine learning application is more iterative and explorative process than software engineering.'\n",
        "]"
      ],
      "metadata": {
        "id": "-jrJom9pk_bd"
      },
      "execution_count": null,
      "outputs": []
    },
    {
      "cell_type": "code",
      "source": [
        "import pandas as pd\n",
        "import numpy as np\n",
        "from nltk.corpus import stopwords\n",
        "import nltk\n",
        "nltk.download('stopwords')\n",
        "import re\n",
        "from sklearn.feature_extraction.text import TfidfVectorizer,CountVectorizer \n",
        "from sklearn.metrics.pairwise import cosine_similarity"
      ],
      "metadata": {
        "colab": {
          "base_uri": "https://localhost:8080/"
        },
        "id": "k1po44ZRFA-k",
        "outputId": "186c9c33-6d12-48f4-f6f4-989690ce4bf1"
      },
      "execution_count": null,
      "outputs": [
        {
          "output_type": "stream",
          "name": "stdout",
          "text": [
            "[nltk_data] Downloading package stopwords to /root/nltk_data...\n",
            "[nltk_data]   Package stopwords is already up-to-date!\n"
          ]
        }
      ]
    },
    {
      "cell_type": "code",
      "source": [
        "documents_df=pd.DataFrame(documents,columns=['documents'])"
      ],
      "metadata": {
        "id": "Kf9y5mqHFHTj"
      },
      "execution_count": null,
      "outputs": []
    },
    {
      "cell_type": "code",
      "source": [
        "# removing special characters and stop words from the text\n",
        "stop_words_l=stopwords.words('english')\n",
        "documents_df['documents_cleaned']=documents_df.documents.apply(lambda x: \" \".join(re.sub(r'[^a-zA-Z]',' ',w).lower() for w in x.split() if re.sub(r'[^a-zA-Z]',' ',w).lower() not in stop_words_l) )\n"
      ],
      "metadata": {
        "id": "dAxBKF7ZFMt-"
      },
      "execution_count": null,
      "outputs": []
    },
    {
      "cell_type": "code",
      "source": [
        "documents_df"
      ],
      "metadata": {
        "colab": {
          "base_uri": "https://localhost:8080/",
          "height": 237
        },
        "id": "91ril2sZFdNw",
        "outputId": "350f5ef0-0eb2-4ea4-b500-cb244125ae4f"
      },
      "execution_count": null,
      "outputs": [
        {
          "output_type": "execute_result",
          "data": {
            "text/html": [
              "\n",
              "  <div id=\"df-0d2a7558-ab98-4a05-9663-d77889b7307d\">\n",
              "    <div class=\"colab-df-container\">\n",
              "      <div>\n",
              "<style scoped>\n",
              "    .dataframe tbody tr th:only-of-type {\n",
              "        vertical-align: middle;\n",
              "    }\n",
              "\n",
              "    .dataframe tbody tr th {\n",
              "        vertical-align: top;\n",
              "    }\n",
              "\n",
              "    .dataframe thead th {\n",
              "        text-align: right;\n",
              "    }\n",
              "</style>\n",
              "<table border=\"1\" class=\"dataframe\">\n",
              "  <thead>\n",
              "    <tr style=\"text-align: right;\">\n",
              "      <th></th>\n",
              "      <th>documents</th>\n",
              "      <th>documents_cleaned</th>\n",
              "    </tr>\n",
              "  </thead>\n",
              "  <tbody>\n",
              "    <tr>\n",
              "      <th>0</th>\n",
              "      <td>Machine learning is the study of computer algo...</td>\n",
              "      <td>machine learning study computer algorithms imp...</td>\n",
              "    </tr>\n",
              "    <tr>\n",
              "      <th>1</th>\n",
              "      <td>Machine learning is closely related to computa...</td>\n",
              "      <td>machine learning closely related computational...</td>\n",
              "    </tr>\n",
              "    <tr>\n",
              "      <th>2</th>\n",
              "      <td>Machine learning involves computers discoverin...</td>\n",
              "      <td>machine learning involves computers discoverin...</td>\n",
              "    </tr>\n",
              "    <tr>\n",
              "      <th>3</th>\n",
              "      <td>Machine learning approaches are traditionally ...</td>\n",
              "      <td>machine learning approaches traditionally divi...</td>\n",
              "    </tr>\n",
              "    <tr>\n",
              "      <th>4</th>\n",
              "      <td>Software engineering is the systematic applica...</td>\n",
              "      <td>software engineering systematic application en...</td>\n",
              "    </tr>\n",
              "    <tr>\n",
              "      <th>5</th>\n",
              "      <td>A software engineer creates programs based on ...</td>\n",
              "      <td>software engineer creates programs based logic...</td>\n",
              "    </tr>\n",
              "  </tbody>\n",
              "</table>\n",
              "</div>\n",
              "      <button class=\"colab-df-convert\" onclick=\"convertToInteractive('df-0d2a7558-ab98-4a05-9663-d77889b7307d')\"\n",
              "              title=\"Convert this dataframe to an interactive table.\"\n",
              "              style=\"display:none;\">\n",
              "        \n",
              "  <svg xmlns=\"http://www.w3.org/2000/svg\" height=\"24px\"viewBox=\"0 0 24 24\"\n",
              "       width=\"24px\">\n",
              "    <path d=\"M0 0h24v24H0V0z\" fill=\"none\"/>\n",
              "    <path d=\"M18.56 5.44l.94 2.06.94-2.06 2.06-.94-2.06-.94-.94-2.06-.94 2.06-2.06.94zm-11 1L8.5 8.5l.94-2.06 2.06-.94-2.06-.94L8.5 2.5l-.94 2.06-2.06.94zm10 10l.94 2.06.94-2.06 2.06-.94-2.06-.94-.94-2.06-.94 2.06-2.06.94z\"/><path d=\"M17.41 7.96l-1.37-1.37c-.4-.4-.92-.59-1.43-.59-.52 0-1.04.2-1.43.59L10.3 9.45l-7.72 7.72c-.78.78-.78 2.05 0 2.83L4 21.41c.39.39.9.59 1.41.59.51 0 1.02-.2 1.41-.59l7.78-7.78 2.81-2.81c.8-.78.8-2.07 0-2.86zM5.41 20L4 18.59l7.72-7.72 1.47 1.35L5.41 20z\"/>\n",
              "  </svg>\n",
              "      </button>\n",
              "      \n",
              "  <style>\n",
              "    .colab-df-container {\n",
              "      display:flex;\n",
              "      flex-wrap:wrap;\n",
              "      gap: 12px;\n",
              "    }\n",
              "\n",
              "    .colab-df-convert {\n",
              "      background-color: #E8F0FE;\n",
              "      border: none;\n",
              "      border-radius: 50%;\n",
              "      cursor: pointer;\n",
              "      display: none;\n",
              "      fill: #1967D2;\n",
              "      height: 32px;\n",
              "      padding: 0 0 0 0;\n",
              "      width: 32px;\n",
              "    }\n",
              "\n",
              "    .colab-df-convert:hover {\n",
              "      background-color: #E2EBFA;\n",
              "      box-shadow: 0px 1px 2px rgba(60, 64, 67, 0.3), 0px 1px 3px 1px rgba(60, 64, 67, 0.15);\n",
              "      fill: #174EA6;\n",
              "    }\n",
              "\n",
              "    [theme=dark] .colab-df-convert {\n",
              "      background-color: #3B4455;\n",
              "      fill: #D2E3FC;\n",
              "    }\n",
              "\n",
              "    [theme=dark] .colab-df-convert:hover {\n",
              "      background-color: #434B5C;\n",
              "      box-shadow: 0px 1px 3px 1px rgba(0, 0, 0, 0.15);\n",
              "      filter: drop-shadow(0px 1px 2px rgba(0, 0, 0, 0.3));\n",
              "      fill: #FFFFFF;\n",
              "    }\n",
              "  </style>\n",
              "\n",
              "      <script>\n",
              "        const buttonEl =\n",
              "          document.querySelector('#df-0d2a7558-ab98-4a05-9663-d77889b7307d button.colab-df-convert');\n",
              "        buttonEl.style.display =\n",
              "          google.colab.kernel.accessAllowed ? 'block' : 'none';\n",
              "\n",
              "        async function convertToInteractive(key) {\n",
              "          const element = document.querySelector('#df-0d2a7558-ab98-4a05-9663-d77889b7307d');\n",
              "          const dataTable =\n",
              "            await google.colab.kernel.invokeFunction('convertToInteractive',\n",
              "                                                     [key], {});\n",
              "          if (!dataTable) return;\n",
              "\n",
              "          const docLinkHtml = 'Like what you see? Visit the ' +\n",
              "            '<a target=\"_blank\" href=https://colab.research.google.com/notebooks/data_table.ipynb>data table notebook</a>'\n",
              "            + ' to learn more about interactive tables.';\n",
              "          element.innerHTML = '';\n",
              "          dataTable['output_type'] = 'display_data';\n",
              "          await google.colab.output.renderOutput(dataTable, element);\n",
              "          const docLink = document.createElement('div');\n",
              "          docLink.innerHTML = docLinkHtml;\n",
              "          element.appendChild(docLink);\n",
              "        }\n",
              "      </script>\n",
              "    </div>\n",
              "  </div>\n",
              "  "
            ],
            "text/plain": [
              "                                           documents  \\\n",
              "0  Machine learning is the study of computer algo...   \n",
              "1  Machine learning is closely related to computa...   \n",
              "2  Machine learning involves computers discoverin...   \n",
              "3  Machine learning approaches are traditionally ...   \n",
              "4  Software engineering is the systematic applica...   \n",
              "5  A software engineer creates programs based on ...   \n",
              "\n",
              "                                   documents_cleaned  \n",
              "0  machine learning study computer algorithms imp...  \n",
              "1  machine learning closely related computational...  \n",
              "2  machine learning involves computers discoverin...  \n",
              "3  machine learning approaches traditionally divi...  \n",
              "4  software engineering systematic application en...  \n",
              "5  software engineer creates programs based logic...  "
            ]
          },
          "metadata": {},
          "execution_count": 9
        }
      ]
    },
    {
      "cell_type": "code",
      "source": [
        "countvectorizer = CountVectorizer(analyzer= 'word', stop_words='english')\n",
        "tfidfvectorizer = TfidfVectorizer(analyzer='word',stop_words= 'english')"
      ],
      "metadata": {
        "id": "wpRc2FFNFfms"
      },
      "execution_count": null,
      "outputs": []
    },
    {
      "cell_type": "code",
      "source": [
        "count_wm = countvectorizer.fit_transform(documents_df.documents_cleaned)\n",
        "tfidf_wm = tfidfvectorizer.fit_transform(documents_df.documents_cleaned)"
      ],
      "metadata": {
        "id": "QM4lyPSWF8q_"
      },
      "execution_count": null,
      "outputs": []
    },
    {
      "cell_type": "code",
      "source": [
        "count_tokens = countvectorizer.get_feature_names()\n",
        "tfidf_tokens = tfidfvectorizer.get_feature_names()"
      ],
      "metadata": {
        "colab": {
          "base_uri": "https://localhost:8080/"
        },
        "id": "B3RLzaMnGJgX",
        "outputId": "828b208c-1a78-4d09-f46d-60142d5a7bd1"
      },
      "execution_count": null,
      "outputs": [
        {
          "output_type": "stream",
          "name": "stderr",
          "text": [
            "/usr/local/lib/python3.7/dist-packages/sklearn/utils/deprecation.py:87: FutureWarning: Function get_feature_names is deprecated; get_feature_names is deprecated in 1.0 and will be removed in 1.2. Please use get_feature_names_out instead.\n",
            "  warnings.warn(msg, category=FutureWarning)\n"
          ]
        }
      ]
    },
    {
      "cell_type": "code",
      "source": [
        "df_countvect = pd.DataFrame(data = count_wm.toarray(),index = ['Doc1','Doc2','Doc3','Doc4','Doc5','Doc6'],columns = count_tokens)\n",
        "df_tfidfvect = pd.DataFrame(data = tfidf_wm.toarray(),index = ['Doc1','Doc2','Doc3','Doc4','Doc5','Doc6'],columns = tfidf_tokens)"
      ],
      "metadata": {
        "id": "TspZ_tTiGQtI"
      },
      "execution_count": null,
      "outputs": []
    },
    {
      "cell_type": "code",
      "source": [
        "df_countvect"
      ],
      "metadata": {
        "colab": {
          "base_uri": "https://localhost:8080/",
          "height": 331
        },
        "id": "PowGvAlwGxVf",
        "outputId": "499abcc4-9b41-46c7-e7c9-808cea8ae6e7"
      },
      "execution_count": null,
      "outputs": [
        {
          "output_type": "execute_result",
          "data": {
            "text/html": [
              "\n",
              "  <div id=\"df-0dcc597c-50bd-42a3-9341-ea176b90b2ba\">\n",
              "    <div class=\"colab-df-container\">\n",
              "      <div>\n",
              "<style scoped>\n",
              "    .dataframe tbody tr th:only-of-type {\n",
              "        vertical-align: middle;\n",
              "    }\n",
              "\n",
              "    .dataframe tbody tr th {\n",
              "        vertical-align: top;\n",
              "    }\n",
              "\n",
              "    .dataframe thead th {\n",
              "        text-align: right;\n",
              "    }\n",
              "</style>\n",
              "<table border=\"1\" class=\"dataframe\">\n",
              "  <thead>\n",
              "    <tr style=\"text-align: right;\">\n",
              "      <th></th>\n",
              "      <th>accomplish</th>\n",
              "      <th>algorithm</th>\n",
              "      <th>algorithms</th>\n",
              "      <th>application</th>\n",
              "      <th>approaches</th>\n",
              "      <th>automatically</th>\n",
              "      <th>available</th>\n",
              "      <th>based</th>\n",
              "      <th>broad</th>\n",
              "      <th>build</th>\n",
              "      <th>...</th>\n",
              "      <th>tasks</th>\n",
              "      <th>teach</th>\n",
              "      <th>theory</th>\n",
              "      <th>traditionally</th>\n",
              "      <th>training</th>\n",
              "      <th>uncertainty</th>\n",
              "      <th>unsupervised</th>\n",
              "      <th>using</th>\n",
              "      <th>variability</th>\n",
              "      <th>various</th>\n",
              "    </tr>\n",
              "  </thead>\n",
              "  <tbody>\n",
              "    <tr>\n",
              "      <th>Doc1</th>\n",
              "      <td>1</td>\n",
              "      <td>1</td>\n",
              "      <td>2</td>\n",
              "      <td>0</td>\n",
              "      <td>1</td>\n",
              "      <td>1</td>\n",
              "      <td>1</td>\n",
              "      <td>1</td>\n",
              "      <td>0</td>\n",
              "      <td>1</td>\n",
              "      <td>...</td>\n",
              "      <td>1</td>\n",
              "      <td>1</td>\n",
              "      <td>0</td>\n",
              "      <td>0</td>\n",
              "      <td>1</td>\n",
              "      <td>0</td>\n",
              "      <td>0</td>\n",
              "      <td>0</td>\n",
              "      <td>0</td>\n",
              "      <td>1</td>\n",
              "    </tr>\n",
              "    <tr>\n",
              "      <th>Doc2</th>\n",
              "      <td>0</td>\n",
              "      <td>0</td>\n",
              "      <td>0</td>\n",
              "      <td>1</td>\n",
              "      <td>0</td>\n",
              "      <td>0</td>\n",
              "      <td>0</td>\n",
              "      <td>0</td>\n",
              "      <td>0</td>\n",
              "      <td>0</td>\n",
              "      <td>...</td>\n",
              "      <td>0</td>\n",
              "      <td>0</td>\n",
              "      <td>1</td>\n",
              "      <td>0</td>\n",
              "      <td>0</td>\n",
              "      <td>0</td>\n",
              "      <td>0</td>\n",
              "      <td>1</td>\n",
              "      <td>0</td>\n",
              "      <td>0</td>\n",
              "    </tr>\n",
              "    <tr>\n",
              "      <th>Doc3</th>\n",
              "      <td>0</td>\n",
              "      <td>0</td>\n",
              "      <td>0</td>\n",
              "      <td>0</td>\n",
              "      <td>0</td>\n",
              "      <td>0</td>\n",
              "      <td>0</td>\n",
              "      <td>0</td>\n",
              "      <td>0</td>\n",
              "      <td>0</td>\n",
              "      <td>...</td>\n",
              "      <td>2</td>\n",
              "      <td>0</td>\n",
              "      <td>0</td>\n",
              "      <td>0</td>\n",
              "      <td>0</td>\n",
              "      <td>0</td>\n",
              "      <td>0</td>\n",
              "      <td>0</td>\n",
              "      <td>0</td>\n",
              "      <td>0</td>\n",
              "    </tr>\n",
              "    <tr>\n",
              "      <th>Doc4</th>\n",
              "      <td>0</td>\n",
              "      <td>0</td>\n",
              "      <td>0</td>\n",
              "      <td>0</td>\n",
              "      <td>1</td>\n",
              "      <td>0</td>\n",
              "      <td>1</td>\n",
              "      <td>0</td>\n",
              "      <td>1</td>\n",
              "      <td>0</td>\n",
              "      <td>...</td>\n",
              "      <td>0</td>\n",
              "      <td>0</td>\n",
              "      <td>0</td>\n",
              "      <td>1</td>\n",
              "      <td>0</td>\n",
              "      <td>0</td>\n",
              "      <td>1</td>\n",
              "      <td>0</td>\n",
              "      <td>0</td>\n",
              "      <td>0</td>\n",
              "    </tr>\n",
              "    <tr>\n",
              "      <th>Doc5</th>\n",
              "      <td>0</td>\n",
              "      <td>0</td>\n",
              "      <td>0</td>\n",
              "      <td>1</td>\n",
              "      <td>1</td>\n",
              "      <td>0</td>\n",
              "      <td>0</td>\n",
              "      <td>0</td>\n",
              "      <td>0</td>\n",
              "      <td>0</td>\n",
              "      <td>...</td>\n",
              "      <td>0</td>\n",
              "      <td>0</td>\n",
              "      <td>0</td>\n",
              "      <td>0</td>\n",
              "      <td>0</td>\n",
              "      <td>0</td>\n",
              "      <td>0</td>\n",
              "      <td>0</td>\n",
              "      <td>0</td>\n",
              "      <td>0</td>\n",
              "    </tr>\n",
              "    <tr>\n",
              "      <th>Doc6</th>\n",
              "      <td>0</td>\n",
              "      <td>0</td>\n",
              "      <td>0</td>\n",
              "      <td>1</td>\n",
              "      <td>0</td>\n",
              "      <td>0</td>\n",
              "      <td>0</td>\n",
              "      <td>1</td>\n",
              "      <td>0</td>\n",
              "      <td>0</td>\n",
              "      <td>...</td>\n",
              "      <td>0</td>\n",
              "      <td>0</td>\n",
              "      <td>0</td>\n",
              "      <td>0</td>\n",
              "      <td>0</td>\n",
              "      <td>1</td>\n",
              "      <td>0</td>\n",
              "      <td>0</td>\n",
              "      <td>1</td>\n",
              "      <td>0</td>\n",
              "    </tr>\n",
              "  </tbody>\n",
              "</table>\n",
              "<p>6 rows × 84 columns</p>\n",
              "</div>\n",
              "      <button class=\"colab-df-convert\" onclick=\"convertToInteractive('df-0dcc597c-50bd-42a3-9341-ea176b90b2ba')\"\n",
              "              title=\"Convert this dataframe to an interactive table.\"\n",
              "              style=\"display:none;\">\n",
              "        \n",
              "  <svg xmlns=\"http://www.w3.org/2000/svg\" height=\"24px\"viewBox=\"0 0 24 24\"\n",
              "       width=\"24px\">\n",
              "    <path d=\"M0 0h24v24H0V0z\" fill=\"none\"/>\n",
              "    <path d=\"M18.56 5.44l.94 2.06.94-2.06 2.06-.94-2.06-.94-.94-2.06-.94 2.06-2.06.94zm-11 1L8.5 8.5l.94-2.06 2.06-.94-2.06-.94L8.5 2.5l-.94 2.06-2.06.94zm10 10l.94 2.06.94-2.06 2.06-.94-2.06-.94-.94-2.06-.94 2.06-2.06.94z\"/><path d=\"M17.41 7.96l-1.37-1.37c-.4-.4-.92-.59-1.43-.59-.52 0-1.04.2-1.43.59L10.3 9.45l-7.72 7.72c-.78.78-.78 2.05 0 2.83L4 21.41c.39.39.9.59 1.41.59.51 0 1.02-.2 1.41-.59l7.78-7.78 2.81-2.81c.8-.78.8-2.07 0-2.86zM5.41 20L4 18.59l7.72-7.72 1.47 1.35L5.41 20z\"/>\n",
              "  </svg>\n",
              "      </button>\n",
              "      \n",
              "  <style>\n",
              "    .colab-df-container {\n",
              "      display:flex;\n",
              "      flex-wrap:wrap;\n",
              "      gap: 12px;\n",
              "    }\n",
              "\n",
              "    .colab-df-convert {\n",
              "      background-color: #E8F0FE;\n",
              "      border: none;\n",
              "      border-radius: 50%;\n",
              "      cursor: pointer;\n",
              "      display: none;\n",
              "      fill: #1967D2;\n",
              "      height: 32px;\n",
              "      padding: 0 0 0 0;\n",
              "      width: 32px;\n",
              "    }\n",
              "\n",
              "    .colab-df-convert:hover {\n",
              "      background-color: #E2EBFA;\n",
              "      box-shadow: 0px 1px 2px rgba(60, 64, 67, 0.3), 0px 1px 3px 1px rgba(60, 64, 67, 0.15);\n",
              "      fill: #174EA6;\n",
              "    }\n",
              "\n",
              "    [theme=dark] .colab-df-convert {\n",
              "      background-color: #3B4455;\n",
              "      fill: #D2E3FC;\n",
              "    }\n",
              "\n",
              "    [theme=dark] .colab-df-convert:hover {\n",
              "      background-color: #434B5C;\n",
              "      box-shadow: 0px 1px 3px 1px rgba(0, 0, 0, 0.15);\n",
              "      filter: drop-shadow(0px 1px 2px rgba(0, 0, 0, 0.3));\n",
              "      fill: #FFFFFF;\n",
              "    }\n",
              "  </style>\n",
              "\n",
              "      <script>\n",
              "        const buttonEl =\n",
              "          document.querySelector('#df-0dcc597c-50bd-42a3-9341-ea176b90b2ba button.colab-df-convert');\n",
              "        buttonEl.style.display =\n",
              "          google.colab.kernel.accessAllowed ? 'block' : 'none';\n",
              "\n",
              "        async function convertToInteractive(key) {\n",
              "          const element = document.querySelector('#df-0dcc597c-50bd-42a3-9341-ea176b90b2ba');\n",
              "          const dataTable =\n",
              "            await google.colab.kernel.invokeFunction('convertToInteractive',\n",
              "                                                     [key], {});\n",
              "          if (!dataTable) return;\n",
              "\n",
              "          const docLinkHtml = 'Like what you see? Visit the ' +\n",
              "            '<a target=\"_blank\" href=https://colab.research.google.com/notebooks/data_table.ipynb>data table notebook</a>'\n",
              "            + ' to learn more about interactive tables.';\n",
              "          element.innerHTML = '';\n",
              "          dataTable['output_type'] = 'display_data';\n",
              "          await google.colab.output.renderOutput(dataTable, element);\n",
              "          const docLink = document.createElement('div');\n",
              "          docLink.innerHTML = docLinkHtml;\n",
              "          element.appendChild(docLink);\n",
              "        }\n",
              "      </script>\n",
              "    </div>\n",
              "  </div>\n",
              "  "
            ],
            "text/plain": [
              "      accomplish  algorithm  algorithms  application  approaches  \\\n",
              "Doc1           1          1           2            0           1   \n",
              "Doc2           0          0           0            1           0   \n",
              "Doc3           0          0           0            0           0   \n",
              "Doc4           0          0           0            0           1   \n",
              "Doc5           0          0           0            1           1   \n",
              "Doc6           0          0           0            1           0   \n",
              "\n",
              "      automatically  available  based  broad  build  ...  tasks  teach  \\\n",
              "Doc1              1          1      1      0      1  ...      1      1   \n",
              "Doc2              0          0      0      0      0  ...      0      0   \n",
              "Doc3              0          0      0      0      0  ...      2      0   \n",
              "Doc4              0          1      0      1      0  ...      0      0   \n",
              "Doc5              0          0      0      0      0  ...      0      0   \n",
              "Doc6              0          0      1      0      0  ...      0      0   \n",
              "\n",
              "      theory  traditionally  training  uncertainty  unsupervised  using  \\\n",
              "Doc1       0              0         1            0             0      0   \n",
              "Doc2       1              0         0            0             0      1   \n",
              "Doc3       0              0         0            0             0      0   \n",
              "Doc4       0              1         0            0             1      0   \n",
              "Doc5       0              0         0            0             0      0   \n",
              "Doc6       0              0         0            1             0      0   \n",
              "\n",
              "      variability  various  \n",
              "Doc1            0        1  \n",
              "Doc2            0        0  \n",
              "Doc3            0        0  \n",
              "Doc4            0        0  \n",
              "Doc5            0        0  \n",
              "Doc6            1        0  \n",
              "\n",
              "[6 rows x 84 columns]"
            ]
          },
          "metadata": {},
          "execution_count": 15
        }
      ]
    },
    {
      "cell_type": "code",
      "source": [
        "df_tfidfvect"
      ],
      "metadata": {
        "colab": {
          "base_uri": "https://localhost:8080/",
          "height": 331
        },
        "id": "B_5Y9aHIGzgM",
        "outputId": "f94f9125-ccac-470c-f8c7-ea6e3c4a4557"
      },
      "execution_count": null,
      "outputs": [
        {
          "output_type": "execute_result",
          "data": {
            "text/html": [
              "\n",
              "  <div id=\"df-a7c09d45-ebef-40a9-a40f-1921a5c385a7\">\n",
              "    <div class=\"colab-df-container\">\n",
              "      <div>\n",
              "<style scoped>\n",
              "    .dataframe tbody tr th:only-of-type {\n",
              "        vertical-align: middle;\n",
              "    }\n",
              "\n",
              "    .dataframe tbody tr th {\n",
              "        vertical-align: top;\n",
              "    }\n",
              "\n",
              "    .dataframe thead th {\n",
              "        text-align: right;\n",
              "    }\n",
              "</style>\n",
              "<table border=\"1\" class=\"dataframe\">\n",
              "  <thead>\n",
              "    <tr style=\"text-align: right;\">\n",
              "      <th></th>\n",
              "      <th>accomplish</th>\n",
              "      <th>algorithm</th>\n",
              "      <th>algorithms</th>\n",
              "      <th>application</th>\n",
              "      <th>approaches</th>\n",
              "      <th>automatically</th>\n",
              "      <th>available</th>\n",
              "      <th>based</th>\n",
              "      <th>broad</th>\n",
              "      <th>build</th>\n",
              "      <th>...</th>\n",
              "      <th>tasks</th>\n",
              "      <th>teach</th>\n",
              "      <th>theory</th>\n",
              "      <th>traditionally</th>\n",
              "      <th>training</th>\n",
              "      <th>uncertainty</th>\n",
              "      <th>unsupervised</th>\n",
              "      <th>using</th>\n",
              "      <th>variability</th>\n",
              "      <th>various</th>\n",
              "    </tr>\n",
              "  </thead>\n",
              "  <tbody>\n",
              "    <tr>\n",
              "      <th>Doc1</th>\n",
              "      <td>0.178721</td>\n",
              "      <td>0.178721</td>\n",
              "      <td>0.357443</td>\n",
              "      <td>0.000000</td>\n",
              "      <td>0.123731</td>\n",
              "      <td>0.178721</td>\n",
              "      <td>0.146554</td>\n",
              "      <td>0.146554</td>\n",
              "      <td>0.000000</td>\n",
              "      <td>0.178721</td>\n",
              "      <td>...</td>\n",
              "      <td>0.146554</td>\n",
              "      <td>0.178721</td>\n",
              "      <td>0.000000</td>\n",
              "      <td>0.000000</td>\n",
              "      <td>0.178721</td>\n",
              "      <td>0.000000</td>\n",
              "      <td>0.000000</td>\n",
              "      <td>0.000000</td>\n",
              "      <td>0.000000</td>\n",
              "      <td>0.178721</td>\n",
              "    </tr>\n",
              "    <tr>\n",
              "      <th>Doc2</th>\n",
              "      <td>0.000000</td>\n",
              "      <td>0.000000</td>\n",
              "      <td>0.000000</td>\n",
              "      <td>0.161382</td>\n",
              "      <td>0.000000</td>\n",
              "      <td>0.000000</td>\n",
              "      <td>0.000000</td>\n",
              "      <td>0.000000</td>\n",
              "      <td>0.000000</td>\n",
              "      <td>0.000000</td>\n",
              "      <td>...</td>\n",
              "      <td>0.000000</td>\n",
              "      <td>0.000000</td>\n",
              "      <td>0.233105</td>\n",
              "      <td>0.000000</td>\n",
              "      <td>0.000000</td>\n",
              "      <td>0.000000</td>\n",
              "      <td>0.000000</td>\n",
              "      <td>0.233105</td>\n",
              "      <td>0.000000</td>\n",
              "      <td>0.000000</td>\n",
              "    </tr>\n",
              "    <tr>\n",
              "      <th>Doc3</th>\n",
              "      <td>0.000000</td>\n",
              "      <td>0.000000</td>\n",
              "      <td>0.000000</td>\n",
              "      <td>0.000000</td>\n",
              "      <td>0.000000</td>\n",
              "      <td>0.000000</td>\n",
              "      <td>0.000000</td>\n",
              "      <td>0.000000</td>\n",
              "      <td>0.000000</td>\n",
              "      <td>0.000000</td>\n",
              "      <td>...</td>\n",
              "      <td>0.393183</td>\n",
              "      <td>0.000000</td>\n",
              "      <td>0.000000</td>\n",
              "      <td>0.000000</td>\n",
              "      <td>0.000000</td>\n",
              "      <td>0.000000</td>\n",
              "      <td>0.000000</td>\n",
              "      <td>0.000000</td>\n",
              "      <td>0.000000</td>\n",
              "      <td>0.000000</td>\n",
              "    </tr>\n",
              "    <tr>\n",
              "      <th>Doc4</th>\n",
              "      <td>0.000000</td>\n",
              "      <td>0.000000</td>\n",
              "      <td>0.000000</td>\n",
              "      <td>0.000000</td>\n",
              "      <td>0.188675</td>\n",
              "      <td>0.000000</td>\n",
              "      <td>0.223477</td>\n",
              "      <td>0.000000</td>\n",
              "      <td>0.272528</td>\n",
              "      <td>0.000000</td>\n",
              "      <td>...</td>\n",
              "      <td>0.000000</td>\n",
              "      <td>0.000000</td>\n",
              "      <td>0.000000</td>\n",
              "      <td>0.272528</td>\n",
              "      <td>0.000000</td>\n",
              "      <td>0.000000</td>\n",
              "      <td>0.272528</td>\n",
              "      <td>0.000000</td>\n",
              "      <td>0.000000</td>\n",
              "      <td>0.000000</td>\n",
              "    </tr>\n",
              "    <tr>\n",
              "      <th>Doc5</th>\n",
              "      <td>0.000000</td>\n",
              "      <td>0.000000</td>\n",
              "      <td>0.000000</td>\n",
              "      <td>0.169236</td>\n",
              "      <td>0.169236</td>\n",
              "      <td>0.000000</td>\n",
              "      <td>0.000000</td>\n",
              "      <td>0.000000</td>\n",
              "      <td>0.000000</td>\n",
              "      <td>0.000000</td>\n",
              "      <td>...</td>\n",
              "      <td>0.000000</td>\n",
              "      <td>0.000000</td>\n",
              "      <td>0.000000</td>\n",
              "      <td>0.000000</td>\n",
              "      <td>0.000000</td>\n",
              "      <td>0.000000</td>\n",
              "      <td>0.000000</td>\n",
              "      <td>0.000000</td>\n",
              "      <td>0.000000</td>\n",
              "      <td>0.000000</td>\n",
              "    </tr>\n",
              "    <tr>\n",
              "      <th>Doc6</th>\n",
              "      <td>0.000000</td>\n",
              "      <td>0.000000</td>\n",
              "      <td>0.000000</td>\n",
              "      <td>0.127351</td>\n",
              "      <td>0.000000</td>\n",
              "      <td>0.000000</td>\n",
              "      <td>0.000000</td>\n",
              "      <td>0.150842</td>\n",
              "      <td>0.000000</td>\n",
              "      <td>0.000000</td>\n",
              "      <td>...</td>\n",
              "      <td>0.000000</td>\n",
              "      <td>0.000000</td>\n",
              "      <td>0.000000</td>\n",
              "      <td>0.000000</td>\n",
              "      <td>0.000000</td>\n",
              "      <td>0.183951</td>\n",
              "      <td>0.000000</td>\n",
              "      <td>0.000000</td>\n",
              "      <td>0.183951</td>\n",
              "      <td>0.000000</td>\n",
              "    </tr>\n",
              "  </tbody>\n",
              "</table>\n",
              "<p>6 rows × 84 columns</p>\n",
              "</div>\n",
              "      <button class=\"colab-df-convert\" onclick=\"convertToInteractive('df-a7c09d45-ebef-40a9-a40f-1921a5c385a7')\"\n",
              "              title=\"Convert this dataframe to an interactive table.\"\n",
              "              style=\"display:none;\">\n",
              "        \n",
              "  <svg xmlns=\"http://www.w3.org/2000/svg\" height=\"24px\"viewBox=\"0 0 24 24\"\n",
              "       width=\"24px\">\n",
              "    <path d=\"M0 0h24v24H0V0z\" fill=\"none\"/>\n",
              "    <path d=\"M18.56 5.44l.94 2.06.94-2.06 2.06-.94-2.06-.94-.94-2.06-.94 2.06-2.06.94zm-11 1L8.5 8.5l.94-2.06 2.06-.94-2.06-.94L8.5 2.5l-.94 2.06-2.06.94zm10 10l.94 2.06.94-2.06 2.06-.94-2.06-.94-.94-2.06-.94 2.06-2.06.94z\"/><path d=\"M17.41 7.96l-1.37-1.37c-.4-.4-.92-.59-1.43-.59-.52 0-1.04.2-1.43.59L10.3 9.45l-7.72 7.72c-.78.78-.78 2.05 0 2.83L4 21.41c.39.39.9.59 1.41.59.51 0 1.02-.2 1.41-.59l7.78-7.78 2.81-2.81c.8-.78.8-2.07 0-2.86zM5.41 20L4 18.59l7.72-7.72 1.47 1.35L5.41 20z\"/>\n",
              "  </svg>\n",
              "      </button>\n",
              "      \n",
              "  <style>\n",
              "    .colab-df-container {\n",
              "      display:flex;\n",
              "      flex-wrap:wrap;\n",
              "      gap: 12px;\n",
              "    }\n",
              "\n",
              "    .colab-df-convert {\n",
              "      background-color: #E8F0FE;\n",
              "      border: none;\n",
              "      border-radius: 50%;\n",
              "      cursor: pointer;\n",
              "      display: none;\n",
              "      fill: #1967D2;\n",
              "      height: 32px;\n",
              "      padding: 0 0 0 0;\n",
              "      width: 32px;\n",
              "    }\n",
              "\n",
              "    .colab-df-convert:hover {\n",
              "      background-color: #E2EBFA;\n",
              "      box-shadow: 0px 1px 2px rgba(60, 64, 67, 0.3), 0px 1px 3px 1px rgba(60, 64, 67, 0.15);\n",
              "      fill: #174EA6;\n",
              "    }\n",
              "\n",
              "    [theme=dark] .colab-df-convert {\n",
              "      background-color: #3B4455;\n",
              "      fill: #D2E3FC;\n",
              "    }\n",
              "\n",
              "    [theme=dark] .colab-df-convert:hover {\n",
              "      background-color: #434B5C;\n",
              "      box-shadow: 0px 1px 3px 1px rgba(0, 0, 0, 0.15);\n",
              "      filter: drop-shadow(0px 1px 2px rgba(0, 0, 0, 0.3));\n",
              "      fill: #FFFFFF;\n",
              "    }\n",
              "  </style>\n",
              "\n",
              "      <script>\n",
              "        const buttonEl =\n",
              "          document.querySelector('#df-a7c09d45-ebef-40a9-a40f-1921a5c385a7 button.colab-df-convert');\n",
              "        buttonEl.style.display =\n",
              "          google.colab.kernel.accessAllowed ? 'block' : 'none';\n",
              "\n",
              "        async function convertToInteractive(key) {\n",
              "          const element = document.querySelector('#df-a7c09d45-ebef-40a9-a40f-1921a5c385a7');\n",
              "          const dataTable =\n",
              "            await google.colab.kernel.invokeFunction('convertToInteractive',\n",
              "                                                     [key], {});\n",
              "          if (!dataTable) return;\n",
              "\n",
              "          const docLinkHtml = 'Like what you see? Visit the ' +\n",
              "            '<a target=\"_blank\" href=https://colab.research.google.com/notebooks/data_table.ipynb>data table notebook</a>'\n",
              "            + ' to learn more about interactive tables.';\n",
              "          element.innerHTML = '';\n",
              "          dataTable['output_type'] = 'display_data';\n",
              "          await google.colab.output.renderOutput(dataTable, element);\n",
              "          const docLink = document.createElement('div');\n",
              "          docLink.innerHTML = docLinkHtml;\n",
              "          element.appendChild(docLink);\n",
              "        }\n",
              "      </script>\n",
              "    </div>\n",
              "  </div>\n",
              "  "
            ],
            "text/plain": [
              "      accomplish  algorithm  algorithms  application  approaches  \\\n",
              "Doc1    0.178721   0.178721    0.357443     0.000000    0.123731   \n",
              "Doc2    0.000000   0.000000    0.000000     0.161382    0.000000   \n",
              "Doc3    0.000000   0.000000    0.000000     0.000000    0.000000   \n",
              "Doc4    0.000000   0.000000    0.000000     0.000000    0.188675   \n",
              "Doc5    0.000000   0.000000    0.000000     0.169236    0.169236   \n",
              "Doc6    0.000000   0.000000    0.000000     0.127351    0.000000   \n",
              "\n",
              "      automatically  available     based     broad     build  ...     tasks  \\\n",
              "Doc1       0.178721   0.146554  0.146554  0.000000  0.178721  ...  0.146554   \n",
              "Doc2       0.000000   0.000000  0.000000  0.000000  0.000000  ...  0.000000   \n",
              "Doc3       0.000000   0.000000  0.000000  0.000000  0.000000  ...  0.393183   \n",
              "Doc4       0.000000   0.223477  0.000000  0.272528  0.000000  ...  0.000000   \n",
              "Doc5       0.000000   0.000000  0.000000  0.000000  0.000000  ...  0.000000   \n",
              "Doc6       0.000000   0.000000  0.150842  0.000000  0.000000  ...  0.000000   \n",
              "\n",
              "         teach    theory  traditionally  training  uncertainty  unsupervised  \\\n",
              "Doc1  0.178721  0.000000       0.000000  0.178721     0.000000      0.000000   \n",
              "Doc2  0.000000  0.233105       0.000000  0.000000     0.000000      0.000000   \n",
              "Doc3  0.000000  0.000000       0.000000  0.000000     0.000000      0.000000   \n",
              "Doc4  0.000000  0.000000       0.272528  0.000000     0.000000      0.272528   \n",
              "Doc5  0.000000  0.000000       0.000000  0.000000     0.000000      0.000000   \n",
              "Doc6  0.000000  0.000000       0.000000  0.000000     0.183951      0.000000   \n",
              "\n",
              "         using  variability   various  \n",
              "Doc1  0.000000     0.000000  0.178721  \n",
              "Doc2  0.233105     0.000000  0.000000  \n",
              "Doc3  0.000000     0.000000  0.000000  \n",
              "Doc4  0.000000     0.000000  0.000000  \n",
              "Doc5  0.000000     0.000000  0.000000  \n",
              "Doc6  0.000000     0.183951  0.000000  \n",
              "\n",
              "[6 rows x 84 columns]"
            ]
          },
          "metadata": {},
          "execution_count": 16
        }
      ]
    },
    {
      "cell_type": "code",
      "source": [
        "query = [\"software engineering\"]\n",
        "query_vec = tfidfvectorizer.transform(query)\n",
        "query_vec.todense()"
      ],
      "metadata": {
        "colab": {
          "base_uri": "https://localhost:8080/"
        },
        "id": "tok39Hk3G4ft",
        "outputId": "86521d3a-a0d5-43b1-e198-d26d8000b841"
      },
      "execution_count": null,
      "outputs": [
        {
          "output_type": "execute_result",
          "data": {
            "text/plain": [
              "matrix([[0.        , 0.        , 0.        , 0.        , 0.        ,\n",
              "         0.        , 0.        , 0.        , 0.        , 0.        ,\n",
              "         0.        , 0.        , 0.        , 0.        , 0.        ,\n",
              "         0.        , 0.        , 0.        , 0.        , 0.        ,\n",
              "         0.        , 0.        , 0.        , 0.        , 0.        ,\n",
              "         0.        , 0.        , 0.        , 0.        , 0.        ,\n",
              "         0.        , 0.        , 0.        , 0.        , 0.70710678,\n",
              "         0.        , 0.        , 0.        , 0.        , 0.        ,\n",
              "         0.        , 0.        , 0.        , 0.        , 0.        ,\n",
              "         0.        , 0.        , 0.        , 0.        , 0.        ,\n",
              "         0.        , 0.        , 0.        , 0.        , 0.        ,\n",
              "         0.        , 0.        , 0.        , 0.        , 0.        ,\n",
              "         0.        , 0.        , 0.        , 0.        , 0.        ,\n",
              "         0.        , 0.        , 0.        , 0.        , 0.70710678,\n",
              "         0.        , 0.        , 0.        , 0.        , 0.        ,\n",
              "         0.        , 0.        , 0.        , 0.        , 0.        ,\n",
              "         0.        , 0.        , 0.        , 0.        ]])"
            ]
          },
          "metadata": {},
          "execution_count": 18
        }
      ]
    },
    {
      "cell_type": "code",
      "source": [
        "results = cosine_similarity(tfidf_wm, query_vec)"
      ],
      "metadata": {
        "id": "W8BG6HFGOUEe"
      },
      "execution_count": null,
      "outputs": []
    },
    {
      "cell_type": "code",
      "source": [
        "res = np.argsort(results, axis=0)"
      ],
      "metadata": {
        "id": "1Z3BrWWpOoDF"
      },
      "execution_count": null,
      "outputs": []
    },
    {
      "cell_type": "code",
      "source": [
        "k=1\n",
        "for i in res[-1:-3:-1]:\n",
        "    print(\"result \", k, \"=============================\")\n",
        "    print(documents[i[0]])\n",
        "    print(\"=============================\")\n",
        "    k+=1"
      ],
      "metadata": {
        "colab": {
          "base_uri": "https://localhost:8080/"
        },
        "id": "FCp4dGRNOsar",
        "outputId": "17519d0b-b968-443e-def1-3975ac069bf2"
      },
      "execution_count": null,
      "outputs": [
        {
          "output_type": "stream",
          "name": "stdout",
          "text": [
            "result  1 =============================\n",
            "Software engineering is the systematic application of engineering approaches to the development of software.Software engineering is a computing discipline.\n",
            "=============================\n",
            "result  2 =============================\n",
            "A software engineer creates programs based on logic for the computer to execute. A software engineer has to be more concernedabout the correctness of the program in all the cases. Meanwhile, a data scientist is comfortable with uncertainty and variability.Developing a machine learning application is more iterative and explorative process than software engineering.\n",
            "=============================\n"
          ]
        }
      ]
    },
    {
      "cell_type": "code",
      "source": [
        ""
      ],
      "metadata": {
        "id": "BFcVpT-gPJ8t"
      },
      "execution_count": null,
      "outputs": []
    }
  ]
}