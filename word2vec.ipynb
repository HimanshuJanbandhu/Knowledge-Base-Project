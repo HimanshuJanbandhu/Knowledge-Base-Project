{
 "cells": [
  {
   "cell_type": "markdown",
   "metadata": {
    "id": "bNYdtDZmus5m"
   },
   "source": [
    "Word2Vec"
   ]
  },
  {
   "cell_type": "code",
   "execution_count": 55,
   "metadata": {
    "id": "ipVqNherbg5D"
   },
   "outputs": [],
   "source": [
    "import re\n",
    "import pandas as pd\n",
    "import numpy as np\n",
    "from sklearn.feature_extraction.text import TfidfVectorizer \n",
    "from sklearn.metrics.pairwise import cosine_similarity\n",
    "from sklearn.metrics.pairwise import euclidean_distances\n",
    "\n",
    "# Sample corpus\n",
    "documents = [\n",
    "'Owning a car is no longer a luxury, but it has become a necessity. Whether you drive to work or enjoy weekend drives with the family,\\\n",
    " having a car can simplify your travels and not to forget the ease and comfort it brings',\n",
    "'Purchasing their dream vehicle is easier than ever before for millions of Indians – thanks to the widespread availability of car loans in India.',\n",
    "'Car loans offer you the money for the vehicle upfront. You can then comfortably repay the borrowed amount via affordable monthly EMIs.',\n",
    "'An auto loan is a secured loan, as the car acts as the guarantee. There is no need to provide any additional asset or mortgage while procuring the loan.',\n",
    "'Before you apply for an auto loan, you need to compare the interest rates charged by lenders. Even slight variations in the interest rates can play a huge role in increasing or reducing your overall burden.',\n",
    "'To make it easy for you, here in this guide, we list out the interest rates charged by leading lenders for auto loans in India. You can use this handy table to quickly compare the interest rates before you make a decision.'\n",
    "]\n",
    "\n",
    "# Sample queries\n",
    "\n",
    "queries = [\n",
    "'what does car loan offer',\n",
    "'guide me about loans'\n",
    "]\n",
    "\n",
    "documents_df=pd.DataFrame(documents,columns=['documents'])\n",
    "queries_df = pd.DataFrame(queries,columns=['queries'])"
   ]
  },
  {
   "cell_type": "code",
   "execution_count": 56,
   "metadata": {
    "colab": {
     "base_uri": "https://localhost:8080/",
     "height": 237
    },
    "id": "DvdauKrWb1Xg",
    "outputId": "743e1cf6-f0aa-4b1d-89d8-6c4a35446c53"
   },
   "outputs": [
    {
     "data": {
      "text/html": [
       "<div>\n",
       "<style scoped>\n",
       "    .dataframe tbody tr th:only-of-type {\n",
       "        vertical-align: middle;\n",
       "    }\n",
       "\n",
       "    .dataframe tbody tr th {\n",
       "        vertical-align: top;\n",
       "    }\n",
       "\n",
       "    .dataframe thead th {\n",
       "        text-align: right;\n",
       "    }\n",
       "</style>\n",
       "<table border=\"1\" class=\"dataframe\">\n",
       "  <thead>\n",
       "    <tr style=\"text-align: right;\">\n",
       "      <th></th>\n",
       "      <th>documents</th>\n",
       "    </tr>\n",
       "  </thead>\n",
       "  <tbody>\n",
       "    <tr>\n",
       "      <th>0</th>\n",
       "      <td>Owning a car is no longer a luxury, but it has...</td>\n",
       "    </tr>\n",
       "    <tr>\n",
       "      <th>1</th>\n",
       "      <td>Purchasing their dream vehicle is easier than ...</td>\n",
       "    </tr>\n",
       "    <tr>\n",
       "      <th>2</th>\n",
       "      <td>Car loans offer you the money for the vehicle ...</td>\n",
       "    </tr>\n",
       "    <tr>\n",
       "      <th>3</th>\n",
       "      <td>An auto loan is a secured loan, as the car act...</td>\n",
       "    </tr>\n",
       "    <tr>\n",
       "      <th>4</th>\n",
       "      <td>Before you apply for an auto loan, you need to...</td>\n",
       "    </tr>\n",
       "    <tr>\n",
       "      <th>5</th>\n",
       "      <td>To make it easy for you, here in this guide, w...</td>\n",
       "    </tr>\n",
       "  </tbody>\n",
       "</table>\n",
       "</div>"
      ],
      "text/plain": [
       "                                           documents\n",
       "0  Owning a car is no longer a luxury, but it has...\n",
       "1  Purchasing their dream vehicle is easier than ...\n",
       "2  Car loans offer you the money for the vehicle ...\n",
       "3  An auto loan is a secured loan, as the car act...\n",
       "4  Before you apply for an auto loan, you need to...\n",
       "5  To make it easy for you, here in this guide, w..."
      ]
     },
     "execution_count": 56,
     "metadata": {},
     "output_type": "execute_result"
    }
   ],
   "source": [
    "documents_df"
   ]
  },
  {
   "cell_type": "code",
   "execution_count": 57,
   "metadata": {
    "colab": {
     "base_uri": "https://localhost:8080/",
     "height": 112
    },
    "id": "pEydwWk5b_JT",
    "outputId": "73c53a59-3b13-4dd9-c551-fe6aecc32a4a"
   },
   "outputs": [
    {
     "data": {
      "text/html": [
       "<div>\n",
       "<style scoped>\n",
       "    .dataframe tbody tr th:only-of-type {\n",
       "        vertical-align: middle;\n",
       "    }\n",
       "\n",
       "    .dataframe tbody tr th {\n",
       "        vertical-align: top;\n",
       "    }\n",
       "\n",
       "    .dataframe thead th {\n",
       "        text-align: right;\n",
       "    }\n",
       "</style>\n",
       "<table border=\"1\" class=\"dataframe\">\n",
       "  <thead>\n",
       "    <tr style=\"text-align: right;\">\n",
       "      <th></th>\n",
       "      <th>queries</th>\n",
       "    </tr>\n",
       "  </thead>\n",
       "  <tbody>\n",
       "    <tr>\n",
       "      <th>0</th>\n",
       "      <td>what does car loan offer</td>\n",
       "    </tr>\n",
       "    <tr>\n",
       "      <th>1</th>\n",
       "      <td>guide me about loans</td>\n",
       "    </tr>\n",
       "  </tbody>\n",
       "</table>\n",
       "</div>"
      ],
      "text/plain": [
       "                    queries\n",
       "0  what does car loan offer\n",
       "1      guide me about loans"
      ]
     },
     "execution_count": 57,
     "metadata": {},
     "output_type": "execute_result"
    }
   ],
   "source": [
    "queries_df"
   ]
  },
  {
   "cell_type": "code",
   "execution_count": 58,
   "metadata": {
    "colab": {
     "base_uri": "https://localhost:8080/"
    },
    "id": "cuLAATeseixy",
    "outputId": "8fc43dfa-62e8-4b10-fa35-81ffc028a1e2"
   },
   "outputs": [
    {
     "name": "stderr",
     "output_type": "stream",
     "text": [
      "[nltk_data] Downloading package stopwords to\n",
      "[nltk_data]     /Users/himanshujanbandhu/nltk_data...\n",
      "[nltk_data]   Package stopwords is already up-to-date!\n"
     ]
    }
   ],
   "source": [
    "import nltk\n",
    "nltk.download('stopwords')\n",
    "from nltk.corpus import stopwords"
   ]
  },
  {
   "cell_type": "code",
   "execution_count": 59,
   "metadata": {
    "id": "eCXnjgySe00D"
   },
   "outputs": [],
   "source": [
    "stop_words_l=stopwords.words('english')\n",
    "documents_df['documents_cleaned']=documents_df.documents.apply(lambda x: \" \".join(re.sub(r'[^a-zA-Z]',' ',w).lower() for w in x.split() if re.sub(r'[^a-zA-Z]',' ',w).lower() not in stop_words_l) )\n"
   ]
  },
  {
   "cell_type": "code",
   "execution_count": 60,
   "metadata": {
    "colab": {
     "base_uri": "https://localhost:8080/",
     "height": 237
    },
    "id": "39iFnQE6fIOj",
    "outputId": "f59192dd-c2a5-4d4b-852d-2c2ac0ac7889"
   },
   "outputs": [
    {
     "data": {
      "text/html": [
       "<div>\n",
       "<style scoped>\n",
       "    .dataframe tbody tr th:only-of-type {\n",
       "        vertical-align: middle;\n",
       "    }\n",
       "\n",
       "    .dataframe tbody tr th {\n",
       "        vertical-align: top;\n",
       "    }\n",
       "\n",
       "    .dataframe thead th {\n",
       "        text-align: right;\n",
       "    }\n",
       "</style>\n",
       "<table border=\"1\" class=\"dataframe\">\n",
       "  <thead>\n",
       "    <tr style=\"text-align: right;\">\n",
       "      <th></th>\n",
       "      <th>documents</th>\n",
       "      <th>documents_cleaned</th>\n",
       "    </tr>\n",
       "  </thead>\n",
       "  <tbody>\n",
       "    <tr>\n",
       "      <th>0</th>\n",
       "      <td>Owning a car is no longer a luxury, but it has...</td>\n",
       "      <td>owning car longer luxury  become necessity  wh...</td>\n",
       "    </tr>\n",
       "    <tr>\n",
       "      <th>1</th>\n",
       "      <td>Purchasing their dream vehicle is easier than ...</td>\n",
       "      <td>purchasing dream vehicle easier ever millions ...</td>\n",
       "    </tr>\n",
       "    <tr>\n",
       "      <th>2</th>\n",
       "      <td>Car loans offer you the money for the vehicle ...</td>\n",
       "      <td>car loans offer money vehicle upfront  comfort...</td>\n",
       "    </tr>\n",
       "    <tr>\n",
       "      <th>3</th>\n",
       "      <td>An auto loan is a secured loan, as the car act...</td>\n",
       "      <td>auto loan secured loan  car acts guarantee  ne...</td>\n",
       "    </tr>\n",
       "    <tr>\n",
       "      <th>4</th>\n",
       "      <td>Before you apply for an auto loan, you need to...</td>\n",
       "      <td>apply auto loan  need compare interest rates c...</td>\n",
       "    </tr>\n",
       "    <tr>\n",
       "      <th>5</th>\n",
       "      <td>To make it easy for you, here in this guide, w...</td>\n",
       "      <td>make easy you  guide  list interest rates char...</td>\n",
       "    </tr>\n",
       "  </tbody>\n",
       "</table>\n",
       "</div>"
      ],
      "text/plain": [
       "                                           documents  \\\n",
       "0  Owning a car is no longer a luxury, but it has...   \n",
       "1  Purchasing their dream vehicle is easier than ...   \n",
       "2  Car loans offer you the money for the vehicle ...   \n",
       "3  An auto loan is a secured loan, as the car act...   \n",
       "4  Before you apply for an auto loan, you need to...   \n",
       "5  To make it easy for you, here in this guide, w...   \n",
       "\n",
       "                                   documents_cleaned  \n",
       "0  owning car longer luxury  become necessity  wh...  \n",
       "1  purchasing dream vehicle easier ever millions ...  \n",
       "2  car loans offer money vehicle upfront  comfort...  \n",
       "3  auto loan secured loan  car acts guarantee  ne...  \n",
       "4  apply auto loan  need compare interest rates c...  \n",
       "5  make easy you  guide  list interest rates char...  "
      ]
     },
     "execution_count": 60,
     "metadata": {},
     "output_type": "execute_result"
    }
   ],
   "source": [
    "documents_df"
   ]
  },
  {
   "cell_type": "code",
   "execution_count": 61,
   "metadata": {
    "id": "movbDLVVfK2L"
   },
   "outputs": [],
   "source": [
    "queries_df['queries_cleaned']=queries_df.queries.apply(lambda x: \" \".join(re.sub(r'[^a-zA-Z]',' ',w).lower() for w in x.split() if re.sub(r'[^a-zA-Z]',' ',w).lower() not in stop_words_l) )\n"
   ]
  },
  {
   "cell_type": "code",
   "execution_count": 62,
   "metadata": {
    "colab": {
     "base_uri": "https://localhost:8080/",
     "height": 112
    },
    "id": "X6SM1stifer1",
    "outputId": "e9dbcd5c-bd93-491e-e334-f0ccb3d59680"
   },
   "outputs": [
    {
     "data": {
      "text/html": [
       "<div>\n",
       "<style scoped>\n",
       "    .dataframe tbody tr th:only-of-type {\n",
       "        vertical-align: middle;\n",
       "    }\n",
       "\n",
       "    .dataframe tbody tr th {\n",
       "        vertical-align: top;\n",
       "    }\n",
       "\n",
       "    .dataframe thead th {\n",
       "        text-align: right;\n",
       "    }\n",
       "</style>\n",
       "<table border=\"1\" class=\"dataframe\">\n",
       "  <thead>\n",
       "    <tr style=\"text-align: right;\">\n",
       "      <th></th>\n",
       "      <th>queries</th>\n",
       "      <th>queries_cleaned</th>\n",
       "    </tr>\n",
       "  </thead>\n",
       "  <tbody>\n",
       "    <tr>\n",
       "      <th>0</th>\n",
       "      <td>what does car loan offer</td>\n",
       "      <td>car loan offer</td>\n",
       "    </tr>\n",
       "    <tr>\n",
       "      <th>1</th>\n",
       "      <td>guide me about loans</td>\n",
       "      <td>guide loans</td>\n",
       "    </tr>\n",
       "  </tbody>\n",
       "</table>\n",
       "</div>"
      ],
      "text/plain": [
       "                    queries queries_cleaned\n",
       "0  what does car loan offer  car loan offer\n",
       "1      guide me about loans     guide loans"
      ]
     },
     "execution_count": 62,
     "metadata": {},
     "output_type": "execute_result"
    }
   ],
   "source": [
    "queries_df"
   ]
  },
  {
   "cell_type": "code",
   "execution_count": 63,
   "metadata": {
    "id": "bk2IfOYOiPA_"
   },
   "outputs": [],
   "source": [
    "# tokenize and pad every document to make them of the same size\n",
    "# from keras.preprocessing.text import Tokenizer\n",
    "# from keras.preprocessing.sequence import pad_sequences\n",
    "# tokenizer=Tokenizer()\n",
    "# tokenizer.fit_on_texts(documents_df.documents_cleaned)\n",
    "# tokenized_documents=tokenizer.texts_to_sequences(documents_df.documents_cleaned)\n",
    "# tokenized_paded_documents=pad_sequences(tokenized_documents,maxlen=64,padding='post')\n",
    "# vocab_size=len(tokenizer.word_index)+1\n",
    "# print (tokenized_documents[0])"
   ]
  },
  {
   "cell_type": "code",
   "execution_count": 64,
   "metadata": {
    "id": "Ud2bR_rGK3Bn"
   },
   "outputs": [],
   "source": [
    "# tokenizer.fit_on_texts(queries_df.queries_cleaned)\n",
    "# tokenized_queries = tokenizer.texts_to_sequences(queries_df.queries_cleaned)\n",
    "# tokenized_paded_queries=pad_sequences(tokenized_queries,maxlen=64,padding='post')\n",
    "# print (tokenized_queries[0])"
   ]
  },
  {
   "cell_type": "code",
   "execution_count": 65,
   "metadata": {
    "id": "u3AtxC1YMswg"
   },
   "outputs": [],
   "source": [
    "# from sklearn.metrics.pairwise import cosine_similarity"
   ]
  },
  {
   "cell_type": "code",
   "execution_count": 66,
   "metadata": {
    "id": "wRGf9Q_JkaEE"
   },
   "outputs": [],
   "source": [
    "# loading pre-trained embeddings, each word is represented as a 300 dimensional vector\n",
    "from gensim.models.word2vec import Word2Vec"
   ]
  },
  {
   "cell_type": "code",
   "execution_count": 67,
   "metadata": {
    "colab": {
     "base_uri": "https://localhost:8080/"
    },
    "id": "1E2L0wISuMqC",
    "outputId": "3d73e215-21af-4e1b-bc5b-dd04e74f09ad"
   },
   "outputs": [
    {
     "data": {
      "text/plain": [
       "[['owning',\n",
       "  'car',\n",
       "  'longer',\n",
       "  'luxury',\n",
       "  'become',\n",
       "  'necessity',\n",
       "  'whether',\n",
       "  'drive',\n",
       "  'work',\n",
       "  'enjoy',\n",
       "  'weekend',\n",
       "  'drives',\n",
       "  'family',\n",
       "  'car',\n",
       "  'simplify',\n",
       "  'travels',\n",
       "  'forget',\n",
       "  'ease',\n",
       "  'comfort',\n",
       "  'brings'],\n",
       " ['purchasing',\n",
       "  'dream',\n",
       "  'vehicle',\n",
       "  'easier',\n",
       "  'ever',\n",
       "  'millions',\n",
       "  'indians',\n",
       "  'thanks',\n",
       "  'widespread',\n",
       "  'availability',\n",
       "  'car',\n",
       "  'loans',\n",
       "  'india'],\n",
       " ['car',\n",
       "  'loans',\n",
       "  'offer',\n",
       "  'money',\n",
       "  'vehicle',\n",
       "  'upfront',\n",
       "  'comfortably',\n",
       "  'repay',\n",
       "  'borrowed',\n",
       "  'amount',\n",
       "  'via',\n",
       "  'affordable',\n",
       "  'monthly',\n",
       "  'emis'],\n",
       " ['auto',\n",
       "  'loan',\n",
       "  'secured',\n",
       "  'loan',\n",
       "  'car',\n",
       "  'acts',\n",
       "  'guarantee',\n",
       "  'need',\n",
       "  'provide',\n",
       "  'additional',\n",
       "  'asset',\n",
       "  'mortgage',\n",
       "  'procuring',\n",
       "  'loan'],\n",
       " ['apply',\n",
       "  'auto',\n",
       "  'loan',\n",
       "  'need',\n",
       "  'compare',\n",
       "  'interest',\n",
       "  'rates',\n",
       "  'charged',\n",
       "  'lenders',\n",
       "  'even',\n",
       "  'slight',\n",
       "  'variations',\n",
       "  'interest',\n",
       "  'rates',\n",
       "  'play',\n",
       "  'huge',\n",
       "  'role',\n",
       "  'increasing',\n",
       "  'reducing',\n",
       "  'overall',\n",
       "  'burden'],\n",
       " ['make',\n",
       "  'easy',\n",
       "  'you',\n",
       "  'guide',\n",
       "  'list',\n",
       "  'interest',\n",
       "  'rates',\n",
       "  'charged',\n",
       "  'leading',\n",
       "  'lenders',\n",
       "  'auto',\n",
       "  'loans',\n",
       "  'india',\n",
       "  'use',\n",
       "  'handy',\n",
       "  'table',\n",
       "  'quickly',\n",
       "  'compare',\n",
       "  'interest',\n",
       "  'rates',\n",
       "  'make',\n",
       "  'decision']]"
      ]
     },
     "execution_count": 67,
     "metadata": {},
     "output_type": "execute_result"
    }
   ],
   "source": [
    "lst = documents_df.documents_cleaned.tolist()\n",
    "corpus = [x.split() for x in lst]\n",
    "corpus"
   ]
  },
  {
   "cell_type": "code",
   "execution_count": 68,
   "metadata": {
    "id": "YOrrw0e1k7ls"
   },
   "outputs": [],
   "source": [
    "model = Word2Vec(corpus,min_count=1,size= 50,window =5, sg = 1)"
   ]
  },
  {
   "cell_type": "code",
   "execution_count": 69,
   "metadata": {
    "colab": {
     "base_uri": "https://localhost:8080/"
    },
    "id": "EnLEnOmxVyje",
    "outputId": "0f60b737-ca19-4fe1-8ce6-15d4d34b6ed8"
   },
   "outputs": [
    {
     "name": "stdout",
     "output_type": "stream",
     "text": [
      "Vocabulary size: 80\n"
     ]
    }
   ],
   "source": [
    "print('Vocabulary size:', len(model.wv.vocab))"
   ]
  },
  {
   "cell_type": "code",
   "execution_count": 70,
   "metadata": {
    "colab": {
     "base_uri": "https://localhost:8080/"
    },
    "id": "2tS1iVne8Se7",
    "outputId": "c12371e5-50cf-4401-dc61-26908f6cb094"
   },
   "outputs": [
    {
     "data": {
      "text/plain": [
       "50"
      ]
     },
     "execution_count": 70,
     "metadata": {},
     "output_type": "execute_result"
    }
   ],
   "source": [
    "model.vector_size"
   ]
  },
  {
   "cell_type": "code",
   "execution_count": 71,
   "metadata": {
    "id": "gB7WFuhe8mkP"
   },
   "outputs": [],
   "source": [
    "my_dict = dict({})\n",
    "for idx, key in enumerate(model.wv.vocab):\n",
    "    my_dict[key] = model.wv[key]"
   ]
  },
  {
   "cell_type": "code",
   "execution_count": 72,
   "metadata": {
    "colab": {
     "base_uri": "https://localhost:8080/"
    },
    "id": "T3WPgiQW9i1n",
    "outputId": "7dfcf42a-d388-4e83-f9af-e5bde458372e"
   },
   "outputs": [
    {
     "data": {
      "text/plain": [
       "array([ 0.00385123,  0.00920668, -0.00035922,  0.00590899,  0.00267128,\n",
       "       -0.00461593,  0.00807486,  0.00076367,  0.00459765,  0.00948801,\n",
       "        0.00484462, -0.00973404,  0.00692207,  0.00112204, -0.00928194,\n",
       "       -0.00788446,  0.00061087, -0.00862984,  0.00049357, -0.00087135,\n",
       "        0.00772012,  0.00149789,  0.0067379 , -0.00079674, -0.00198222,\n",
       "        0.00890125,  0.00621644, -0.00702879, -0.00236349, -0.00698148,\n",
       "        0.00117638, -0.00547134, -0.00346957,  0.00467568, -0.00866969,\n",
       "       -0.00470264,  0.00489274, -0.00421651, -0.00189275,  0.00563362,\n",
       "       -0.00127553, -0.00630939,  0.00674941, -0.00875689, -0.00832035,\n",
       "       -0.00430686, -0.0083062 , -0.00689117, -0.00141898,  0.00263147],\n",
       "      dtype=float32)"
      ]
     },
     "execution_count": 72,
     "metadata": {},
     "output_type": "execute_result"
    }
   ],
   "source": [
    "my_dict['acts']"
   ]
  },
  {
   "cell_type": "code",
   "execution_count": 73,
   "metadata": {
    "colab": {
     "base_uri": "https://localhost:8080/"
    },
    "id": "8f9LO8NI8DHU",
    "outputId": "6078e3fa-05cc-4936-aa44-cc971b892882"
   },
   "outputs": [
    {
     "data": {
      "text/plain": [
       "{'owning': <gensim.models.keyedvectors.Vocab at 0x7fc729bf8a90>,\n",
       " 'car': <gensim.models.keyedvectors.Vocab at 0x7fc729bf8ac0>,\n",
       " 'longer': <gensim.models.keyedvectors.Vocab at 0x7fc729bf8a60>,\n",
       " 'luxury': <gensim.models.keyedvectors.Vocab at 0x7fc729bf8cd0>,\n",
       " 'become': <gensim.models.keyedvectors.Vocab at 0x7fc6e80b8160>,\n",
       " 'necessity': <gensim.models.keyedvectors.Vocab at 0x7fc6e80b8be0>,\n",
       " 'whether': <gensim.models.keyedvectors.Vocab at 0x7fc6e80b8580>,\n",
       " 'drive': <gensim.models.keyedvectors.Vocab at 0x7fc6e80b89d0>,\n",
       " 'work': <gensim.models.keyedvectors.Vocab at 0x7fc6e80b83d0>,\n",
       " 'enjoy': <gensim.models.keyedvectors.Vocab at 0x7fc6e80b87f0>,\n",
       " 'weekend': <gensim.models.keyedvectors.Vocab at 0x7fc6e80b8af0>,\n",
       " 'drives': <gensim.models.keyedvectors.Vocab at 0x7fc6e80b8b50>,\n",
       " 'family': <gensim.models.keyedvectors.Vocab at 0x7fc6e80b8cd0>,\n",
       " 'simplify': <gensim.models.keyedvectors.Vocab at 0x7fc6e80b8f70>,\n",
       " 'travels': <gensim.models.keyedvectors.Vocab at 0x7fc6e80b88e0>,\n",
       " 'forget': <gensim.models.keyedvectors.Vocab at 0x7fc6e80b8400>,\n",
       " 'ease': <gensim.models.keyedvectors.Vocab at 0x7fc6e80b8f10>,\n",
       " 'comfort': <gensim.models.keyedvectors.Vocab at 0x7fc6e80b8a00>,\n",
       " 'brings': <gensim.models.keyedvectors.Vocab at 0x7fc6e80b8dc0>,\n",
       " 'purchasing': <gensim.models.keyedvectors.Vocab at 0x7fc6e80b8340>,\n",
       " 'dream': <gensim.models.keyedvectors.Vocab at 0x7fc6e80b81c0>,\n",
       " 'vehicle': <gensim.models.keyedvectors.Vocab at 0x7fc6e80b8520>,\n",
       " 'easier': <gensim.models.keyedvectors.Vocab at 0x7fc729bfb880>,\n",
       " 'ever': <gensim.models.keyedvectors.Vocab at 0x7fc729bfb310>,\n",
       " 'millions': <gensim.models.keyedvectors.Vocab at 0x7fc729bfb700>,\n",
       " 'indians': <gensim.models.keyedvectors.Vocab at 0x7fc729bfb7c0>,\n",
       " 'thanks': <gensim.models.keyedvectors.Vocab at 0x7fc729bfb160>,\n",
       " 'widespread': <gensim.models.keyedvectors.Vocab at 0x7fc729bfb3d0>,\n",
       " 'availability': <gensim.models.keyedvectors.Vocab at 0x7fc729bfb7f0>,\n",
       " 'loans': <gensim.models.keyedvectors.Vocab at 0x7fc729bfbbb0>,\n",
       " 'india': <gensim.models.keyedvectors.Vocab at 0x7fc729bfbac0>,\n",
       " 'offer': <gensim.models.keyedvectors.Vocab at 0x7fc729bfbee0>,\n",
       " 'money': <gensim.models.keyedvectors.Vocab at 0x7fc729bfb970>,\n",
       " 'upfront': <gensim.models.keyedvectors.Vocab at 0x7fc729bfb940>,\n",
       " 'comfortably': <gensim.models.keyedvectors.Vocab at 0x7fc729bfb8e0>,\n",
       " 'repay': <gensim.models.keyedvectors.Vocab at 0x7fc729bfb790>,\n",
       " 'borrowed': <gensim.models.keyedvectors.Vocab at 0x7fc729bfb850>,\n",
       " 'amount': <gensim.models.keyedvectors.Vocab at 0x7fc729bfb9d0>,\n",
       " 'via': <gensim.models.keyedvectors.Vocab at 0x7fc729bfb130>,\n",
       " 'affordable': <gensim.models.keyedvectors.Vocab at 0x7fc729bfb550>,\n",
       " 'monthly': <gensim.models.keyedvectors.Vocab at 0x7fc729bfb460>,\n",
       " 'emis': <gensim.models.keyedvectors.Vocab at 0x7fc729bfb5e0>,\n",
       " 'auto': <gensim.models.keyedvectors.Vocab at 0x7fc729bfba60>,\n",
       " 'loan': <gensim.models.keyedvectors.Vocab at 0x7fc729bfb070>,\n",
       " 'secured': <gensim.models.keyedvectors.Vocab at 0x7fc729bfb220>,\n",
       " 'acts': <gensim.models.keyedvectors.Vocab at 0x7fc729bfb2b0>,\n",
       " 'guarantee': <gensim.models.keyedvectors.Vocab at 0x7fc729bfb370>,\n",
       " 'need': <gensim.models.keyedvectors.Vocab at 0x7fc729bfb580>,\n",
       " 'provide': <gensim.models.keyedvectors.Vocab at 0x7fc729bfb640>,\n",
       " 'additional': <gensim.models.keyedvectors.Vocab at 0x7fc729bfb730>,\n",
       " 'asset': <gensim.models.keyedvectors.Vocab at 0x7fc729bfbb20>,\n",
       " 'mortgage': <gensim.models.keyedvectors.Vocab at 0x7fc729c03130>,\n",
       " 'procuring': <gensim.models.keyedvectors.Vocab at 0x7fc729c03940>,\n",
       " 'apply': <gensim.models.keyedvectors.Vocab at 0x7fc729c03d60>,\n",
       " 'compare': <gensim.models.keyedvectors.Vocab at 0x7fc729c03280>,\n",
       " 'interest': <gensim.models.keyedvectors.Vocab at 0x7fc729c03af0>,\n",
       " 'rates': <gensim.models.keyedvectors.Vocab at 0x7fc729c03ca0>,\n",
       " 'charged': <gensim.models.keyedvectors.Vocab at 0x7fc729c037f0>,\n",
       " 'lenders': <gensim.models.keyedvectors.Vocab at 0x7fc729c03310>,\n",
       " 'even': <gensim.models.keyedvectors.Vocab at 0x7fc729c03be0>,\n",
       " 'slight': <gensim.models.keyedvectors.Vocab at 0x7fc729c03970>,\n",
       " 'variations': <gensim.models.keyedvectors.Vocab at 0x7fc7486d0a90>,\n",
       " 'play': <gensim.models.keyedvectors.Vocab at 0x7fc7486d08e0>,\n",
       " 'huge': <gensim.models.keyedvectors.Vocab at 0x7fc7486d0b80>,\n",
       " 'role': <gensim.models.keyedvectors.Vocab at 0x7fc7486d0cd0>,\n",
       " 'increasing': <gensim.models.keyedvectors.Vocab at 0x7fc7486d0d60>,\n",
       " 'reducing': <gensim.models.keyedvectors.Vocab at 0x7fc7486d0bb0>,\n",
       " 'overall': <gensim.models.keyedvectors.Vocab at 0x7fc7486d0b50>,\n",
       " 'burden': <gensim.models.keyedvectors.Vocab at 0x7fc7486d0ee0>,\n",
       " 'make': <gensim.models.keyedvectors.Vocab at 0x7fc7486d0d90>,\n",
       " 'easy': <gensim.models.keyedvectors.Vocab at 0x7fc7486d0af0>,\n",
       " 'you': <gensim.models.keyedvectors.Vocab at 0x7fc7486d0e80>,\n",
       " 'guide': <gensim.models.keyedvectors.Vocab at 0x7fc7486d0be0>,\n",
       " 'list': <gensim.models.keyedvectors.Vocab at 0x7fc7486d0c40>,\n",
       " 'leading': <gensim.models.keyedvectors.Vocab at 0x7fc7486d0c70>,\n",
       " 'use': <gensim.models.keyedvectors.Vocab at 0x7fc7486d0fd0>,\n",
       " 'handy': <gensim.models.keyedvectors.Vocab at 0x7fc7486d0910>,\n",
       " 'table': <gensim.models.keyedvectors.Vocab at 0x7fc7486d0c10>,\n",
       " 'quickly': <gensim.models.keyedvectors.Vocab at 0x7fc7486d0e20>,\n",
       " 'decision': <gensim.models.keyedvectors.Vocab at 0x7fc7486d0f40>}"
      ]
     },
     "execution_count": 73,
     "metadata": {},
     "output_type": "execute_result"
    }
   ],
   "source": [
    "model.wv.vocab"
   ]
  },
  {
   "cell_type": "code",
   "execution_count": 74,
   "metadata": {
    "id": "NIha29ByWXvB"
   },
   "outputs": [],
   "source": [
    "# Function returning vector reperesentation of a query\n",
    "# def get_embedding_w2v(query_tokens):\n",
    "#     embeddings = []\n",
    "#     if len(query_tokens)<1:\n",
    "#         return np.zeros(300)\n",
    "#     else:\n",
    "#         for tok in query_tokens:\n",
    "#             if tok in model.wv.vocab:\n",
    "#                 embeddings.append(model.wv.word_vec(tok))\n",
    "#             else:\n",
    "#                 embeddings.append(np.random.rand(300))\n",
    "#         # mean the vectors of individual words to get the vector of the document\n",
    "#         return np.mean(embeddings, axis=0)\n",
    "\n",
    "# # Getting Word2Vec Vectors for Queries\n",
    "# queries_df['vector']=queries_df['queries_cleaned'].apply(lambda x :get_embedding_w2v(x.split()))"
   ]
  },
  {
   "cell_type": "code",
   "execution_count": 75,
   "metadata": {
    "id": "IB5hCvrnXBdL"
   },
   "outputs": [],
   "source": [
    "# from sklearn.metrics.pairwise import cosine_similarity\n",
    "\n",
    "# # Function for calculating average precision for a query\n",
    "# def average_precision(qid,qvector):\n",
    "  \n",
    "#   # Getting the ground truth and document vectors\n",
    "#   qresult=testing_result.loc[testing_result['qid']==qid,['docid','rel']]\n",
    "#   qcorpus=testing_corpus.loc[testing_corpus['docid'].isin(qresult['docid']),['docid','vector']]\n",
    "#   qresult=pd.merge(qresult,qcorpus,on='docid')\n",
    "  \n",
    "#   # Ranking documents for the query\n",
    "#   qresult['similarity']=qresult['vector'].apply(lambda x: cosine_similarity(np.array(qvector).reshape(1, -1),np.array(x).reshape(1, -1)).item())\n",
    "#   qresult.sort_values(by='similarity',ascending=False,inplace=True)\n",
    "\n",
    "#   # Taking Top 10 documents for the evaluation\n",
    "#   ranking=qresult.head(10)['rel'].values\n",
    "  \n",
    "#   # Calculating precision\n",
    "#   precision=[]\n",
    "#   for i in range(1,11):\n",
    "#     if ranking[i-1]:\n",
    "#       precision.append(np.sum(ranking[:i])/i)\n",
    "  \n",
    "#   # If no relevant document in list then return 0\n",
    "#   if precision==[]:\n",
    "#     return 0\n",
    "\n",
    "#   return np.mean(precision)\n",
    "\n",
    "# # Calculating average precision for all queries in the test set\n",
    "# testing_queries['AP']=testing_queries.apply(lambda x: average_precision(x['qid'],x['vector']),axis=1)\n",
    "\n",
    "# # Finding Mean Average Precision\n",
    "# print('Mean Average Precision=>',testing_queries['AP'].mean())\n"
   ]
  },
  {
   "cell_type": "code",
   "execution_count": 76,
   "metadata": {
    "id": "h8BF-UNJ3G98"
   },
   "outputs": [],
   "source": [
    "search = queries_df['queries_cleaned'][0].split()"
   ]
  },
  {
   "cell_type": "code",
   "execution_count": 77,
   "metadata": {
    "colab": {
     "base_uri": "https://localhost:8080/"
    },
    "id": "CBv7lJMiHDXO",
    "outputId": "f2d26235-77b6-4200-e47b-4569a61ed35a"
   },
   "outputs": [
    {
     "data": {
      "text/plain": [
       "['car', 'loan', 'offer']"
      ]
     },
     "execution_count": 77,
     "metadata": {},
     "output_type": "execute_result"
    }
   ],
   "source": [
    "search"
   ]
  },
  {
   "cell_type": "code",
   "execution_count": 78,
   "metadata": {
    "colab": {
     "base_uri": "https://localhost:8080/"
    },
    "id": "gtR2lfjGBGro",
    "outputId": "19aa523a-9031-4900-f83d-57e13824358c"
   },
   "outputs": [
    {
     "data": {
      "text/plain": [
       "[('ease', 0.33007386326789856),\n",
       " ('acts', 0.2779266834259033),\n",
       " ('drives', 0.27062657475471497),\n",
       " ('millions', 0.26138967275619507)]"
      ]
     },
     "execution_count": 78,
     "metadata": {},
     "output_type": "execute_result"
    }
   ],
   "source": [
    "res = model.wv.most_similar(positive=search,topn=4)\n",
    "res"
   ]
  },
  {
   "cell_type": "code",
   "execution_count": null,
   "metadata": {
    "id": "Gt7aFLJy96VX"
   },
   "outputs": [],
   "source": []
  },
  {
   "cell_type": "code",
   "execution_count": null,
   "metadata": {
    "id": "NO7aJGGgF4nk"
   },
   "outputs": [],
   "source": []
  },
  {
   "cell_type": "code",
   "execution_count": null,
   "metadata": {
    "id": "f6TH-2-1F4jy"
   },
   "outputs": [],
   "source": []
  },
  {
   "cell_type": "code",
   "execution_count": null,
   "metadata": {
    "id": "0cchqEGBF4g8"
   },
   "outputs": [],
   "source": []
  },
  {
   "cell_type": "code",
   "execution_count": null,
   "metadata": {
    "id": "D7AuJy-WF4da"
   },
   "outputs": [],
   "source": []
  },
  {
   "cell_type": "code",
   "execution_count": null,
   "metadata": {
    "id": "oD_b4NYidClI"
   },
   "outputs": [],
   "source": []
  },
  {
   "cell_type": "markdown",
   "metadata": {
    "id": "ac0Fm-RDuwbi"
   },
   "source": [
    "Doc2Vec"
   ]
  },
  {
   "cell_type": "code",
   "execution_count": 79,
   "metadata": {
    "id": "Giex7yvBdGMd"
   },
   "outputs": [],
   "source": [
    "import gensim\n",
    "from gensim.models.doc2vec import Doc2Vec, TaggedDocument\n",
    "from nltk.tokenize import word_tokenize\n",
    "from gensim.models.doc2vec import Doc2Vec"
   ]
  },
  {
   "cell_type": "code",
   "execution_count": 106,
   "metadata": {
    "id": "Y7hGuTtPnQ56"
   },
   "outputs": [],
   "source": [
    "data = [\"The process of searching for a job can be very stressful, but it doesn’t have to be. Start with a\\\n",
    "        well-written resume that has appropriate keywords for your occupation. Next, conduct a targeted job search\\\n",
    "        for positions that meet your needs.\",\n",
    "        \"Gardening in mixed beds is a great way to get the most productivity from a small space. Some investment\\\n",
    "        is required, to purchase materials for the beds themselves, as well as soil and compost. The\\\n",
    "        investment will likely pay-off in terms of increased productivity.\",\n",
    "        \"Looking for a job can be very stressful, but it doesn’t have to be. Begin by writing a good resume with\\\n",
    "        appropriate keywords for your occupation. Second, target your job search for positions that match your\\\n",
    "        needs.\"]"
   ]
  },
  {
   "cell_type": "code",
   "execution_count": 107,
   "metadata": {
    "id": "sbUpsem2n3TB"
   },
   "outputs": [],
   "source": [
    "# import nltk\n",
    "# nltk.download('all')"
   ]
  },
  {
   "cell_type": "code",
   "execution_count": 108,
   "metadata": {
    "id": "lq4YmLT6nWor"
   },
   "outputs": [],
   "source": [
    "tagged_data = [TaggedDocument(words=word_tokenize(_d.lower()), tags=[str(i)]) for i, _d in enumerate(data)]"
   ]
  },
  {
   "cell_type": "code",
   "execution_count": 109,
   "metadata": {
    "colab": {
     "base_uri": "https://localhost:8080/"
    },
    "id": "DNA3kEbOnp3j",
    "outputId": "c5bfede8-a77d-439d-a4be-5d80ea43f511"
   },
   "outputs": [
    {
     "name": "stdout",
     "output_type": "stream",
     "text": [
      "[TaggedDocument(words=['the', 'process', 'of', 'searching', 'for', 'a', 'job', 'can', 'be', 'very', 'stressful', ',', 'but', 'it', 'doesn', '’', 't', 'have', 'to', 'be', '.', 'start', 'with', 'a', 'well-written', 'resume', 'that', 'has', 'appropriate', 'keywords', 'for', 'your', 'occupation', '.', 'next', ',', 'conduct', 'a', 'targeted', 'job', 'search', 'for', 'positions', 'that', 'meet', 'your', 'needs', '.'], tags=['0']), TaggedDocument(words=['gardening', 'in', 'mixed', 'beds', 'is', 'a', 'great', 'way', 'to', 'get', 'the', 'most', 'productivity', 'from', 'a', 'small', 'space', '.', 'some', 'investment', 'is', 'required', ',', 'to', 'purchase', 'materials', 'for', 'the', 'beds', 'themselves', ',', 'as', 'well', 'as', 'soil', 'and', 'compost', '.', 'the', 'investment', 'will', 'likely', 'pay-off', 'in', 'terms', 'of', 'increased', 'productivity', '.'], tags=['1']), TaggedDocument(words=['looking', 'for', 'a', 'job', 'can', 'be', 'very', 'stressful', ',', 'but', 'it', 'doesn', '’', 't', 'have', 'to', 'be', '.', 'begin', 'by', 'writing', 'a', 'good', 'resume', 'with', 'appropriate', 'keywords', 'for', 'your', 'occupation', '.', 'second', ',', 'target', 'your', 'job', 'search', 'for', 'positions', 'that', 'match', 'your', 'needs', '.'], tags=['2'])]\n"
     ]
    }
   ],
   "source": [
    "print (tagged_data)"
   ]
  },
  {
   "cell_type": "code",
   "execution_count": 110,
   "metadata": {
    "id": "nt3o04ufoMS5"
   },
   "outputs": [],
   "source": [
    "model = gensim.models.doc2vec.Doc2Vec(vector_size=50, min_count=1)"
   ]
  },
  {
   "cell_type": "code",
   "execution_count": 111,
   "metadata": {
    "id": "ni2OsVTIoZKU"
   },
   "outputs": [],
   "source": [
    "model.build_vocab(tagged_data)"
   ]
  },
  {
   "cell_type": "code",
   "execution_count": 112,
   "metadata": {
    "colab": {
     "base_uri": "https://localhost:8080/"
    },
    "id": "as1CBRKyog_F",
    "outputId": "83ecada4-99a3-4948-b685-696a8fca7d80"
   },
   "outputs": [
    {
     "data": {
      "text/plain": [
       "3"
      ]
     },
     "execution_count": 112,
     "metadata": {},
     "output_type": "execute_result"
    }
   ],
   "source": [
    "model.corpus_count"
   ]
  },
  {
   "cell_type": "code",
   "execution_count": 113,
   "metadata": {
    "id": "93I3goScob9s"
   },
   "outputs": [],
   "source": [
    "model.train(tagged_data, total_examples=model.corpus_count,epochs=100)"
   ]
  },
  {
   "cell_type": "code",
   "execution_count": 114,
   "metadata": {
    "id": "VJs_HNE8onQS"
   },
   "outputs": [],
   "source": [
    "query = 'process of searching a job'.lower()"
   ]
  },
  {
   "cell_type": "code",
   "execution_count": 115,
   "metadata": {
    "id": "cG-EuEVKpAk7"
   },
   "outputs": [],
   "source": [
    "#query_tagged_data = [TaggedDocument(words=word_tokenize(_d.lower()), tags=[str(i)]) for i, _d in enumerate(query)]"
   ]
  },
  {
   "cell_type": "code",
   "execution_count": 90,
   "metadata": {
    "id": "b2Cyc7EuzdOc"
   },
   "outputs": [],
   "source": [
    "query_tokenized = word_tokenize(query)"
   ]
  },
  {
   "cell_type": "code",
   "execution_count": 91,
   "metadata": {
    "colab": {
     "base_uri": "https://localhost:8080/"
    },
    "id": "8WJZ_nNLzxOS",
    "outputId": "b26a9a7b-99c6-410d-9f05-6f948bd32a72"
   },
   "outputs": [
    {
     "name": "stdout",
     "output_type": "stream",
     "text": [
      "process of searching a job\n",
      "['process', 'of', 'searching', 'a', 'job']\n"
     ]
    }
   ],
   "source": [
    "print(query)\n",
    "print(query_tokenized)"
   ]
  },
  {
   "cell_type": "code",
   "execution_count": 116,
   "metadata": {
    "id": "jMFmGwplvGzI"
   },
   "outputs": [],
   "source": [
    "#print(query_tagged_data)\n",
    "query_vec = model.infer_vector(query_tokenized)"
   ]
  },
  {
   "cell_type": "code",
   "execution_count": 117,
   "metadata": {
    "colab": {
     "base_uri": "https://localhost:8080/"
    },
    "id": "5vxEgo7m0DSo",
    "outputId": "61f89bcf-bec5-4785-f6ab-0747fc0be77d"
   },
   "outputs": [
    {
     "data": {
      "text/plain": [
       "50"
      ]
     },
     "execution_count": 117,
     "metadata": {},
     "output_type": "execute_result"
    }
   ],
   "source": [
    "len(query_vec)"
   ]
  },
  {
   "cell_type": "code",
   "execution_count": 118,
   "metadata": {
    "id": "BYwosXsdw3Rg"
   },
   "outputs": [],
   "source": [
    "from sklearn.metrics.pairwise import cosine_similarity"
   ]
  },
  {
   "cell_type": "code",
   "execution_count": 119,
   "metadata": {
    "colab": {
     "base_uri": "https://localhost:8080/"
    },
    "id": "-RTEyyS8xjXz",
    "outputId": "c9bbf9f4-85e5-48b0-b245-a57725538bb8"
   },
   "outputs": [
    {
     "data": {
      "text/plain": [
       "array([-0.349812  , -0.19321649,  0.75485283,  0.287241  ,  0.1026722 ,\n",
       "        0.02998208,  0.23706621,  0.04920838, -0.41096556, -0.5342553 ,\n",
       "       -0.07923943,  0.20176034,  0.38084936, -0.3624449 ,  0.11026239,\n",
       "       -0.02323695,  0.2919407 , -0.08807204, -0.45580143, -0.19195323,\n",
       "        0.35513693, -0.00448021,  0.0096084 , -0.0125532 , -0.04710443,\n",
       "       -0.11648001,  0.18020472, -0.27589712,  0.4860394 , -0.68532294,\n",
       "        0.39384538,  0.24650384,  0.71603054, -0.587305  , -0.05274221,\n",
       "       -0.50906616,  0.01653084,  0.17423831, -0.27608195, -0.05666911,\n",
       "       -0.46533734,  0.05290885,  0.41059574,  0.2032333 ,  0.50715727,\n",
       "        0.00533207,  0.30471328, -0.16774367,  0.07639784,  0.12832478],\n",
       "      dtype=float32)"
      ]
     },
     "execution_count": 119,
     "metadata": {},
     "output_type": "execute_result"
    }
   ],
   "source": [
    "model.docvecs[1]"
   ]
  },
  {
   "cell_type": "code",
   "execution_count": 120,
   "metadata": {
    "colab": {
     "base_uri": "https://localhost:8080/"
    },
    "id": "UZ7EcgaK3JEi",
    "outputId": "5c9761d0-fc60-4aa0-89ee-9826d67b11ec"
   },
   "outputs": [
    {
     "data": {
      "text/plain": [
       "array([-1.66936055e-01, -8.42429027e-02,  3.48357022e-01,  1.42835751e-01,\n",
       "        3.72074246e-02,  1.22742383e-02,  9.50397924e-02,  2.94510126e-02,\n",
       "       -1.82758465e-01, -2.36456856e-01, -4.27522250e-02,  1.01009697e-01,\n",
       "        1.72342464e-01, -1.71825230e-01,  5.14724962e-02, -1.22073432e-02,\n",
       "        1.31342098e-01, -4.72277775e-02, -2.01278940e-01, -8.48445594e-02,\n",
       "        1.71674162e-01, -8.41954537e-03,  2.12655155e-04,  5.59032895e-03,\n",
       "       -2.29960699e-02, -4.86994237e-02,  7.20302761e-02, -1.28505260e-01,\n",
       "        2.21231341e-01, -3.17818075e-01,  1.90943480e-01,  1.11968465e-01,\n",
       "        3.19611698e-01, -2.80475795e-01, -2.35656165e-02, -2.32289359e-01,\n",
       "        8.23969673e-03,  8.36651400e-02, -1.22789629e-01, -1.94343757e-02,\n",
       "       -2.19380513e-01,  2.71922182e-02,  1.90256372e-01,  8.24016556e-02,\n",
       "        2.29763851e-01,  4.40729968e-03,  1.45249188e-01, -7.85977170e-02,\n",
       "        3.41023207e-02,  6.12180196e-02], dtype=float32)"
      ]
     },
     "execution_count": 120,
     "metadata": {},
     "output_type": "execute_result"
    }
   ],
   "source": [
    "query_vec"
   ]
  },
  {
   "cell_type": "code",
   "execution_count": 121,
   "metadata": {
    "colab": {
     "base_uri": "https://localhost:8080/"
    },
    "id": "yotUZMW1_7H_",
    "outputId": "b305928a-e498-4cc3-9c09-16c53a906f99"
   },
   "outputs": [
    {
     "data": {
      "text/plain": [
       "array([-0.27264896, -0.12852068,  0.555219  ,  0.22509257,  0.08267272,\n",
       "        0.00754713,  0.16109484,  0.04004182, -0.3071199 , -0.3912739 ,\n",
       "       -0.06857116,  0.15476093,  0.278479  , -0.28543296,  0.07762524,\n",
       "       -0.02681672,  0.21906453, -0.07512114, -0.3350457 , -0.12997364,\n",
       "        0.2666728 ,  0.00510854,  0.01602956,  0.00646436, -0.03726865,\n",
       "       -0.08447666,  0.12572095, -0.2094025 ,  0.371879  , -0.5131045 ,\n",
       "        0.3048104 ,  0.1911615 ,  0.53533506, -0.4495811 , -0.02740825,\n",
       "       -0.36685982,  0.01721055,  0.14021617, -0.21501447, -0.04350779,\n",
       "       -0.3409291 ,  0.05989716,  0.31831512,  0.1502098 ,  0.37299162,\n",
       "        0.00936915,  0.2242387 , -0.14000219,  0.05430428,  0.10793807],\n",
       "      dtype=float32)"
      ]
     },
     "execution_count": 121,
     "metadata": {},
     "output_type": "execute_result"
    }
   ],
   "source": [
    "model.docvecs[0]"
   ]
  },
  {
   "cell_type": "code",
   "execution_count": 122,
   "metadata": {
    "id": "L2FIqnu5_xGh"
   },
   "outputs": [],
   "source": [
    "import numpy as np"
   ]
  },
  {
   "cell_type": "code",
   "execution_count": 123,
   "metadata": {
    "id": "L26hW8n9BrY0"
   },
   "outputs": [],
   "source": [
    "data_array = np.array([model.docvecs[0],model.docvecs[1],model.docvecs[2]])"
   ]
  },
  {
   "cell_type": "code",
   "execution_count": 124,
   "metadata": {
    "id": "oekRUFr1B7lM"
   },
   "outputs": [],
   "source": [
    "query_v = query_vec.reshape(1,50)"
   ]
  },
  {
   "cell_type": "code",
   "execution_count": 125,
   "metadata": {
    "colab": {
     "base_uri": "https://localhost:8080/"
    },
    "id": "WZg3wD84C_jE",
    "outputId": "ed5bf7f7-6992-4c31-9cc9-6350b01f8a29"
   },
   "outputs": [
    {
     "data": {
      "text/plain": [
       "(3, 50)"
      ]
     },
     "execution_count": 125,
     "metadata": {},
     "output_type": "execute_result"
    }
   ],
   "source": [
    "data_array.shape"
   ]
  },
  {
   "cell_type": "code",
   "execution_count": 128,
   "metadata": {
    "id": "XJ4wNNDExaRp"
   },
   "outputs": [
    {
     "name": "stdout",
     "output_type": "stream",
     "text": [
      "[[0.9991844 ]\n",
      " [0.99913013]\n",
      " [0.9992902 ]]\n"
     ]
    }
   ],
   "source": [
    "results = cosine_similarity(data_array, query_v)\n",
    "print(results)"
   ]
  },
  {
   "cell_type": "code",
   "execution_count": 129,
   "metadata": {
    "id": "Ynfi7kOO3d6r"
   },
   "outputs": [],
   "source": [
    "res = np.argsort(results, axis=0)"
   ]
  },
  {
   "cell_type": "code",
   "execution_count": 130,
   "metadata": {
    "colab": {
     "base_uri": "https://localhost:8080/"
    },
    "id": "KfMD_lPf4Aky",
    "outputId": "905bd69d-8019-47db-9f25-f178caec46fd"
   },
   "outputs": [
    {
     "data": {
      "text/plain": [
       "array([[1],\n",
       "       [0],\n",
       "       [2]])"
      ]
     },
     "execution_count": 130,
     "metadata": {},
     "output_type": "execute_result"
    }
   ],
   "source": [
    "res"
   ]
  },
  {
   "cell_type": "code",
   "execution_count": 131,
   "metadata": {
    "colab": {
     "base_uri": "https://localhost:8080/"
    },
    "id": "Z_sSv3vp32-T",
    "outputId": "23e63779-365b-415a-be89-3d9514c2ec65"
   },
   "outputs": [
    {
     "name": "stdout",
     "output_type": "stream",
     "text": [
      "result  1 =============================\n",
      "Looking for a job can be very stressful, but it doesn’t have to be. Begin by writing a good resume with        appropriate keywords for your occupation. Second, target your job search for positions that match your        needs.\n",
      "=============================\n",
      "result  2 =============================\n",
      "The process of searching for a job can be very stressful, but it doesn’t have to be. Start with a        well-written resume that has appropriate keywords for your occupation. Next, conduct a targeted job search        for positions that meet your needs.\n",
      "=============================\n",
      "result  3 =============================\n",
      "Gardening in mixed beds is a great way to get the most productivity from a small space. Some investment        is required, to purchase materials for the beds themselves, as well as soil and compost. The        investment will likely pay-off in terms of increased productivity.\n",
      "=============================\n"
     ]
    }
   ],
   "source": [
    "k=1\n",
    "for i in res[-1:-4:-1]:\n",
    "    print(\"result \", k, \"=============================\")\n",
    "    print(data[i[0]])\n",
    "    print(\"=============================\")\n",
    "    k+=1"
   ]
  },
  {
   "cell_type": "code",
   "execution_count": 52,
   "metadata": {
    "id": "nup7KEPjvK4B"
   },
   "outputs": [],
   "source": [
    "similar_doc = model.docvecs.most_similar('0')"
   ]
  },
  {
   "cell_type": "code",
   "execution_count": 53,
   "metadata": {
    "colab": {
     "base_uri": "https://localhost:8080/"
    },
    "id": "Nkj0gXBVvVtC",
    "outputId": "84d18c05-eca9-4318-8517-570b93839ca9"
   },
   "outputs": [
    {
     "name": "stdout",
     "output_type": "stream",
     "text": [
      "[('2', 0.999376118183136), ('1', 0.9992620348930359)]\n"
     ]
    }
   ],
   "source": [
    "print(similar_doc)"
   ]
  },
  {
   "cell_type": "code",
   "execution_count": 54,
   "metadata": {
    "colab": {
     "base_uri": "https://localhost:8080/",
     "height": 53
    },
    "id": "Bt6usxQjwmlj",
    "outputId": "e63b8eed-c040-4753-b870-add691d8576d"
   },
   "outputs": [
    {
     "data": {
      "text/plain": [
       "'Looking for a job can be very stressful, but it doesn’t have to be. Begin by writing a good resume with        appropriate keywords for your occupation. Second, target your job search for positions that match your        needs.'"
      ]
     },
     "execution_count": 54,
     "metadata": {},
     "output_type": "execute_result"
    }
   ],
   "source": [
    "data[int(similar_doc[0][0])]"
   ]
  },
  {
   "cell_type": "code",
   "execution_count": null,
   "metadata": {
    "id": "4GxWjs16yfgX"
   },
   "outputs": [],
   "source": []
  },
  {
   "cell_type": "code",
   "execution_count": null,
   "metadata": {},
   "outputs": [],
   "source": []
  },
  {
   "cell_type": "code",
   "execution_count": null,
   "metadata": {},
   "outputs": [],
   "source": []
  },
  {
   "cell_type": "code",
   "execution_count": null,
   "metadata": {},
   "outputs": [],
   "source": []
  },
  {
   "cell_type": "code",
   "execution_count": null,
   "metadata": {},
   "outputs": [],
   "source": []
  }
 ],
 "metadata": {
  "colab": {
   "name": "word2vec.ipynb",
   "provenance": []
  },
  "kernelspec": {
   "display_name": "Python 3 (ipykernel)",
   "language": "python",
   "name": "python3"
  },
  "language_info": {
   "codemirror_mode": {
    "name": "ipython",
    "version": 3
   },
   "file_extension": ".py",
   "mimetype": "text/x-python",
   "name": "python",
   "nbconvert_exporter": "python",
   "pygments_lexer": "ipython3",
   "version": "3.9.7"
  }
 },
 "nbformat": 4,
 "nbformat_minor": 1
}
